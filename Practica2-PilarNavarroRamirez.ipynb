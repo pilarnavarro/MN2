{
 "cells": [
  {
   "cell_type": "markdown",
   "metadata": {},
   "source": [
    "# Práctica 2"
   ]
  },
  {
   "cell_type": "markdown",
   "metadata": {},
   "source": [
    "##### Autor: Pilar Navarro Ramírez"
   ]
  },
  {
   "cell_type": "code",
   "execution_count": 272,
   "metadata": {},
   "outputs": [
    {
     "data": {
      "application/json": {
       "Software versions": [
        {
         "module": "Python",
         "version": "3.5.2 64bit [GCC 5.4.0 20160609]"
        },
        {
         "module": "IPython",
         "version": "7.4.0"
        },
        {
         "module": "OS",
         "version": "Linux 4.15.0 99 generic x86_64 with Ubuntu 16.04 xenial"
        },
        {
         "module": "numpy",
         "version": "1.16.3"
        },
        {
         "module": "matplotlib",
         "version": "3.0.3"
        },
        {
         "module": "sympy",
         "version": "1.5.1"
        }
       ]
      },
      "text/html": [
       "<table><tr><th>Software</th><th>Version</th></tr><tr><td>Python</td><td>3.5.2 64bit [GCC 5.4.0 20160609]</td></tr><tr><td>IPython</td><td>7.4.0</td></tr><tr><td>OS</td><td>Linux 4.15.0 99 generic x86_64 with Ubuntu 16.04 xenial</td></tr><tr><td>numpy</td><td>1.16.3</td></tr><tr><td>matplotlib</td><td>3.0.3</td></tr><tr><td>sympy</td><td>1.5.1</td></tr><tr><td colspan='2'>Sun May 10 15:11:36 2020 CEST</td></tr></table>"
      ],
      "text/latex": [
       "\\begin{tabular}{|l|l|}\\hline\n",
       "{\\bf Software} & {\\bf Version} \\\\ \\hline\\hline\n",
       "Python & 3.5.2 64bit [GCC 5.4.0 20160609] \\\\ \\hline\n",
       "IPython & 7.4.0 \\\\ \\hline\n",
       "OS & Linux 4.15.0 99 generic x86\\_64 with Ubuntu 16.04 xenial \\\\ \\hline\n",
       "numpy & 1.16.3 \\\\ \\hline\n",
       "matplotlib & 3.0.3 \\\\ \\hline\n",
       "sympy & 1.5.1 \\\\ \\hline\n",
       "\\hline \\multicolumn{2}{|l|}{Sun May 10 15:11:36 2020 CEST} \\\\ \\hline\n",
       "\\end{tabular}\n"
      ],
      "text/plain": [
       "Software versions\n",
       "Python 3.5.2 64bit [GCC 5.4.0 20160609]\n",
       "IPython 7.4.0\n",
       "OS Linux 4.15.0 99 generic x86_64 with Ubuntu 16.04 xenial\n",
       "numpy 1.16.3\n",
       "matplotlib 3.0.3\n",
       "sympy 1.5.1\n",
       "Sun May 10 15:11:36 2020 CEST"
      ]
     },
     "execution_count": 272,
     "metadata": {},
     "output_type": "execute_result"
    }
   ],
   "source": [
    "# Cargando el fichero version_information.py\n",
    "# alojado el directorio de trabajo actual\n",
    "# podremos comprobar las versiones concretas\n",
    "# tanto del intérprete de Python, como de los\n",
    "# módulos empleados.\n",
    "\n",
    "%reload_ext version_information\n",
    "\n",
    "%version_information numpy, matplotlib, sympy"
   ]
  },
  {
   "cell_type": "markdown",
   "metadata": {},
   "source": [
    "## Ejercicios"
   ]
  },
  {
   "cell_type": "markdown",
   "metadata": {},
   "source": [
    "1.- Obtenga mediante interpolación en el espacio $\\mathbb{P}_2$ una fórmula para aproximar $f''(a)$ del tipo combinación\n",
    "de $f(a-h)$, $f(a)$ y $f(a+h)$."
   ]
  },
  {
   "cell_type": "code",
   "execution_count": 273,
   "metadata": {},
   "outputs": [],
   "source": [
    "import numpy as np # Importamos el módulo NumPy con el pseudónimo np\n",
    "import sympy as sp # Importamos el módulo SymPy con el pseudónimo sp"
   ]
  },
  {
   "cell_type": "code",
   "execution_count": 274,
   "metadata": {},
   "outputs": [],
   "source": [
    "f = sp.Function('f')\n",
    "a,h = sp.symbols('a,h')\n",
    "z=sp.Symbol('z')\n",
    "x = [a-h,a,a+h] #Nodos de interpolación\n",
    "y = [f(x[0]),f(x[1]),f(x[2])]  # y los valores interpolados\n",
    "D = sp.Symbol('D')   # D será la correspondiente diferencia dividida"
   ]
  },
  {
   "cell_type": "code",
   "execution_count": 275,
   "metadata": {},
   "outputs": [
    {
     "data": {
      "text/latex": [
       "$\\displaystyle D \\left(- a + z\\right) \\left(- a + h + z\\right) + f{\\left(a - h \\right)} + \\frac{\\left(f{\\left(a \\right)} - f{\\left(a - h \\right)}\\right) \\left(- a + h + z\\right)}{h}$"
      ],
      "text/plain": [
       "D*(-a + z)*(-a + h + z) + f(a - h) + (f(a) - f(a - h))*(-a + h + z)/h"
      ]
     },
     "execution_count": 275,
     "metadata": {},
     "output_type": "execute_result"
    }
   ],
   "source": [
    "p0 = y[0]  # vamos a ir construyendo el polinomio de interpolación\n",
    "p1 = p0 + (z-x[0])/(x[1]-x[0])*(y[1]-y[0]) # usando la idea de Newton\n",
    "p2 = p1 + (z-x[0])*(z-x[1])*D # D = f[x0,x1,x2]\n",
    "p2  # ya tenemos la expresión genérica de dicho polinomio de grado 2"
   ]
  },
  {
   "cell_type": "code",
   "execution_count": 276,
   "metadata": {},
   "outputs": [
    {
     "data": {
      "text/plain": [
       "(True, True)"
      ]
     },
     "execution_count": 276,
     "metadata": {},
     "output_type": "execute_result"
    }
   ],
   "source": [
    "#Comprobamos que la expresión obtenida interpola y_0 e y_1, \n",
    "p2.subs({z:x[0]})==y[0],p2.subs({z:x[1]})==y[1] "
   ]
  },
  {
   "cell_type": "code",
   "execution_count": 277,
   "metadata": {},
   "outputs": [
    {
     "data": {
      "text/plain": [
       "[(-2*f(a) + f(a - h) + f(a + h))/(2*h**2)]"
      ]
     },
     "execution_count": 277,
     "metadata": {},
     "output_type": "execute_result"
    }
   ],
   "source": [
    "# Garantizamos ahora que p(x2) = y2\n",
    "sol2=sp.solve(p2.subs({z:x[2]})-y[2],D)  # para ello resolvemos esta ecuación y despejamos D\n",
    "sol2 "
   ]
  },
  {
   "cell_type": "code",
   "execution_count": 278,
   "metadata": {},
   "outputs": [
    {
     "data": {
      "text/latex": [
       "$\\displaystyle f{\\left(a - h \\right)} + \\frac{\\left(f{\\left(a \\right)} - f{\\left(a - h \\right)}\\right) \\left(- a + h + z\\right)}{h} + \\frac{\\left(- a + z\\right) \\left(- a + h + z\\right) \\left(- 2 f{\\left(a \\right)} + f{\\left(a - h \\right)} + f{\\left(a + h \\right)}\\right)}{2 h^{2}}$"
      ],
      "text/plain": [
       "f(a - h) + (f(a) - f(a - h))*(-a + h + z)/h + (-a + z)*(-a + h + z)*(-2*f(a) + f(a - h) + f(a + h))/(2*h**2)"
      ]
     },
     "execution_count": 278,
     "metadata": {},
     "output_type": "execute_result"
    }
   ],
   "source": [
    "#Obtenemos ya el polinomio de interpolación buscado\n",
    "D = sol2[0]\n",
    "p2 = p1 + (z-x[0])*(z-x[1])*D\n",
    "p2  "
   ]
  },
  {
   "cell_type": "code",
   "execution_count": 279,
   "metadata": {},
   "outputs": [
    {
     "data": {
      "text/plain": [
       "True"
      ]
     },
     "execution_count": 279,
     "metadata": {},
     "output_type": "execute_result"
    }
   ],
   "source": [
    "#Comprobamos que efectivamente p2 también interpola y_2\n",
    "p2.subs({z:x[2]})==y[2] "
   ]
  },
  {
   "cell_type": "code",
   "execution_count": 280,
   "metadata": {},
   "outputs": [
    {
     "data": {
      "text/latex": [
       "$\\displaystyle \\frac{- 2 f{\\left(a \\right)} + f{\\left(a - h \\right)} + f{\\left(a + h \\right)}}{h^{2}}$"
      ],
      "text/plain": [
       "(-2*f(a) + f(a - h) + f(a + h))/h**2"
      ]
     },
     "execution_count": 280,
     "metadata": {},
     "output_type": "execute_result"
    }
   ],
   "source": [
    "#Finalmente, derivamos dos veces el polinomio de interpolación encontrado para aproximar\n",
    "#el valor de la derivada pedida\n",
    "sp.diff(p2,z,2) #No hace falta evaluar la derivada en el punto x=a, al ser esta constant directamente."
   ]
  },
  {
   "cell_type": "markdown",
   "metadata": {},
   "source": [
    "2.- Con la fórmula obtenida en el ejercicio 1, halle una tabla de aproximaciones y errores de $f_1''(2.5)$, siendo $f_1(x)=x^x$, para $h=10^{-i},\\; i=1,\\ldots,5.$"
   ]
  },
  {
   "cell_type": "code",
   "execution_count": 281,
   "metadata": {},
   "outputs": [],
   "source": [
    "import numpy as np # Importamos el módulo NumPy con el pseudónimo np\n",
    "import sympy as sp # Importamos el módulo SymPy con el pseudónimo sp"
   ]
  },
  {
   "cell_type": "code",
   "execution_count": 282,
   "metadata": {},
   "outputs": [
    {
     "name": "stdout",
     "output_type": "stream",
     "text": [
      "(-2*f(a) + f(a - h) + f(a + h))/h**2\n"
     ]
    }
   ],
   "source": [
    "print(_)"
   ]
  },
  {
   "cell_type": "code",
   "execution_count": 283,
   "metadata": {},
   "outputs": [],
   "source": [
    "z = sp.Symbol('z')\n",
    "h = sp.Symbol('h')\n",
    "\n",
    "def f(z):\n",
    "    return z**z\n",
    "\n",
    "def aprox(z):\n",
    "    return (-2*f(a) + f(a - h) + f(a + h))/h**2\n"
   ]
  },
  {
   "cell_type": "code",
   "execution_count": 284,
   "metadata": {},
   "outputs": [
    {
     "data": {
      "text/latex": [
       "$\\displaystyle 40.2416648563875$"
      ],
      "text/plain": [
       "40.2416648563875"
      ]
     },
     "execution_count": 284,
     "metadata": {},
     "output_type": "execute_result"
    }
   ],
   "source": [
    "a=2.5\n",
    "# El valor exacto de la segunda derivada de la función f en a sería el siguiente\n",
    "vexacto = (sp.diff(f(z),z,2)).subs({z:a}) \n",
    "vexacto"
   ]
  },
  {
   "cell_type": "code",
   "execution_count": 285,
   "metadata": {},
   "outputs": [
    {
     "name": "stdout",
     "output_type": "stream",
     "text": [
      "[40.4205682979583 40.2434502309390 40.2416827078866 40.2416647560244\n",
      " 40.2416411304784]\n"
     ]
    }
   ],
   "source": [
    "n=5 # Calculamos aproximaciones con la fórmula obtenida en el ejer1\n",
    "dersnum = np.array([aprox(z).subs({h:10**(-i)}) for i in range(1,n+1)])\n",
    "print(dersnum)  # con h desde 10^(-1) hasta el valor 10^(-n). "
   ]
  },
  {
   "cell_type": "code",
   "execution_count": 286,
   "metadata": {},
   "outputs": [
    {
     "name": "stdout",
     "output_type": "stream",
     "text": [
      "[0.178903441570853 0.00178537455153815 1.78514991731049e-5\n",
      " -1.00363052979446e-7 -2.37259090170028e-5]\n"
     ]
    }
   ],
   "source": [
    "#Errores cometidos en la aproximación\n",
    "errores = np.array(dersnum) - vexacto  \n",
    "print(errores)                      "
   ]
  },
  {
   "cell_type": "markdown",
   "metadata": {},
   "source": [
    "Vemos que al principio, a medida que $h$ disminuye, el error también disminuye, pero a partir de $10^{-5}$ el error aumenta de nuevo. El error mínimo se alcanza para $h=10^{-4}$"
   ]
  },
  {
   "cell_type": "markdown",
   "metadata": {},
   "source": [
    "3.- Sea $f_2(x)=\\frac{x^2+40}{x+\\sqrt{5x}+7}$. Calcule una tabla que recoja las derivadas de $f_2$ en $x_i=1,2,\\ldots,10$, utilizando alguna de las fórmulas de derivación numérica de primer orden obtenidas al inicio de la práctica, con $h=10^{-3}$, y muestre al mismo tiempo el error cometido en cada punto. Repita el ejercicio con la fórmula centrada obtenida para la derivada primera y, finalmente, para la obtenida en el ejercicio 1 (con respecto a la segunda derivada)."
   ]
  },
  {
   "cell_type": "code",
   "execution_count": 287,
   "metadata": {},
   "outputs": [],
   "source": [
    "import numpy as np # Importamos el módulo NumPy con el pseudónimo np\n",
    "import sympy as sp # Importamos el módulo SymPy con el pseudónimo sp\n",
    "import math"
   ]
  },
  {
   "cell_type": "code",
   "execution_count": 288,
   "metadata": {},
   "outputs": [
    {
     "name": "stdout",
     "output_type": "stream",
     "text": [
      "\n",
      "Valores exactos de la derivada: \n",
      " [-0.633413841504903 -0.203729991363422 0.0135536765957583\n",
      " 0.152356382446352 0.250865051903114 0.325234486346073 0.383753089267232\n",
      " 0.431201820656649 0.470566739057635 0.503824070415537]\n"
     ]
    }
   ],
   "source": [
    "h = 10**(-3)\n",
    "z = sp.Symbol('z')\n",
    "a = sp.Symbol('a')\n",
    "\n",
    "def f1(z):\n",
    "    return (z**2+40)/(z+sp.sqrt(5*z)+7)\n",
    "\n",
    "# Valor exacto de la derivada de la función f1 en xi para i=1..10\n",
    "vexacto = np.array([sp.N(sp.diff(f1(z),z).subs({z:x})) for x in range(1,11)])\n",
    "print(\"\\nValores exactos de la derivada: \\n\", vexacto)"
   ]
  },
  {
   "cell_type": "code",
   "execution_count": 289,
   "metadata": {},
   "outputs": [
    {
     "name": "stdout",
     "output_type": "stream",
     "text": [
      "\n",
      "Aproximaciones: \n",
      " [-0.633075850823062 -0.203588411025635 0.0136378345438892\n",
      " 0.152413829637599 0.250907359192531 0.325267201964685 0.383779273533058\n",
      " 0.431223324794061 0.470584759050041 0.503839418134255]\n",
      "\n",
      "Errores: \n",
      " [0.000337990681840927 0.000141580337787411 8.41579481309467e-5\n",
      " 5.74471912467567e-5 4.23072894172871e-5 3.27156186126221e-5\n",
      " 2.61842658260125e-5 2.15041374120317e-5 1.80199924059155e-5\n",
      " 1.53477187179174e-5]\n"
     ]
    }
   ],
   "source": [
    "#Fórmula de derivación númerica no centrada con nodos [a,a+h] \n",
    "def aprox1(z):\n",
    "    return (f1(z+h)-f1(z))/h\n",
    "\n",
    "#Valores aproximados de la derivada usando la fórmula de derivación numérica\n",
    "dersnum = np.array([aprox1(float(x)) for x in range(1,11)])\n",
    "print(\"\\nAproximaciones: \\n\", dersnum)\n",
    "\n",
    "#Errores cometidos\n",
    "errores = np.array(dersnum) - vexacto\n",
    "print(\"\\nErrores: \\n\", errores)"
   ]
  },
  {
   "cell_type": "code",
   "execution_count": 290,
   "metadata": {},
   "outputs": [
    {
     "name": "stdout",
     "output_type": "stream",
     "text": [
      "\n",
      "Aproximaciones: \n",
      " [-0.633413983453845 -0.203730021215875 0.0135536643823819\n",
      " 0.152356375979767 0.250865047976889 0.325234483748549 0.383753087445982\n",
      " 0.431201819322435 0.470566738047573 0.503824069630454]\n",
      "\n",
      "Errores: \n",
      " [-1.41948942933290e-7 -2.98524533148825e-8 -1.22133763554022e-8\n",
      " -6.46658451786131e-9 -3.92622495626327e-9 -2.59752375164624e-9\n",
      " -1.82125048375781e-9 -1.33421368397890e-9 -1.01006214503485e-9\n",
      " -7.85083331678038e-10]\n"
     ]
    }
   ],
   "source": [
    "#Fórmula de derivación númerica centrada con tres nodos [a-h,a,a+h] \n",
    "def aprox2(z):\n",
    "    return (-f1(z - h) + f1(z + h))/(2*h)\n",
    "\n",
    "#Valores aproximados de la derivada usando la fórmula de derivación numérica\n",
    "dersnum = np.array([aprox2(float(x)) for x in range(1,11)])\n",
    "print(\"\\nAproximaciones: \\n\", dersnum)\n",
    "\n",
    "#Errores cometidos\n",
    "errores = np.array(dersnum) - vexacto\n",
    "print(\"\\nErrores: \\n\", errores)"
   ]
  },
  {
   "cell_type": "code",
   "execution_count": 291,
   "metadata": {},
   "outputs": [
    {
     "name": "stdout",
     "output_type": "stream",
     "text": [
      "\n",
      "Valores exactos de la derivada segunda: \n",
      " [0.676265098285376 0.283220364176106 0.168340319928121 0.114907312895053\n",
      " 0.0846224302869937 0.0654364313639429 0.0523721743690358\n",
      " 0.0430109449028751 0.0360420057237485 0.0306970066620211]\n",
      "\n",
      "Aproximaciones: \n",
      " [0.676265261567721 0.283220380481453 0.168340323014604 0.114907315662549\n",
      " 0.0846224312844868 0.0654364322727474 0.0523721741529926\n",
      " 0.0430109432514314 0.0360420049361210 0.0306970076024982]\n",
      "\n",
      "Errores: \n",
      " [1.63282345200244e-7 1.63053464619090e-8 3.08648312463689e-9\n",
      " 2.76749587135861e-9 9.97493074250677e-10 9.08804476118519e-10\n",
      " -2.16043224976481e-10 -1.65144369013159e-9 -7.87627567333526e-10\n",
      " 9.40477102445714e-10]\n"
     ]
    }
   ],
   "source": [
    "#Fórmula de derivación númerica obtenida en el ejercicio 1 \n",
    "\n",
    "# Valor exacto de la derivada segunda de la función f1 en xi para i=1..10\n",
    "vexacto = np.array([sp.N(sp.diff(f1(z),z,2).subs({z:x})) for x in range(1,11)])\n",
    "print(\"\\nValores exactos de la derivada segunda: \\n\", vexacto)\n",
    "\n",
    "def aprox3(z):\n",
    "    return (-2*f1(z) + f1(z - h) + f1(z + h))/h**2\n",
    "\n",
    "#Valores aproximados de la derivada usando la fórmula de derivación numérica\n",
    "dersnum = np.array([aprox3(float(x)) for x in range(1,11)])\n",
    "print(\"\\nAproximaciones: \\n\", dersnum)\n",
    "\n",
    "#Errores cometidos\n",
    "errores = np.array(dersnum) - vexacto\n",
    "print(\"\\nErrores: \\n\", errores)"
   ]
  },
  {
   "cell_type": "markdown",
   "metadata": {},
   "source": [
    "Observamos que los errores cometidos son mucho menores con la fórmula centrada que con la no centrada, puesto que la centrada tiene un orden de exactitud mayor."
   ]
  },
  {
   "cell_type": "markdown",
   "metadata": {},
   "source": [
    "4.- Divida el intervalo $[1,2]$ en 100 partes iguales y aplique las fórmulas del rectángulo, Simpson y trapecio compuestas para aproximar la integral en dicho intervalo de $f_1$. Compare dichos resultados.\n"
   ]
  },
  {
   "cell_type": "code",
   "execution_count": 292,
   "metadata": {},
   "outputs": [],
   "source": [
    "import numpy as np # Importamos el módulo NumPy con el pseudónimo np\n",
    "import sympy as sp # Importamos el módulo SymPy con el pseudónimo sp\n",
    "import scipy.integrate as sc # Importamos el módulo SciPy.integrate con el pseudónimo sc\n",
    "import math"
   ]
  },
  {
   "cell_type": "code",
   "execution_count": 293,
   "metadata": {},
   "outputs": [],
   "source": [
    "def formrectangizda(f,a,b,nx):\n",
    "    \"\"\"fórmula compuesta de los rectangulos a izquierda\"\"\"\n",
    "    h = (b-a)/nx\n",
    "    return h*sum([f(a+i*h) for i in range(0,nx)])\n",
    "\n",
    "def formrectangdcha(f,a,b,nx):\n",
    "    \"\"\"fórmula compuesta de los rectangulos a la derecha\"\"\"\n",
    "    h = (b-a)/nx\n",
    "    return h*sum([f(a+(i+1)*h) for i in range(0,nx)])\n",
    "\n",
    "def formtrapecios(f,a,b,nx):\n",
    "    \"\"\"fórmula compuesta de los trapecios\"\"\"\n",
    "    h = (b-a)/nx\n",
    "    return h/2*(f(a)+2*sum([f(a+i*h) for i in range(1,nx)])+f(b))\n",
    "\n",
    "def Simpsoncompuesta(f,a,b,m):\n",
    "    \"\"\"fórmula de Simpson compuesta\"\"\"\n",
    "    h= (b-a)/(2*m)\n",
    "    P = sum([f(a+2*i*h) for i in range(1,m)])\n",
    "    I = sum([f(a+(2*i-1)*h) for i in range(1,m+1)])\n",
    "    E = f(a)+f(b)\n",
    "    return h/3*(E+2*P+4*I)"
   ]
  },
  {
   "cell_type": "code",
   "execution_count": 294,
   "metadata": {},
   "outputs": [
    {
     "name": "stdout",
     "output_type": "stream",
     "text": [
      "\n",
      "Valor exacto : \n",
      " 2.050446234534731\n",
      "\n",
      "Fórmula rectangulo izquierda compuesta : \n",
      " 2.0354943390855573\n",
      "\n",
      "Fórmula rectangulo derecha compuesta : \n",
      " 2.065494339085557\n",
      "\n",
      "Fórmula trapecio compuesta : \n",
      " 2.0504943390855574\n",
      "\n",
      "Fórmula Simpson compuesta : \n",
      " 2.050446235955426\n"
     ]
    }
   ],
   "source": [
    "a=1;b=2;n=100\n",
    "z = sp.Symbol('z')\n",
    "\n",
    "print(\"\\nValor exacto : \\n\", sc.quad(lambda x:x**x,1,2)[0])\n",
    "print(\"\\nFórmula rectangulo izquierda compuesta : \\n\",formrectangizda(lambda z:z**z,a,b,n))\n",
    "print(\"\\nFórmula rectangulo derecha compuesta : \\n\",formrectangdcha(lambda z:z**z,a,b,n))\n",
    "print(\"\\nFórmula trapecio compuesta : \\n\",formtrapecios(lambda z:z**z,a,b,n))\n",
    "print(\"\\nFórmula Simpson compuesta : \\n\",Simpsoncompuesta(lambda z:z**z,a,b,int(n/2)))"
   ]
  },
  {
   "cell_type": "markdown",
   "metadata": {},
   "source": [
    "Observamos que las apoximaciones con las fórmulas compuestas del rectángulo izquierda y rectángulo derecha son las peores, seguidas por la fórmula compuesta del trapecio, que nos da una aproximación con 4 decimales exactos, siendo la mejor aproximación la obtenida con la fórmula de Simpson compuesta con la que obtenemos 8 decimales exactos en la aproximación."
   ]
  },
  {
   "cell_type": "markdown",
   "metadata": {},
   "source": [
    "5.- Repita el ejercicio 4 para $f_2$."
   ]
  },
  {
   "cell_type": "code",
   "execution_count": 15,
   "metadata": {},
   "outputs": [],
   "source": [
    "import numpy as np # Importamos el módulo NumPy con el pseudónimo np\n",
    "import sympy as sp # Importamos el módulo SymPy con el pseudónimo sp\n",
    "import math"
   ]
  },
  {
   "cell_type": "code",
   "execution_count": 16,
   "metadata": {},
   "outputs": [],
   "source": [
    "def formrectangizda(f,a,b,nx):\n",
    "    \"\"\"fórmula compuesta de los rectangulos a izquierda\"\"\"\n",
    "    h = (b-a)/nx\n",
    "    return h*sum([f(a+i*h) for i in range(0,nx)])\n",
    "\n",
    "def formrectangdcha(f,a,b,nx):\n",
    "    \"\"\"fórmula compuesta de los rectangulos a la derecha\"\"\"\n",
    "    h = (b-a)/nx\n",
    "    return h*sum([f(a+(i+1)*h) for i in range(0,nx)])\n",
    "\n",
    "def formtrapecios(f,a,b,nx):\n",
    "    \"\"\"fórmula compuesta de los trapecios\"\"\"\n",
    "    h = (b-a)/nx\n",
    "    return h/2*(f(a)+2*sum([f(a+i*h) for i in range(1,nx)])+f(b))\n",
    "\n",
    "def Simpsoncompuesta(f,a,b,m):\n",
    "    \"\"\"fórmula de Simpson compuesta\"\"\"\n",
    "    h= (b-a)/(2*m)\n",
    "    P = sum([f(a+2*i*h) for i in range(1,m)])\n",
    "    I = sum([f(a+(2*i-1)*h) for i in range(1,m+1)])\n",
    "    E = f(a)+f(b)\n",
    "    return h/3*(E+2*P+4*I)"
   ]
  },
  {
   "cell_type": "code",
   "execution_count": 17,
   "metadata": {},
   "outputs": [
    {
     "name": "stdout",
     "output_type": "stream",
     "text": [
      "\n",
      "Valor exacto : \n",
      " 3.00000000000000\n",
      "\n",
      "Fórmula rectangulo izquierda compuesta : \n",
      " 3.0\n",
      "\n",
      "Fórmula rectangulo derecha compuesta : \n",
      " 3.0\n",
      "\n",
      "Fórmula trapecio compuesta : \n",
      " 3.00000000000000\n",
      "\n",
      "Fórmula Simpson compuesta : \n",
      " 2.66666666666667\n"
     ]
    }
   ],
   "source": [
    "a=-1;b=1;n=2\n",
    "z = sp.Symbol('z')\n",
    "def f2(z):\n",
    "    return abs(z)+1\n",
    "\n",
    "print(\"\\nValor exacto : \\n\", sp.N(sp.integrate(f2(z),[z,-1,1])))\n",
    "print(\"\\nFórmula rectangulo izquierda compuesta : \\n\",formrectangizda(f2,a,b,n))\n",
    "print(\"\\nFórmula rectangulo derecha compuesta : \\n\",formrectangdcha(f2,a,b,n))\n",
    "print(\"\\nFórmula trapecio compuesta : \\n\",sp.N(formtrapecios(f2,a,b,n)))\n",
    "print(\"\\nFórmula Simpson compuesta : \\n\", sp.N(Simpsoncompuesta(f2,a,b,int(n/2))))"
   ]
  },
  {
   "cell_type": "markdown",
   "metadata": {},
   "source": [
    "Podemos observar que todas las fórmulas nos dan un valor muy próximo a la solución exacta, siendo las aproximaciones por las fórmulas compuestas del rectángulo izquierda y rectángulo derecha un poco peores, pues sabemos que estas fórmulas tienen grado de exactitud 0. La mejor aproximación de todas es por la fórmula compuesta de Simpson, que tiene grado de exactitud 3, seguida por la del Trapecio, exacta en $\\mathbb{P}_1$"
   ]
  },
  {
   "cell_type": "markdown",
   "metadata": {},
   "source": [
    "6.- Sea $f_3(x)=x^{15} e^x$ en $[0,2]$. Vamos a dividir el intervalo en $10\\times 2^n$ subintervalos, es decir, $10,\\,20,\\,40,\\, 80,\\ldots $ y a aplicar la fórmula de Simpson compuesta hasta que la diferencia entre dos aproximaciones consecutivas (por ejemplo, podrían\n",
    "ser con $20$ y $40$ subintervalos) sea menor que $10^{-2}$, dando en tal caso por buena la última aproximación obtenida. Programe\n",
    "y calcule dicha aproximación. Compare ambas aproximaciones con\n",
    "el valor exacto."
   ]
  },
  {
   "cell_type": "code",
   "execution_count": 298,
   "metadata": {},
   "outputs": [],
   "source": [
    "import numpy as np # Importamos el módulo NumPy con el pseudónimo np\n",
    "import sympy as sp # Importamos el módulo SymPy con el pseudónimo sp\n",
    "import math"
   ]
  },
  {
   "cell_type": "code",
   "execution_count": 299,
   "metadata": {},
   "outputs": [],
   "source": [
    "def Simpsoncompuesta(f,a,b,m):\n",
    "    \"\"\"fórmula de Simpson compuesta\"\"\"\n",
    "    h= (b-a)/(2*m)\n",
    "    P = sum([f(a+2*i*h) for i in range(1,m)])\n",
    "    I = sum([f(a+(2*i-1)*h) for i in range(1,m+1)])\n",
    "    E = f(a)+f(b)\n",
    "    return h/3*(E+2*P+4*I)\n",
    "\n",
    "z = sp.Symbol('z')\n",
    "\n",
    "def f(z):\n",
    "    return (z**15)*sp.exp(z)\n",
    "\n",
    "vexacto=sp.N(sp.integrate(f(z),[z,a,b]))"
   ]
  },
  {
   "cell_type": "code",
   "execution_count": 300,
   "metadata": {},
   "outputs": [
    {
     "name": "stdout",
     "output_type": "stream",
     "text": [
      "\n",
      "Valor exacto: \n",
      " 27062.5419875907\n",
      "\n",
      "Aproximaciones obtenidas: \n",
      "Penúltima aproximación -  27062.7034855828 \n",
      "Última aproximación -  27062.7024808912\n",
      "\n",
      "Errores cometidos con las aproximaciones: \n",
      "Penúltima aproximación -  0.161497992103250 \n",
      "Última aproximación -  0.160493300543749\n"
     ]
    }
   ],
   "source": [
    "a = 0 ; b = 2; i=2\n",
    "nxx0=10 \n",
    "xx0= np.linspace(a,b,nxx0)\n",
    "nxx1=10*2\n",
    "xx1 = np.linspace(a,b,nxx1)\n",
    "aprox0 = sp.N(Simpsoncompuesta(f,a,b,nxx0))\n",
    "aprox1 = sp.N(Simpsoncompuesta(f,a,b,nxx1))\n",
    "\n",
    "while (abs(aprox0-aprox1)>=10**(-2)):    \n",
    "    nxx=10*(2**i)\n",
    "    xx = np.linspace(a,b,nxx)  \n",
    "    aprox0 = aprox1\n",
    "    aprox1 = sp.N(Simpsoncompuesta(f,a,b,nxx))\n",
    "    i=i+1\n",
    "    \n",
    "\n",
    "print(\"\\nValor exacto: \\n\",vexacto )\n",
    "print(\"\\nAproximaciones obtenidas: \\nPenúltima aproximación - \",aprox0,\"\\nÚltima aproximación - \", aprox1)\n",
    "print(\"\\nErrores cometidos con las aproximaciones: \\nPenúltima aproximación - \", abs(vexacto-aprox0), \"\\nÚltima aproximación - \", abs(vexacto-aprox1))"
   ]
  },
  {
   "cell_type": "markdown",
   "metadata": {},
   "source": [
    "7.- Calcule las fórmulas gaussianas con $2$ y $3$ nodos,en el intervalo $[-1,1]$, siendo la función peso el valor absoluto de la variable. Aplíquelas para aproximar la función $x\\; e^x$ en $[-1,1]$ y compare los resultados con el valor exacto (organizando los cálculos de forma adecuada)."
   ]
  },
  {
   "cell_type": "code",
   "execution_count": 301,
   "metadata": {},
   "outputs": [],
   "source": [
    "import numpy as np # Importamos el módulo NumPy con el pseudónimo np\n",
    "import sympy as sp # Importamos el módulo SymPy con el pseudónimo sp\n",
    "import math"
   ]
  },
  {
   "cell_type": "code",
   "execution_count": 302,
   "metadata": {},
   "outputs": [],
   "source": [
    "a = -1 ; b = 1\n",
    "x = sp.Symbol('x')\n",
    "z = sp.Symbol('z')\n",
    "g=sp.Function('g')\n",
    "\n",
    "def w(x):\n",
    "    return abs(x)\n",
    "\n",
    "def f(x):\n",
    "    return x*sp.exp(x)\n",
    "\n",
    "vexacto=sp.N(sp.integrate(f(x),[x,a,b]))"
   ]
  },
  {
   "cell_type": "markdown",
   "metadata": {},
   "source": [
    "###### Fórmula gaussiana con 2 nodos"
   ]
  },
  {
   "cell_type": "code",
   "execution_count": 303,
   "metadata": {},
   "outputs": [
    {
     "name": "stdout",
     "output_type": "stream",
     "text": [
      "\n",
      "Lista de incógnitas:\n",
      " [c0, c1, p0, p1]\n",
      "\n",
      "Ecuaciones a resolver:\n",
      " [c0 + c1 - 1, c0*p0 + c1*p1, c0*p0**2 + c1*p1**2 - 1/2, c0*p0**3 + c1*p1**3]\n",
      "\n",
      "Coeficientes:\n",
      " [1/2, 1/2]\n",
      "\n",
      "Nodos:\n",
      " [-sqrt(2)/2, sqrt(2)/2]\n",
      "\n",
      "Fórmula gaussiana con 2 nodos:\n",
      "\n"
     ]
    },
    {
     "data": {
      "text/latex": [
       "$\\displaystyle \\frac{g{\\left(- \\frac{\\sqrt{2}}{2} \\right)}}{2} + \\frac{g{\\left(\\frac{\\sqrt{2}}{2} \\right)}}{2}$"
      ],
      "text/plain": [
       "g(-sqrt(2)/2)/2 + g(sqrt(2)/2)/2"
      ]
     },
     "execution_count": 303,
     "metadata": {},
     "output_type": "execute_result"
    }
   ],
   "source": [
    "n = 2\n",
    "grexact = 2*n-1\n",
    "p = sp.symbols('p0:'+ str(n)) # generamos una tupla de n nodos\n",
    "nodos = list(p)\n",
    "c = sp.symbols('c0:'+ str(n)) # generamos una tupla de n coeficientes\n",
    "coefs = list(c)\n",
    "incogs = coefs + nodos # lista completa de incógnitas\n",
    "print(\"\\nLista de incógnitas:\\n\",incogs)\n",
    "\n",
    "ecs = [np.dot([(z**i).subs({z:nodos[j]}) for j in range(n)],coefs)-sp.integrate(w(x)*x**i,(x,a,b)) for i in range(grexact+1)]\n",
    "print(\"\\nEcuaciones a resolver:\\n\",ecs)\n",
    "\n",
    "solsGauss = sp.solve(ecs,incogs)\n",
    "\n",
    "for i in range(n):   \n",
    "    coefs[i] = solsGauss[0][i]  \n",
    "print(\"\\nCoeficientes:\\n\",coefs)\n",
    "\n",
    "for i in range(n):   # Y así le asignaríamos a los nodos\n",
    "    nodos[i] = solsGauss[0][n+i] # las soluciones obtenidas\n",
    "print(\"\\nNodos:\\n\",nodos)\n",
    "\n",
    "formGauss = np.dot([g(nodos[i]) for i in range(n)],coefs) \n",
    "print(\"\\nFórmula gaussiana con 2 nodos:\\n\")\n",
    "formGauss"
   ]
  },
  {
   "cell_type": "code",
   "execution_count": 304,
   "metadata": {},
   "outputs": [
    {
     "name": "stdout",
     "output_type": "stream",
     "text": [
      "\n",
      "Valor exacto:\n",
      " 0.735758882342885\n",
      "\n",
      "Aproximación obtenida:\n",
      " 0.542720820636303\n",
      "\n",
      "Error cometido:\n",
      " 0.193038061706581\n"
     ]
    }
   ],
   "source": [
    "aprox = sp.N(np.dot([f(nodos[i]) for i in range(n)],coefs) )\n",
    "\n",
    "print(\"\\nValor exacto:\\n\",vexacto)\n",
    "print(\"\\nAproximación obtenida:\\n\",aprox)\n",
    "print(\"\\nError cometido:\\n\",abs(aprox-vexacto))"
   ]
  },
  {
   "cell_type": "markdown",
   "metadata": {},
   "source": [
    "###### Fórmula gaussiana con 3 nodos"
   ]
  },
  {
   "cell_type": "code",
   "execution_count": 305,
   "metadata": {},
   "outputs": [
    {
     "name": "stdout",
     "output_type": "stream",
     "text": [
      "\n",
      "Lista de incógnitas:\n",
      " [c0, c1, c2, p0, p1, p2]\n",
      "\n",
      "Ecuaciones a resolver:\n",
      " [c0 + c1 + c2 - 1, c0*p0 + c1*p1 + c2*p2, c0*p0**2 + c1*p1**2 + c2*p2**2 - 1/2, c0*p0**3 + c1*p1**3 + c2*p2**3, c0*p0**4 + c1*p1**4 + c2*p2**4 - 1/3, c0*p0**5 + c1*p1**5 + c2*p2**5]\n",
      "\n",
      "Coeficientes:\n",
      " [1/4, 3/8, 3/8]\n",
      "\n",
      "Nodos:\n",
      " [0, -sqrt(6)/3, sqrt(6)/3]\n",
      "\n",
      "Fórmula gaussiana con 3 nodos:\n",
      "\n"
     ]
    },
    {
     "data": {
      "text/latex": [
       "$\\displaystyle \\frac{g{\\left(0 \\right)}}{4} + \\frac{3 g{\\left(- \\frac{\\sqrt{6}}{3} \\right)}}{8} + \\frac{3 g{\\left(\\frac{\\sqrt{6}}{3} \\right)}}{8}$"
      ],
      "text/plain": [
       "g(0)/4 + 3*g(-sqrt(6)/3)/8 + 3*g(sqrt(6)/3)/8"
      ]
     },
     "execution_count": 305,
     "metadata": {},
     "output_type": "execute_result"
    }
   ],
   "source": [
    "n = 3\n",
    "grexact = 2*n-1\n",
    "p = sp.symbols('p0:'+ str(n)) # generamos una tupla de n nodos\n",
    "nodos = list(p)\n",
    "c = sp.symbols('c0:'+ str(n)) # generamos una tupla de n coeficientes\n",
    "coefs = list(c)\n",
    "incogs = coefs + nodos # lista completa de incógnitas\n",
    "print(\"\\nLista de incógnitas:\\n\",incogs)\n",
    "\n",
    "ecs = [np.dot([(z**i).subs({z:nodos[j]}) for j in range(n)],coefs)-sp.integrate(w(x)*x**i,(x,a,b)) for i in range(grexact+1)]\n",
    "print(\"\\nEcuaciones a resolver:\\n\",ecs)\n",
    "\n",
    "solsGauss = sp.solve(ecs,incogs)\n",
    "\n",
    "for i in range(n):   \n",
    "    coefs[i] = solsGauss[0][i]  \n",
    "print(\"\\nCoeficientes:\\n\",coefs)\n",
    "\n",
    "for i in range(n):   # Y así le asignaríamos a los nodos\n",
    "    nodos[i] = solsGauss[0][n+i] # las soluciones obtenidas\n",
    "print(\"\\nNodos:\\n\",nodos)\n",
    "\n",
    "formGauss = np.dot([g(nodos[i]) for i in range(n)],coefs) \n",
    "print(\"\\nFórmula gaussiana con 3 nodos:\\n\")\n",
    "formGauss"
   ]
  },
  {
   "cell_type": "code",
   "execution_count": 306,
   "metadata": {},
   "outputs": [
    {
     "name": "stdout",
     "output_type": "stream",
     "text": [
      "\n",
      "Valor exacto:\n",
      " 0.735758882342885\n",
      "\n",
      "Aproximación obtenida:\n",
      " 0.557437075708894\n",
      "\n",
      "Error cometido:\n",
      " 0.178321806633991\n"
     ]
    }
   ],
   "source": [
    "aprox = sp.N(np.dot([f(nodos[i]) for i in range(n)],coefs) ) \n",
    "\n",
    "\n",
    "print(\"\\nValor exacto:\\n\",vexacto)\n",
    "print(\"\\nAproximación obtenida:\\n\",aprox)\n",
    "print(\"\\nError cometido:\\n\",abs(aprox-vexacto))"
   ]
  },
  {
   "cell_type": "markdown",
   "metadata": {},
   "source": [
    "8.- Programar las técnicas de integración de Romberg y adaptativa, para después aplicarlas a la aproximación de la siguiente integral $$\\int_a^b p(x)\\, dx$$\n",
    "siendo  $\\;a=\\displaystyle\\min_{0\\leq i\\leq 7}{d_i}$, $\\;b=\\displaystyle\\max_{0\\leq i\\leq 7}{d_i}$ y \n",
    "$$p(x)=d_0 + d_1 x + d_2 x^2 + d_3 x^3+ d_4 x^4 + d_5 x^5 + d_6 x^6 + d_7 x^7 $$\n",
    "(siendo $d_0, d_1, \\ldots, d_7$ los dígitos de su DNI, pasaporte o tarjeta de residente)."
   ]
  },
  {
   "cell_type": "code",
   "execution_count": 307,
   "metadata": {},
   "outputs": [],
   "source": [
    "import numpy as np # Importamos el módulo NumPy con el pseudónimo np\n",
    "import sympy as sp # Importamos el módulo SymPy con el pseudónimo sp\n",
    "import scipy.integrate as sc # Importamos el módulo SciPy.integrate con el pseudónimo sc\n",
    "import math"
   ]
  },
  {
   "cell_type": "code",
   "execution_count": 308,
   "metadata": {},
   "outputs": [],
   "source": [
    "def Romberg(f, a, b, tol):\n",
    "    R = [[(b - a)*0.5* (f(a) + f(b))]]  # R[0][0]\n",
    "    print(R[0])\n",
    "    n = 1\n",
    "    while True:\n",
    "        h = float(b-a)/2**n\n",
    "        R.append((n+1)*[None])  # Añadimos una línea vacía\n",
    "        R[n][0] = 0.5*R[n-1][0] + h*sum(f(a+(2*i-1)*h) for i in range(1, 2**(n-1)+1)) \n",
    "        for k in range(1, n+1):\n",
    "            R[n][k] = R[n][k-1] + (R[n][k-1] - R[n-1][k-1]) / (4**k - 1)\n",
    "        print(R[n])\n",
    "        if abs(R[n][n-1] - R[n][n]) < tol:\n",
    "            return R[n][n]\n",
    "        n += 1"
   ]
  },
  {
   "cell_type": "code",
   "execution_count": 309,
   "metadata": {},
   "outputs": [],
   "source": [
    "def Adaptativa(f,a,b,total,tol):  \n",
    "    m = (a+b)*0.5\n",
    "    \n",
    "    subintervalo1 = Simpsonsimple(a,f(a),f((a+m)*0.5),m,f(m))\n",
    "    subintervalo2 = Simpsonsimple(m,f(m),f((m+b)*0.5),b,f(b))\n",
    "    \n",
    "    if( abs(total-subintervalo1-subintervalo2) < 10*tol):\n",
    "        return subintervalo1 + subintervalo2\n",
    "   \n",
    "    return Adaptativa(f,a,m,subintervalo1,tol*0.5) + Adaptativa(f,m,b,subintervalo2,tol*0.5)        "
   ]
  },
  {
   "cell_type": "code",
   "execution_count": 310,
   "metadata": {},
   "outputs": [],
   "source": [
    "x=sp.Symbol('x')  \n",
    "a=2; b=9\n",
    "m = (a+b)*0.5\n",
    "tol=10**(-6)\n",
    "\n",
    "def p(x):\n",
    "    return 7+6*x+5*x**2+9*x**3+2*x**4+4*x**5+7*x**6+9*x**7\n",
    "\n",
    "vexacto=sc.quad(p,a,b)[0]"
   ]
  },
  {
   "cell_type": "code",
   "execution_count": 311,
   "metadata": {},
   "outputs": [
    {
     "name": "stdout",
     "output_type": "stream",
     "text": [
      "\n",
      "Valor exacto:\n",
      " 53604180.175\n",
      "\n",
      "Integración Romberg:\n",
      "[164587584.0]\n",
      "[87850414.12109375, 62271357.49479167]\n",
      "[62648164.18804932, 54247414.210367836, 53712484.65807291]\n",
      "[55896517.642258644, 53645968.79366175, 53605872.43254801, 53604180.175]\n",
      "[54179241.975011125, 53606816.75259528, 53604206.61652418, 53604180.175, 53604180.175]\n"
     ]
    },
    {
     "data": {
      "text/plain": [
       "53604180.175"
      ]
     },
     "execution_count": 311,
     "metadata": {},
     "output_type": "execute_result"
    }
   ],
   "source": [
    "print(\"\\nValor exacto:\\n\", vexacto)\n",
    "print(\"\\nIntegración Romberg:\")\n",
    "Romberg(p, a, b,tol)"
   ]
  },
  {
   "cell_type": "code",
   "execution_count": 312,
   "metadata": {},
   "outputs": [
    {
     "name": "stdout",
     "output_type": "stream",
     "text": [
      "\n",
      "Integración adaptativa:\n",
      " 53604180.17500022\n"
     ]
    }
   ],
   "source": [
    "total = Simpsonsimple(a,f(a),f(m),b,f(b))\n",
    "print(\"\\nIntegración adaptativa:\\n\", Adaptativa(p,a,b,total,tol))"
   ]
  }
 ],
 "metadata": {
  "kernelspec": {
   "display_name": "Python 3",
   "language": "python",
   "name": "python3"
  },
  "language_info": {
   "codemirror_mode": {
    "name": "ipython",
    "version": 3
   },
   "file_extension": ".py",
   "mimetype": "text/x-python",
   "name": "python",
   "nbconvert_exporter": "python",
   "pygments_lexer": "ipython3",
   "version": "3.5.2"
  }
 },
 "nbformat": 4,
 "nbformat_minor": 2
}
