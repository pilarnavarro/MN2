{
 "cells": [
  {
   "cell_type": "code",
   "execution_count": 4,
   "metadata": {},
   "outputs": [],
   "source": [
    "import numpy as np \n",
    "import sympy as sp \n",
    "import matplotlib.pyplot as plt     \n",
    "from random import random \n",
    "import math\n",
    "from math import pi\n",
    "\n",
    "x = sp.Symbol('x')\n",
    "t = sp.Symbol('t')"
   ]
  },
  {
   "cell_type": "markdown",
   "metadata": {},
   "source": [
    "# Integracion"
   ]
  },
  {
   "cell_type": "markdown",
   "metadata": {},
   "source": [
    "### Simples"
   ]
  },
  {
   "cell_type": "code",
   "execution_count": 105,
   "metadata": {},
   "outputs": [],
   "source": [
    "def simple(f,a,b,tipo): \n",
    "    if(tipo==\"derecha\"):\n",
    "        print (\"\\nRectangulo Simple Derecha\")\n",
    "        return f(b)*(b-a)\n",
    "    if(tipo==\"izquierda\"):\n",
    "        print (\"\\nRectangulo Simple Izquierda\")\n",
    "        return f(a)*(b-a)\n",
    "    if(tipo==\"puntomedio\"):\n",
    "        print (\"\\nSimple del Punto Medio\")\n",
    "        return (b-a)*f((a+b)/2)\n",
    "    if(tipo==\"trapecio\"):\n",
    "        print (\"\\nSimple del Trapecio\")\n",
    "        return ((b-a)/2)*(f(a)+f(b))\n",
    "    if(tipo==\"Simpson\"):\n",
    "        print(\"\\nSimple de Simpson\")\n",
    "        return (b-a)*( f(a) + 4*f((a+b)/2) + f(b) )/6\n",
    "        \n"
   ]
  },
  {
   "cell_type": "code",
   "execution_count": 106,
   "metadata": {},
   "outputs": [
    {
     "name": "stdout",
     "output_type": "stream",
     "text": [
      "\n",
      "Valor exacto : \n",
      " 3.00000000000000\n",
      "\n",
      "Rectangulo Simple Derecha\n",
      "4\n",
      "\n",
      "Rectangulo Simple Izquierda\n",
      "4\n",
      "\n",
      "Simple del Punto Medio\n",
      "2.0\n",
      "\n",
      "Simple del Trapecio\n",
      "4.0\n",
      "\n",
      "Simple de Simpson\n",
      "2.6666666666666665\n"
     ]
    }
   ],
   "source": [
    "a=-1;b=1;\n",
    "z = sp.Symbol('z')\n",
    "def f(z):\n",
    "    return abs(z)+1\n",
    "\n",
    "print(\"\\nValor exacto : \\n\", sp.N(sp.integrate(f(z),[z,a,b])))\n",
    "print(simple(f,a,b,\"derecha\"))\n",
    "print(simple(f,a,b,\"izquierda\"))\n",
    "print(simple(f,a,b,\"puntomedio\"))\n",
    "print(simple(f,a,b,\"trapecio\"))\n",
    "print(simple(f,a,b,\"Simpson\"))"
   ]
  },
  {
   "cell_type": "markdown",
   "metadata": {},
   "source": [
    "## Compuestas"
   ]
  },
  {
   "cell_type": "markdown",
   "metadata": {},
   "source": [
    "### Rectanglo a la derecha, izquierda y punto medio"
   ]
  },
  {
   "cell_type": "code",
   "execution_count": 107,
   "metadata": {},
   "outputs": [],
   "source": [
    "def formrectangizda(f,a,b,nx):\n",
    "    \"\"\"fórmula compuesta de los rectangulos a la izquierda\"\"\"\n",
    "    h = (b-a)/nx\n",
    "    return h*sum([f(a+i*h) for i in range(0,nx)])\n",
    "\n",
    "def formrectangdcha(f,a,b,nx):\n",
    "    \"\"\"fórmula compuesta de los rectangulos a la derecha\"\"\"\n",
    "    h = (b-a)/nx\n",
    "    return h*sum([f(a+(i+1)*h) for i in range(0,nx)])\n",
    "\n",
    "def formrectangptomedio(f,a,b,nx):\n",
    "    \"\"\"fórmula compuesta de los rectangulos de punto medio\"\"\"\n",
    "    h = (b-a)/nx\n",
    "    return h*sum([f(a+(i+1/2)*h) for i in range(0,nx)])\n",
    "\n",
    "def rectangulocompuesta(f,a,b,nx,tipo):    #Usar esta\n",
    "    if (tipo == \"derecha\"):\n",
    "        return  formrectangdcha(f,a,b,nx)\n",
    "    if (tipo == \"izquierda\"):\n",
    "        return formrectangizda(f,a,b,nx)\n",
    "    if(tipo==\"puntomedio\"):\n",
    "        return formrectangptomedio(f,a,b,nx)\n",
    "    \n",
    "    "
   ]
  },
  {
   "cell_type": "markdown",
   "metadata": {},
   "source": [
    "### Trapecio y Simpson"
   ]
  },
  {
   "cell_type": "code",
   "execution_count": 108,
   "metadata": {},
   "outputs": [],
   "source": [
    "def trapeciocompuesta(f,a,b,nx):\n",
    "    \"\"\"fórmula compuesta de los trapecios\"\"\"\n",
    "    h = (b-a)/nx\n",
    "    return h/2*(f(a)+2*sum([f(a+i*h) for i in range(1,nx)])+f(b))\n",
    "\n",
    "def simpsoncompuesta(f,a,b,m):\n",
    "    \"\"\"fórmula de Simpson compuesta\"\"\"\n",
    "    h= (b-a)/(2*m)\n",
    "    P = sum([f(a+2*i*h) for i in range(1,m)])\n",
    "    I = sum([f(a+(2*i-1)*h) for i in range(1,m+1)])\n",
    "    E = f(a)+f(b)\n",
    "    return h/3*(E+2*P+4*I)"
   ]
  },
  {
   "cell_type": "code",
   "execution_count": 109,
   "metadata": {},
   "outputs": [
    {
     "name": "stdout",
     "output_type": "stream",
     "text": [
      "\n",
      "Valor exacto : \n",
      " 3.00000000000000\n",
      "\n",
      "Fórmula rectangulo izquierda compuesta : \n",
      " 3.0\n",
      "\n",
      "Fórmula rectangulo izquierda compuesta : \n",
      " 3.0\n",
      "\n",
      "Fórmula rectangulo derecha compuesta : \n",
      " 3.0\n",
      "\n",
      "Fórmula punto medio : \n",
      " 3.0\n",
      "\n",
      "Fórmula trapecio compuesta : \n",
      " 3.00000000000000\n",
      "\n",
      "Fórmula Simpson compuesta : \n",
      " 2.66666666666667\n"
     ]
    }
   ],
   "source": [
    "a=-1;b=1;n=2\n",
    "z = sp.Symbol('z')\n",
    "def f(z):\n",
    "    return abs(z)+1\n",
    "\n",
    "print(\"\\nValor exacto : \\n\", sp.N(sp.integrate(f(z),[z,a,b])))\n",
    "print(\"\\nFórmula rectangulo izquierda compuesta : \\n\", rectangulocompuesta(f,a,b,n,\"izquierda\"))\n",
    "print(\"\\nFórmula rectangulo izquierda compuesta : \\n\",formrectangizda(f,a,b,n))\n",
    "print(\"\\nFórmula rectangulo derecha compuesta : \\n\",formrectangdcha(f,a,b,n))\n",
    "print(\"\\nFórmula punto medio : \\n\", rectangulocompuesta(f,a,b,n,\"puntomedio\"))\n",
    "print(\"\\nFórmula trapecio compuesta : \\n\",sp.N(trapeciocompuesta(f,a,b,n)))\n",
    "print(\"\\nFórmula Simpson compuesta : \\n\", sp.N(simpsoncompuesta(f,a,b,int(n/2))))"
   ]
  },
  {
   "cell_type": "markdown",
   "metadata": {},
   "source": [
    "# PVI"
   ]
  },
  {
   "cell_type": "markdown",
   "metadata": {},
   "source": [
    "## Euler"
   ]
  },
  {
   "cell_type": "code",
   "execution_count": 2,
   "metadata": {},
   "outputs": [
    {
     "name": "stdout",
     "output_type": "stream",
     "text": [
      "\n",
      "Euler implícito: \n",
      "( 0.0 , -1 )\n",
      "( 0.125 , -0.916666666666667 )\n",
      "( 0.25 , -0.870370370370370 )\n",
      "( 0.375 , -0.856995884773662 )\n",
      "( 0.5 , -0.872885230909922 )\n"
     ]
    }
   ],
   "source": [
    "''' método de Euler implicito para resolver el PVI\n",
    "    X,Y     = integrate(F,x0,y0,xfinal,N).\n",
    "    {y}'    = {F(x,{y})}, donde\n",
    "    {y}     = {y[0],y[1],...y[N-1]}.\n",
    "    x0,y0   = condiciones iniciales \n",
    "    xfinal  = valor final de la variable x\n",
    "    h       = incremento de x usado para la integración\n",
    "    F       = función suplida por el usuario que devuelve \n",
    "            el array F(x,y) = {y'[0],y'[1],...,y'[N-1]}.\n",
    "'''\n",
    "import numpy as np\n",
    "import sympy as sp\n",
    "def eulerimplicito(F,x0,y0,xfinal,N):    \n",
    "    X = np.linspace(x0,xfinal,N+1)\n",
    "    Y = [y0]; h = (xfinal-x0)/N\n",
    "    y1 = sp.Symbol('y1') # usaremos esta variable como incógnita\n",
    "    for n in range(N):   # de la ecuación a resolver en cada iteración\n",
    "        Y.append(sp.solve(Y[n]+h*F(X[n+1],y1)-y1,y1)[0])\n",
    "        \n",
    "    print(\"\\nEuler implícito: \")\n",
    "    for i in range(len(X)):\n",
    "        print(\"(\",X[i],\",\",Y[i],\")\")\n",
    "        \n",
    "tn = []; xn = []\n",
    "tt = 0; xx = -1\n",
    "h = float(1/2)\n",
    "N=4 ; i=0\n",
    "\n",
    "def f(t,x):\n",
    "    return -2*t-x\n",
    "\n",
    "eulerimplicito(f,tt,xx,0.5,N)"
   ]
  },
  {
   "cell_type": "code",
   "execution_count": 145,
   "metadata": {},
   "outputs": [
    {
     "name": "stdout",
     "output_type": "stream",
     "text": [
      "\n",
      "Euler Explícito:\n",
      "( 0.0 , 5 )\n",
      "( 0.0625 , 5.03515625 )\n",
      "( 0.125 , 5.07236658119419 )\n",
      "( 0.1875 , 5.111653762633759 )\n",
      "( 0.25 , 5.153055424266773 )\n",
      "( 0.3125 , 5.196627405262332 )\n",
      "( 0.375 , 5.2424473814377315 )\n",
      "( 0.4375 , 5.290618735542963 )\n",
      "( 0.5 , 5.341274616751564 )\n",
      "( 0.5625 , 5.394582102281955 )\n",
      "( 0.625 , 5.450746312950686 )\n",
      "( 0.6875 , 5.510014229323041 )\n",
      "( 0.75 , 5.572677784591908 )\n",
      "( 0.8125 , 5.63907554911143 )\n",
      "( 0.875 , 5.709591945897665 )\n",
      "( 0.9375 , 5.784652438874927 )\n",
      "( 1.0 , 5.864712557180085 )\n"
     ]
    }
   ],
   "source": [
    "''' método de Euler para resolver el PVI\n",
    "    X,Y     = integrate(F,x0,y0,xfinal,n).\n",
    "    {y}'    = {F(x,{y})}, donde\n",
    "    {y}     = {y[0],y[1],...y[n-1]}.\n",
    "    x0,y0   = condiciones iniciales \n",
    "    xfinal  = valor final de la variable x\n",
    "    h       = incremento de x usado para la integración\n",
    "    F       = función suplida por el usuario que devuelve \n",
    "            el array F(x,y) = {y'[0],y'[1],...,y'[n-1]}.\n",
    "'''\n",
    "import numpy as np\n",
    "\n",
    "def f(t,x):\n",
    "    return 1/10*(t*x + x/2+x**2/8+t+np.sin(pi*x))\n",
    "\n",
    "def eulerexplicito(F,x0,y0,xfinal,n):    \n",
    "    X = np.linspace(x0,xfinal,n+1)\n",
    "    Y = [y0]; h = (xfinal-x0)/n\n",
    "    for i in range(n):\n",
    "        Y.append(Y[i] + h*F(X[i],Y[i]))\n",
    "    print(\"\\nEuler Explícito:\")\n",
    "    \n",
    "    for i in range(len(X)):\n",
    "        print(\"(\",X[i],\",\",Y[i],\")\")\n",
    "        \n",
    "eulerexplicito(f,0,5,1,16)"
   ]
  },
  {
   "cell_type": "markdown",
   "metadata": {},
   "source": [
    "## Punto Medio"
   ]
  },
  {
   "cell_type": "code",
   "execution_count": 153,
   "metadata": {},
   "outputs": [
    {
     "name": "stdout",
     "output_type": "stream",
     "text": [
      "\n",
      "PUNTO MEDIO:\n",
      "( 0 , 2 )\n",
      "( 0.025 , 2.0038632233227855 )\n",
      "( 0.05 , 2.00795562256303 )\n",
      "( 0.07500000000000001 , 2.0122801219968802 )\n",
      "( 0.1 , 2.0168397146522605 )\n",
      "( 0.125 , 2.021637461711918 )\n",
      "( 0.15 , 2.026676491598583 )\n",
      "( 0.175 , 2.0319599987076677 )\n",
      "( 0.19999999999999998 , 2.037491241750809 )\n",
      "( 0.22499999999999998 , 2.0432735416714474 )\n",
      "( 0.24999999999999997 , 2.0493102790916162 )\n",
      "( 0.27499999999999997 , 2.0556048912471616 )\n",
      "( 0.3 , 2.0621608683668535 )\n",
      "( 0.325 , 2.0689817494492817 )\n",
      "( 0.35000000000000003 , 2.0760711173901725 )\n",
      "( 0.37500000000000006 , 2.0834325934118736 )\n",
      "( 0.4000000000000001 , 2.0910698307463313 )\n"
     ]
    },
    {
     "ename": "NameError",
     "evalue": "name 'puntomedio' is not defined",
     "output_type": "error",
     "traceback": [
      "\u001b[0;31m---------------------------------------------------------------------------\u001b[0m",
      "\u001b[0;31mNameError\u001b[0m                                 Traceback (most recent call last)",
      "\u001b[0;32m<ipython-input-153-58c2dc45e489>\u001b[0m in \u001b[0;36m<module>\u001b[0;34m\u001b[0m\n\u001b[1;32m     22\u001b[0m     \u001b[0mprint\u001b[0m\u001b[0;34m(\u001b[0m\u001b[0;34m\"(\"\u001b[0m\u001b[0;34m,\u001b[0m\u001b[0mtn\u001b[0m\u001b[0;34m[\u001b[0m\u001b[0mi\u001b[0m\u001b[0;34m]\u001b[0m\u001b[0;34m,\u001b[0m\u001b[0;34m\",\"\u001b[0m\u001b[0;34m,\u001b[0m\u001b[0mxn\u001b[0m\u001b[0;34m[\u001b[0m\u001b[0mi\u001b[0m\u001b[0;34m]\u001b[0m\u001b[0;34m,\u001b[0m\u001b[0;34m\")\"\u001b[0m\u001b[0;34m)\u001b[0m\u001b[0;34m\u001b[0m\u001b[0m\n\u001b[1;32m     23\u001b[0m \u001b[0;34m\u001b[0m\u001b[0m\n\u001b[0;32m---> 24\u001b[0;31m \u001b[0mpuntomedio\u001b[0m\u001b[0;34m(\u001b[0m\u001b[0mf\u001b[0m\u001b[0;34m,\u001b[0m\u001b[0;36m0\u001b[0m\u001b[0;34m,\u001b[0m\u001b[0;36m5\u001b[0m\u001b[0;34m,\u001b[0m\u001b[0;36m1\u001b[0m\u001b[0;34m,\u001b[0m\u001b[0;36m16\u001b[0m\u001b[0;34m)\u001b[0m\u001b[0;34m\u001b[0m\u001b[0m\n\u001b[0m",
      "\u001b[0;31mNameError\u001b[0m: name 'puntomedio' is not defined"
     ]
    }
   ],
   "source": [
    "# PUNTO MEDIO\n",
    "tn = []; xn = []\n",
    "tt = 0; xx = 2  #VALORES INICIALES XX = X(to), TT = to\n",
    "   #PASO\n",
    "N=16         #NUMERO DE ITERACIONES\n",
    "h = 1/40\n",
    "\n",
    "def f(t,x):\n",
    "    return 1/10*(t*x + x/2+x**2/8+t+np.sin(pi*x))\n",
    "\n",
    "\n",
    "i=0\n",
    "for i in range(N+1):\n",
    "    tn.append(tt)\n",
    "    xn.append(xx)\n",
    "    xx = xx + h*f(tt+h/2,xx+h/2*f(tt,xx))\n",
    "    tt = tt + h\n",
    "\n",
    "print(\"\\nPUNTO MEDIO:\")\n",
    "\n",
    "for i in range(len(xn)):\n",
    "    print(\"(\",tn[i],\",\",xn[i],\")\")\n",
    "    \n",
    "puntomedio(f,0,5,1,16)"
   ]
  },
  {
   "cell_type": "code",
   "execution_count": 113,
   "metadata": {},
   "outputs": [],
   "source": [
    "def eulerpuntomedio(F,x0,y0,xfinal,n):\n",
    "    X = np.linspace(x0,xfinal,n+1)\n",
    "    Y = [y0]; h = (xfinal-x0)/n\n",
    "    \n",
    "    for i in range(n):\n",
    "        Y.append(Y[i] + h*F(X[i]+h/2,Y[i]+h/2*f(X[i],Y[i])))\n",
    "             \n",
    "    print(\"\\nEuler Punto Medio:\")   \n",
    "    for i in range(len(X)):\n",
    "        print(\"(\",X[i],\",\",Y[i],\")\")"
   ]
  },
  {
   "cell_type": "code",
   "execution_count": 114,
   "metadata": {},
   "outputs": [
    {
     "name": "stdout",
     "output_type": "stream",
     "text": [
      "\n",
      "Euler Punto Medio:\n",
      "( 0.0 , -1 )\n",
      "( 0.5 , -0.875 )\n",
      "( 1.0 , -1.171875 )\n",
      "( 1.5 , -1.732421875 )\n",
      "( 2.0 , -2.457763671875 )\n"
     ]
    }
   ],
   "source": [
    "eulerpuntomedio(f,0,-1,2,4)"
   ]
  },
  {
   "cell_type": "markdown",
   "metadata": {},
   "source": [
    "## Heun"
   ]
  },
  {
   "cell_type": "code",
   "execution_count": 1,
   "metadata": {},
   "outputs": [
    {
     "name": "stdout",
     "output_type": "stream",
     "text": [
      "\n",
      "HEUN:\n",
      "( 0 , -1 )\n",
      "( 0.5 , -0.875 )\n",
      "( 1.0 , -1.171875 )\n",
      "( 1.5 , -1.732421875 )\n",
      "( 2.0 , -2.457763671875 )\n"
     ]
    }
   ],
   "source": [
    "\n",
    "tn = []; xn = []\n",
    "tt = 0; xx = -1\n",
    "h = float(1/2)\n",
    "N=4 ; i=0\n",
    "\n",
    "def f(t,x):\n",
    "    return -2*t-x\n",
    "\n",
    "for i in range(N+1):\n",
    "    tn.append(tt)\n",
    "    xn.append(xx)\n",
    "    xx = xx + (h/2)*(f(tt,xx) + f(tt+h,xx+h*f(tt,xx)))\n",
    "    tt = tt + h\n",
    "\n",
    "print(\"\\nHEUN:\")\n",
    "\n",
    "for i in range(len(xn)):\n",
    "    print(\"(\",tn[i],\",\",xn[i],\")\")"
   ]
  },
  {
   "cell_type": "code",
   "execution_count": 116,
   "metadata": {},
   "outputs": [],
   "source": [
    "def heun(F,x0,y0,xfinal,n):\n",
    "    X = np.linspace(x0,xfinal,n+1)\n",
    "    Y = [y0]; h = (xfinal-x0)/n\n",
    "    \n",
    "    for i in range(n):\n",
    "        Y.append(Y[i] + (h/2)*( F(X[i],Y[i]) + F(X[i+1],Y[i]+h*F(X[i],Y[i])) ))\n",
    "             \n",
    "    print(\"\\nEuler Punto Medio:\")   \n",
    "    for i in range(len(X)):\n",
    "        print(\"(\",X[i],\",\",Y[i],\")\")"
   ]
  },
  {
   "cell_type": "markdown",
   "metadata": {},
   "source": [
    "## Range - Kutta"
   ]
  },
  {
   "cell_type": "markdown",
   "metadata": {},
   "source": [
    "### Método de RK de 2 evaluaciones \n",
    "Implementado de dos formas, ambas son equivalentes\n"
   ]
  },
  {
   "cell_type": "code",
   "execution_count": 3,
   "metadata": {},
   "outputs": [
    {
     "name": "stdout",
     "output_type": "stream",
     "text": [
      "\n",
      "RK m=2:\n",
      "( 0 , -1 )\n",
      "( 0.3 , -0.8350000000000001 )\n",
      "( 0.6 , -0.865075 )\n"
     ]
    }
   ],
   "source": [
    "#Primera forma\n",
    "tn = []; xn = []\n",
    "tt = 0; xx = -1\n",
    "N=3 ; i=0\n",
    "beta=float(2/3) ; alfa = float(3/4)\n",
    "h = float(0.3)\n",
    "\n",
    "def f(t,x):\n",
    "    return -2*t-x\n",
    "\n",
    "def K1(t,x):\n",
    "    return f(t,x)\n",
    "\n",
    "def K2(t,x):\n",
    "    return f( tt+beta*h , xx + h*beta*K1(tt,xx) )\n",
    "\n",
    "for i in range(N):\n",
    "    tn.append(tt)\n",
    "    xn.append(xx)\n",
    "    xx = xx + h*(1-alfa)*K1(tt,xx)+ h*alfa*K2(tt,xx)\n",
    "    tt = tt + h\n",
    "    \n",
    "print(\"\\nRK m=2:\")\n",
    "\n",
    "for i in range(len(xn)):\n",
    "    print(\"(\",tn[i],\",\",xn[i],\")\")"
   ]
  },
  {
   "cell_type": "code",
   "execution_count": 118,
   "metadata": {},
   "outputs": [],
   "source": [
    "#2nda forma\n",
    "def metodo_RK2(F, x0, y0, xfinal, n, alpha, beta, print_Ki):\n",
    "    \"\"\" F(t, x) === F(x, y). \n",
    "        x0 es el primer punto donde se evalúa la función.\n",
    "        y0 es dicho valor. \n",
    "        xfinal es el último punto del dominio.\n",
    "        n es el número de pasos.\n",
    "        Para saber qué son alpha y beta, mirar teoría.\n",
    "        print_Ki es True o False. Determina si enseña los valores de cada Ki.\n",
    "\n",
    "        El primer valor devuelto son los puntos del dominio. En la teoría, cada t_n.\n",
    "        El segundo valor es el array de imágenes de la función.\n",
    "    \"\"\"\n",
    "\n",
    "    def K1(x, y):\n",
    "        return F(x, y)\n",
    "    \n",
    "    def K2(x, y, h, beta):\n",
    "        return F(x + beta * h, y + h * beta * K1(x, y))\n",
    "    \n",
    "    X = np.linspace(x0,xfinal,n+1)\n",
    "    Y = [y0]\n",
    "    \n",
    "    h = (xfinal-x0)/n\n",
    "    \n",
    "    for i in range(n):\n",
    "        valor_K1 = K1(X[i], Y[i])\n",
    "        valor_K2 = K2(X[i], Y[i], h, beta)\n",
    "        \n",
    "        Y.append( Y[i]  +  h * (1-alpha) * valor_K1  +  h * alpha * valor_K2 )\n",
    "\n",
    "        if (print_Ki):\n",
    "            print(\"K1 = \", valor_K1)\n",
    "            print(\"K2 = \", valor_K2)\n",
    "\n",
    "    for i in range(len(X)):\n",
    "        print(\"(\",X[i],\",\",Y[i],\")\")        \n",
    "    \n",
    "    #return np.array(X), np.array(Y)\n"
   ]
  },
  {
   "cell_type": "markdown",
   "metadata": {},
   "source": [
    "## Taylor"
   ]
  },
  {
   "cell_type": "code",
   "execution_count": 166,
   "metadata": {},
   "outputs": [
    {
     "name": "stdout",
     "output_type": "stream",
     "text": [
      "\n",
      "Taylor p=2:\n",
      "( 0 , 14 )\n",
      "( 0.0125 , 14.0396679376317 )\n",
      "( 0.025 , 14.0799277184434 )\n",
      "( 0.037500000000000006 , 14.1207826732699 )\n",
      "( 0.05 , 14.1622334755722 )\n",
      "( 0.0625 , 14.2042779988200 )\n",
      "( 0.075 , 14.2469112282433 )\n",
      "( 0.0875 , 14.2901252379534 )\n",
      "( 0.09999999999999999 , 14.3339092434298 )\n",
      "( 0.11249999999999999 , 14.3782497375922 )\n",
      "( 0.12499999999999999 , 14.4231307161007 )\n",
      "( 0.13749999999999998 , 14.4685339942076 )\n",
      "( 0.15 , 14.5144396135709 )\n",
      "( 0.1625 , 14.5608263331440 )\n",
      "( 0.17500000000000002 , 14.6076721938773 )\n",
      "( 0.18750000000000003 , 14.6549551428348 )\n",
      "( 0.20000000000000004 , 14.7026536987763 )\n"
     ]
    }
   ],
   "source": [
    "tn = []; xn = []\n",
    "tt = 0; xx = 14      #Se puede tocar\n",
    "h = 1/(40*2)      #Se puede tocar\n",
    "N=16 ; i=0            # N se puede tocar, i NO se puede tocar\n",
    "z , w = sp.symbols('z , w')\n",
    "\n",
    "def f(t,x):\n",
    "    return 1/10*(t*x + x/2+x**2/8+t+sp.sin(pi*x))\n",
    "\n",
    "#De aquí para abajo no se toca nada\n",
    "operador =  sp.diff(f(z,w),z) + sp.diff(f(z,w),w)*f(z,w)\n",
    "\n",
    "for i in range(N+1):\n",
    "    tn.append(tt)\n",
    "    xn.append(xx)\n",
    "    xx = xx + h*f(tt,xx) + (h**2)/2*operador.subs({z:tt}).subs({w:xx})\n",
    "    tt = tt + h\n",
    "\n",
    "print(\"\\nTaylor p=2:\")\n",
    "\n",
    "for i in range(len(xn)):\n",
    "    print(\"(\",tn[i],\",\",xn[i],\")\")\n"
   ]
  },
  {
   "cell_type": "markdown",
   "metadata": {},
   "source": [
    "### Método de RK con las 4 evaluaciones"
   ]
  },
  {
   "cell_type": "code",
   "execution_count": 139,
   "metadata": {},
   "outputs": [],
   "source": [
    "def metodo_RK4 (F, x0, y0, xfinal, n, print_Ki):\n",
    "    \"\"\" F(t, x) === F(x, y). \n",
    "        x0 es el primer punto donde se evalúa la función.\n",
    "        y0 es dicho valor. \n",
    "        xfinal es el último punto del dominio.\n",
    "        n es el número de pasos.\n",
    "        print_Ki es True o False. Determina si enseña los valores de cada Ki.\n",
    "\n",
    "        El primer valor devuelto son los puntos del dominio. En la teoría, cada t_n.\n",
    "        El segundo valor es el array de imágenes de la función.\n",
    "    \"\"\"\n",
    "\n",
    "    def RK4(F, xi, yi, h, print_RKi):\n",
    "        K1 = F(xi,yi)\n",
    "        K2 = F(xi + h/2, yi + K1*h/2)\n",
    "        K3 = F(xi + h/2, yi + K2*h/2)\n",
    "        K4 = F(xi + h  , yi + K3*h)\n",
    "\n",
    "        if (print_Ki):\n",
    "            print(\"K1 = \", K1)\n",
    "            print(\"K2 = \", K2)\n",
    "            print(\"K3 = \", K3)\n",
    "            print(\"K4 = \", K4)\n",
    "        print((K1 + 2*K2 + 2*K3 + K4)/6)\n",
    "        return (K1 + 2*K2 + 2*K3 + K4)/6\n",
    "    \n",
    "    X = np.linspace(x0,xfinal,n+1)\n",
    "    Y = [y0]; h = (xfinal-x0)/n\n",
    "    \n",
    "    for i in range(n):\n",
    "        Y.append( Y[i] + h*RK4(F, X[i], Y[i], h, print_Ki) )\n",
    "        \n",
    "    for i in range(len(X)):\n",
    "        print(\"(\",X[i],\",\",Y[i],\")\")\n",
    "\n",
    "    #return np.array(X),np.array(Y)\n",
    "    \n",
    "    \n",
    "\n",
    "        \n"
   ]
  },
  {
   "cell_type": "code",
   "execution_count": 156,
   "metadata": {},
   "outputs": [
    {
     "name": "stdout",
     "output_type": "stream",
     "text": [
      "K1 =  0.31880282678623506\n",
      "K2 =  0.32444758663583484\n",
      "K3 =  0.3244790824421074\n",
      "K4 =  0.3301614605461161\n",
      "0.3244696042480392\n",
      "K1 =  0.3301613547430866\n",
      "K2 =  0.335880852109034\n",
      "K3 =  0.3359127797997841\n",
      "K4 =  0.341669946795143\n",
      "0.3359030942259777\n",
      "K1 =  0.3416698386613683\n",
      "K2 =  0.3474641289449768\n",
      "K3 =  0.3474964681662785\n",
      "K4 =  0.3533283760868371\n",
      "0.347486568161786\n",
      "K1 =  0.35332826561740704\n",
      "K2 =  0.3591971942241623\n",
      "K3 =  0.35922992110829455\n",
      "K4 =  0.3651363018815381\n",
      "0.3592197996939765\n",
      "K1 =  0.3651361890826428\n",
      "K2 =  0.3710793711715599\n",
      "K3 =  0.3711124581149187\n",
      "K4 =  0.3770928029770707\n",
      "0.3711021084387785\n",
      "K1 =  0.3770926878675317\n",
      "K2 =  0.38310948746585166\n",
      "K3 =  0.3831429029175255\n",
      "K4 =  0.389196441267167\n",
      "0.38313231831690886\n",
      "K1 =  0.3891963238800566\n",
      "K2 =  0.39528583251592153\n",
      "K3 =  0.3953195407820257\n",
      "K4 =  0.4014452186424782\n",
      "0.39530871485307156\n",
      "K1 =  0.40144509902681547\n",
      "K2 =  0.40760611406831704\n",
      "K3 =  0.4076400751378302\n",
      "K4 =  0.4138365334360994\n",
      "0.40762900181253486\n",
      "K1 =  0.41383641165860435\n",
      "K2 =  0.42006741458689184\n",
      "K3 =  0.4201015839853923\n",
      "K4 =  0.42636713689646677\n",
      "0.4200902576166065\n",
      "K1 =  0.4263670130433541\n",
      "K2 =  0.4326661479301237\n",
      "K3 =  0.432700476608436\n",
      "K4 =  0.4390330902579083\n",
      "0.43268889206306366\n",
      "K1 =  0.4390329644366894\n",
      "K2 =  0.4453980169419878\n",
      "K3 =  0.4454324512072937\n",
      "K4 =  0.451829723072163\n",
      "0.44542060396790256\n",
      "K1 =  0.4518295954134266\n",
      "K2 =  0.45825797266773205\n",
      "K3 =  0.45829245416515757\n",
      "K4 =  0.4647515935616161\n",
      "0.458280340440137\n",
      "K1 =  0.464751464220746\n",
      "K2 =  0.4712401760049765\n",
      "K3 =  0.47127464175797035\n",
      "K4 =  0.47779245185509184\n",
      "0.4712622586002886\n",
      "K1 =  0.4777923210138754\n",
      "K2 =  0.484337962701292\n",
      "K3 =  0.4843723452192375\n",
      "K4 =  0.490945207067612\n",
      "0.4843596906537577\n",
      "K1 =  0.4909450749356896\n",
      "K2 =  0.49754381270933756\n",
      "K3 =  0.4975780401707317\n",
      "K4 =  0.5042018992838043\n",
      "0.4975651133299388\n",
      "K1 =  0.5042017660998969\n",
      "K2 =  0.5108493250066681\n",
      "K3 =  0.5108833215258031\n",
      "K4 =  0.5175536775972626\n",
      "0.5108701227936837\n",
      "K1 =  0.5175535436301141\n",
      "K2 =  0.5242451990758776\n",
      "K3 =  0.5242788850602309\n",
      "K4 =  0.5309907854412207\n",
      "0.5242654162239253\n",
      "K1 =  0.5309906509901873\n",
      "K2 =  0.5377212243175454\n",
      "K3 =  0.5377545169219656\n",
      "K4 =  0.5445025545149002\n",
      "0.5377407813306849\n",
      "K1 =  0.5445024199101065\n",
      "K2 =  0.5512662787287794\n",
      "K3 =  0.5512990924110109\n",
      "K4 =  0.5580774086597975\n",
      "0.5512850951415807\n",
      "K1 =  0.5580772742617887\n",
      "K2 =  0.5648683382187809\n",
      "K3 =  0.5649005853988641\n",
      "K4 =  0.5717028790656687\n",
      "0.5648863334271247\n",
      "K1 =  0.5717027452644765\n",
      "K2 =  0.57851449794421\n",
      "K3 =  0.5785460897678194\n",
      "K4 =  0.5853656321813131\n",
      "0.5785315921449747\n",
      "K1 =  0.5853654993948626\n",
      "K2 =  0.5921910070255593\n",
      "K3 =  0.5922218542283929\n",
      "K4 =  0.5990515116648532\n",
      "0.59220712226127\n",
      "K1 =  0.5990513803366384\n",
      "K2 =  0.6058833179455881\n",
      "K3 =  0.6059133318125337\n",
      "K4 =  0.6127455956265753\n",
      "0.6058983792465762\n",
      "( 0.4250000000000001 , 2.0910698307463313 )\n",
      "( 0.4500000000000001 , 2.0991815708525325 )\n",
      "( 0.4750000000000001 , 2.107579148208182 )\n",
      "( 0.5000000000000001 , 2.1162663124122267 )\n",
      "( 0.5250000000000001 , 2.1252468074045763 )\n",
      "( 0.55 , 2.1345243601155457 )\n",
      "( 0.5750000000000001 , 2.1441026680734683 )\n",
      "( 0.6000000000000001 , 2.1539853859447953 )\n",
      "( 0.6250000000000001 , 2.1641761109901085 )\n",
      "( 0.6500000000000001 , 2.174678367430524 )\n",
      "( 0.675 , 2.1854955897321005 )\n",
      "( 0.7000000000000001 , 2.196631104831298 )\n",
      "( 0.7250000000000001 , 2.2080881133423014 )\n",
      "( 0.75 , 2.2198696698073084 )\n",
      "( 0.7750000000000001 , 2.231978662073652 )\n",
      "( 0.8 , 2.2444177899069007 )\n",
      "( 0.8250000000000001 , 2.2571895429767426 )\n",
      "( 0.8500000000000001 , 2.2702961783823405 )\n",
      "( 0.875 , 2.2837396979156077 )\n",
      "( 0.9000000000000001 , 2.2975218252941474 )\n",
      "( 0.925 , 2.3116439836298257 )\n",
      "( 0.95 , 2.32610727343345 )\n",
      "( 0.9750000000000001 , 2.3409124514899817 )\n",
      "( 1.0 , 2.356059910971146 )\n"
     ]
    }
   ],
   "source": [
    "def f(t,x):\n",
    "    return 1/10*(t*x + x/2+x**2/8+t+np.sin(pi*x))\n",
    "mu=24\n",
    "n=\n",
    "metodo_RK4(f,24,mu,float(1),n,True)\n",
    "\n"
   ]
  },
  {
   "cell_type": "markdown",
   "metadata": {},
   "source": [
    "## Otra visión del mundo\n",
    "### Importante: No hay nada probado:: Tener cuidado"
   ]
  },
  {
   "cell_type": "code",
   "execution_count": null,
   "metadata": {},
   "outputs": [],
   "source": [
    "\n",
    "# Nota: si necesitas determinar el valor de h, puedes despejar de la siguiente ecuación:\n",
    "#   h = (xfinal - x0)/n\n",
    "# Seguramente sepas todos los valores a excepción de xfinal\n",
    "\n",
    "def euler_mejorado(F, x0, y0, xfinal, n):\n",
    "    return metodo_RK2(F, x0, y0, xfinal, n, 1, 1/2, False)\n",
    "\n",
    "def punto_medio(F, x0, y0, xfinal, n):\n",
    "    return metodo_RK2(F, x0, y0, xfinal, n, 1, 1/2, False)\n",
    "\n",
    "\n",
    "\n",
    "def euler_modificado(F, x0, y0, xfinal, n):\n",
    "    return metodo_RK2(F, x0, y0, xfinal, n, 1/2, 1, False)\n",
    "\n",
    "def heun(F, x0, y0, xfinal, n):\n",
    "    return metodo_RK2(F, x0, y0, xfinal, n, 1/2, 1, False)\n",
    "\n",
    "\n",
    "\n",
    "def euler_explicito(F, x0, y0, xfinal, n):\n",
    "    return metodo_RK2(F, x0, y0, xfinal, n, 0, 0, False)"
   ]
  },
  {
   "cell_type": "code",
   "execution_count": null,
   "metadata": {},
   "outputs": [],
   "source": [
    "def f(t,x):\n",
    "    return abs(x)-t\n",
    "x0 = 0 ; y0 = 2\n",
    "\n",
    "#integrar_RK4(f,x0,y0,0.5,1,True)\n",
    "heun(f,x0,y0,0.5,1)\n",
    "eulerexplicito(f,x0,y0,0.1,1)"
   ]
  },
  {
   "cell_type": "markdown",
   "metadata": {},
   "source": [
    "# Métodos Multipaso Lineales "
   ]
  },
  {
   "cell_type": "code",
   "execution_count": null,
   "metadata": {},
   "outputs": [],
   "source": [
    "## MML basados en cuadraturas"
   ]
  },
  {
   "cell_type": "code",
   "execution_count": 121,
   "metadata": {},
   "outputs": [],
   "source": [
    "\n",
    "#def mmlcuadratura(q,m,r,k):\n",
    "    \n",
    "    "
   ]
  },
  {
   "cell_type": "code",
   "execution_count": 122,
   "metadata": {},
   "outputs": [],
   "source": [
    "''' Método de Adams-Bashforth (con k = 2) para resolver\n",
    "    el problema de valores iniciales {y}' = {F(x,{y})}, \n",
    "    donde    {y} = {y[0],y[1],...y[N-1]}.\n",
    "    X,Y    = integrate(F,x0,y0,xfinal,N).\n",
    "    x0,y0  = condiciones iniciales\n",
    "    xfinal = valor final de x\n",
    "    N      = número de subintervalos de la partición\n",
    "    h      = incremento de x usado en la integración\n",
    "    F      = función suplida por el usuario que devuelve el\n",
    "            array F(x,y) = {y'[0],y'[1],...,y'[N-1]}.\n",
    "'''\n",
    "\n",
    "def AB_k2_una_condicion(F,x0,y0,h,N):\n",
    "    \n",
    "    import numpy as np\n",
    "    \n",
    "    def AB2(F,x0,y0,y1,h):\n",
    "        return y1 + h*(3*F(x0+h,y1)-F(x0,y0))/2    \n",
    "    \n",
    "    X = np.linspace(x0,x0+h*N,N+1)\n",
    "    y1 = y0 + h*F(x0,y0); Y = [y0,y1]\n",
    "    for n in range(N-2):\n",
    "        Y.append(AB2(F,X[n],Y[n],Y[n+1],h))\n",
    "        \n",
    "    print(\"\\nAdams-Bashforth k=2\")\n",
    "    for i in range(len(Y)):\n",
    "        print(\"(\",X[i],\",\",Y[i],\")\")\n",
    "\n",
    "def AB_k2(F,x0,y0,y1,h,N):\n",
    "    \n",
    "    import numpy as np\n",
    "    \n",
    "    def AB2(F,x0,y0,y1,h):\n",
    "        return y1 + h*(3*F(x0+h,y1)-F(x0,y0))/2    \n",
    "    \n",
    "    X = np.linspace(x0,x0+h*N,N+1)\n",
    "    Y = [y0,y1]\n",
    "    for n in range(N-2):\n",
    "        Y.append(AB2(F,X[n],Y[n],Y[n+1],h))\n",
    "        \n",
    "    print(\"\\nAdams-Bashforth k=2\")\n",
    "    for i in range(len(Y)):\n",
    "        print(\"(\",X[i],\",\",Y[i],\")\")\n",
    "        "
   ]
  },
  {
   "cell_type": "code",
   "execution_count": 123,
   "metadata": {},
   "outputs": [
    {
     "name": "stdout",
     "output_type": "stream",
     "text": [
      "\n",
      "Adams-Bashforth k=2\n",
      "( 0.0 , -1 )\n",
      "( 0.5 , -0.5 )\n",
      "( 1.0 , -1.125 )\n",
      "\n",
      "Adams-Bashforth k=2\n",
      "( 0.0 , -1 )\n",
      "( 0.5 , -0.5 )\n",
      "( 1.0 , -1.125 )\n"
     ]
    }
   ],
   "source": [
    "def f(t,x):\n",
    "    return -2*t-x\n",
    "x0 = 0 ; y0 = -1 ; #y1 = -0.875 ; y2 = -1.171875 ;  y3 = -1.732421875\n",
    "AB_k2_una_condicion(f,x0,y0,0.5,3)\n",
    "#eulerexplicito(f,x0,y0,1.5,3)\n",
    "AB_k2(f,x0,y0,-0.5,0.5,3)"
   ]
  },
  {
   "cell_type": "code",
   "execution_count": 124,
   "metadata": {},
   "outputs": [],
   "source": [
    "def AB_k3_una_condicion(F,x0,y0,h,N):\n",
    "    \n",
    "    import numpy as np\n",
    "    \n",
    "    def AB3(F,x0,y0,y1,y2,h):\n",
    "        return y2 + h*( 5*F(x0,y0) - 16*F(x0+h,y1) + 23*F(x0+2*h,y2) )/12    \n",
    "    \n",
    "    X = np.linspace(x0,x0+h*N,N+1)\n",
    "    y1 = y0 + h*F(x0,y0); y2 = y1 + (h/2)*(3*F(x0+h,y1)-F(x0,y0)) ; Y = [y0,y1,y2]\n",
    "    for n in range(N-2):\n",
    "        Y.append( AB3(F,X[n],Y[n],Y[n+1],Y[n+2],h) )\n",
    "        \n",
    "    print(\"\\nAdams-Bashforth k=3\")\n",
    "    for i in range(len(Y)):\n",
    "        print(\"(\",X[i],\",\",Y[i],\")\")\n",
    "        \n",
    "        \n",
    "def AB_k3(F,x0,y0,y1,y2,h,N):\n",
    "    \n",
    "    import numpy as np\n",
    "    \n",
    "    def AB3(F,x0,y0,y1,y2,h):\n",
    "        return y2 + h*( 5*F(x0,y0) - 16*F(x0+h,y1) + 23*F(x0+2*h,y2) )/12    \n",
    "    \n",
    "    X = np.linspace(x0,x0+h*N,N+1)\n",
    "    Y = [y0,y1,y2]\n",
    "    for n in range(N-3):\n",
    "        Y.append( AB3(F,X[n],Y[n],Y[n+1],Y[n+2],h) )\n",
    "        \n",
    "    print(\"\\nAdams-Bashforth k=3\")\n",
    "    for i in range(len(Y)):\n",
    "        print(\"(\",X[i],\",\",Y[i],\")\")"
   ]
  },
  {
   "cell_type": "code",
   "execution_count": 125,
   "metadata": {},
   "outputs": [
    {
     "name": "stdout",
     "output_type": "stream",
     "text": [
      "\n",
      "Adams-Bashforth k=3\n",
      "( 0.0 , -1 )\n",
      "( 0.5 , -0.5 )\n",
      "( 1.0 , -1.125 )\n",
      "( 1.5 , -1.421875 )\n",
      "\n",
      "Adams-Bashforth k=3\n",
      "( 0.0 , -1 )\n",
      "( 0.5 , -0.5 )\n",
      "( 1.0 , -1.125 )\n"
     ]
    }
   ],
   "source": [
    "def f(t,x):\n",
    "    return -2*t-x\n",
    "x0 = 0 ; y0 = -1 ; #y1 = -0.875 ; y2 = -1.171875 ;  y3 = -1.732421875\n",
    "AB_k3_una_condicion(f,x0,y0,0.5,3)\n",
    "#eulerexplicito(f,x0,y0,1.5,3)\n",
    "AB_k3(f,x0,y0,-0.5,-1.125,0.5,3)"
   ]
  },
  {
   "cell_type": "code",
   "execution_count": 126,
   "metadata": {},
   "outputs": [],
   "source": [
    "def metodotrapecio(F,x0,y0,h,N):\n",
    "    \n",
    "    import numpy as np\n",
    "    import sympy as sp\n",
    "    \n",
    "    def nctrap(F,x0,y0,h):\n",
    "        y1 = sp.Symbol('y1')\n",
    "        return sp.solve(  y0 + h*(F(x0,y0) + F(x0+h,y1))/2 - y1,y1 )[0]\n",
    "    \n",
    "    X = np.linspace(x0,x0+h*N,N+1)\n",
    "    Y = [y0]\n",
    "    for n in range(N-1):\n",
    "        Y.append(nctrap(F,X[n],Y[n],h))\n",
    "        \n",
    "    print(\"\\nAMetodo del trapecio\")\n",
    "    for i in range(len(Y)):\n",
    "        print(\"(\",X[i],\",\",Y[i],\")\")\n",
    "    "
   ]
  },
  {
   "cell_type": "code",
   "execution_count": 134,
   "metadata": {},
   "outputs": [],
   "source": [
    "def mmlsimpson(F,x0,y0,h,N):\n",
    "    \n",
    "    import numpy as np\n",
    "    import sympy as sp\n",
    "    y1 = sp.Symbol('y1')\n",
    "    def ncsimp(F,x0,y0,y1,h):\n",
    "        y2 = sp.Symbol('y2')\n",
    "        return sp.solve(  y0 + h*(F(x0,y0) + 4*F(x0+h,y1) + F(x0+2*h,y2))/3 - y2,y2 )[0]\n",
    "    \n",
    "   \n",
    "    X = np.linspace(x0,x0+h*N,N+1)\n",
    "    y1=sp.solve(y0 + h*(F(x0,y0) + F(x0+h,y1))/2 - y1, y1 )[0]\n",
    "    Y = [y0,y1]\n",
    "    for n in range(N-2):\n",
    "        Y.append(ncsimp(F,X[n],Y[n],Y[n+1],h))\n",
    "    #print(X[3],len(X))\n",
    "    print(\"\\nMétodo de Simpson\")\n",
    "    for i in range(len(Y)):\n",
    "        print(\"(\",X[i],\",\",Y[i],\")\")"
   ]
  },
  {
   "cell_type": "code",
   "execution_count": 128,
   "metadata": {},
   "outputs": [],
   "source": [
    "def mmlheun(F,x0,y0,h,N):\n",
    "    \n",
    "    import numpy as np\n",
    "    import sympy as sp\n",
    "    \n",
    "    def ncheun(F,x0,y0,h):\n",
    "        return y0 + h*(F(x0,y0) + F(x0+h,y0+h*F(x0,y0)))/2\n",
    "    \n",
    "    X = np.linspace(x0,x0+h*N,N+1)\n",
    "    Y = [y0]\n",
    "    for n in range(N-1):\n",
    "        Y.append(ncheun(F,X[n],Y[n],h))\n",
    "        \n",
    "    print(\"\\nMetodo de Heun\")\n",
    "    for i in range(len(Y)):\n",
    "        print(\"(\",X[i],\",\",Y[i],\")\")"
   ]
  },
  {
   "cell_type": "code",
   "execution_count": 5,
   "metadata": {},
   "outputs": [],
   "source": [
    "def mmlabierta4(F,x0,y0,y1,y2,y3,h,N):\n",
    "    \n",
    "    import numpy as np\n",
    "    import sympy as sp\n",
    "    \n",
    "    def ncabierta4(F,x0,y0,y1,y2,y3,h):\n",
    "        return y0 + 4*h*(2*F(x0+h,y1) - F(x0+2*h,y2) +2*F(x0+3*h,y3))/3\n",
    "    \n",
    "    X = np.linspace(x0,x0+h*N,N+1)\n",
    "    Y = [y0,y1,y2,y3]\n",
    "    for n in range(N-4):\n",
    "        Y.append(ncabierta4(F,X[n],Y[n],Y[n+1],Y[n+2],Y[n+3],h ))\n",
    "    #print(len(X),len(Y))\n",
    "    print(\"\\nMetodo de Newton Cotes 4 pasos abiertos\")\n",
    "    for i in range(len(Y)):\n",
    "        print(\"(\",X[i],\",\",Y[i],\")\")"
   ]
  },
  {
   "cell_type": "code",
   "execution_count": 14,
   "metadata": {},
   "outputs": [
    {
     "name": "stdout",
     "output_type": "stream",
     "text": [
      "\n",
      "Metodo de Newton Cotes 4 pasos abiertos\n",
      "( 0.17500000000000002 , 14.560826333144 )\n",
      "( 0.2 , 14.6076721938773 )\n",
      "( 0.22500000000000003 , 14.6549551428348 )\n",
      "( 0.25 , 14.7026536987763 )\n",
      "( 0.275 , 14.946519516056995 )\n",
      "( 0.30000000000000004 , 15.000866724633035 )\n",
      "( 0.32500000000000007 , 15.051975219664344 )\n",
      "( 0.3500000000000001 , 15.106907274975267 )\n",
      "( 0.37500000000000006 , 15.355616586260194 )\n",
      "( 0.4 , 15.41815278881385 )\n",
      "( 0.42500000000000004 , 15.473438131118892 )\n",
      "( 0.45000000000000007 , 15.537203313352448 )\n",
      "( 0.4750000000000001 , 15.79282981464061 )\n",
      "( 0.5000000000000001 , 15.870934655953757 )\n",
      "( 0.5250000000000001 , 15.930992385137786 )\n",
      "( 0.55 , 16.01104608159056 )\n",
      "( 0.5750000000000001 , 16.27763602286075 )\n",
      "( 0.6000000000000001 , 16.374953868583315 )\n",
      "( 0.6250000000000001 , 16.44108877051793 )\n",
      "( 0.6500000000000001 , 16.539881995914357 )\n",
      "( 0.6750000000000002 , 16.81741094879513 )\n",
      "( 0.7000000000000002 , 16.92691804764391 )\n",
      "( 0.7250000000000002 , 16.999410711943256 )\n",
      "( 0.7500000000000001 , 17.10973164140296 )\n"
     ]
    }
   ],
   "source": [
    "import numpy as np\n",
    "\n",
    "def f(t,x):\n",
    "    return 1/10*(t*x + x/2+x**2/8+t+np.sin(pi*x))\n",
    "h=1/40\n",
    "x0 = 0.1625 + h/2; y0 =14.5608263331440  ; y1 =14.6076721938773 ; y2 = 14.6549551428348 ;  y3 = 14.7026536987763\n",
    "N=24\n",
    "#AB_k2_una_condicion(f,x0,y0,h,N)\n",
    "#AB_k2(f,x0,y0,y1,h,N)\n",
    "#AB_k3(f,x0,y0,y1,y2,h,N)\n",
    "#metodotrapecio(f,x0,y0,h,N)\n",
    "#mmlsimpson(f,x0,y0,h,N)\n",
    "#mmlheun(f,x0,y0,h,N)\n",
    "mmlabierta4(f,x0,y0,y1,y2,y3,h,N)"
   ]
  },
  {
   "cell_type": "markdown",
   "metadata": {},
   "source": [
    "# Método predictor-corrector"
   ]
  },
  {
   "cell_type": "code",
   "execution_count": 1,
   "metadata": {},
   "outputs": [],
   "source": [
    "def predi_corre(F,x0,y0,y1,y2,y3,y4,h,N):\n",
    "    import numpy as np\n",
    "    import sympy as sp\n",
    "    \n",
    "    def predi(F,x0,y0,y1,y2,y3,y4,h):\n",
    "        return y4 + h*( 1901*F(x0+4*h,y4) - 2774*F(x0+3*h,y3) + 2616*F(x0+2*h,y2) - 1274*F(x0+h,y1) + 251*F(x0,y0) )/720\n",
    "    \n",
    "    def corre(F,x0,y0,y1,y2,y3,y4,h):\n",
    "        prediccion = predi(F,x0,y0,y1,y2,y3,y4,h)\n",
    "        return y4 + h*( 251*F(x0+5*h,prediccion) + 646*F(x0+4*h,y4) - 264*F(x0+3*h,y3) + 106*F(x0+2*h,y2) - 19*F(x0+h,y1) )/720\n",
    "    \n",
    "    X = np.linspace(x0,x0+h*N,N+1)\n",
    "    Y = [y0,y1,y2,y3,y4]\n",
    "    \n",
    "    for n in range(N-5):\n",
    "        Y.append(corre(F,X[n],Y[n],Y[n+1],Y[n+2],Y[n+3],Y[n+4],h))\n",
    "        \n",
    "    \n",
    "    print(\"\\nMetodo Predictor-Corrector\")\n",
    "    for i in range(len(Y)):\n",
    "        print(\"(\",X[i],\",\",Y[i],\")\")\n",
    "    \n",
    "    \n",
    "    "
   ]
  },
  {
   "cell_type": "code",
   "execution_count": 4,
   "metadata": {},
   "outputs": [
    {
     "name": "stdout",
     "output_type": "stream",
     "text": [
      "\n",
      "Metodo Predictor-Corrector\n",
      "( 0.0 , -0.5 )\n",
      "( 0.017543859649122806 , -0.5 )\n",
      "( 0.03508771929824561 , -1.125 )\n",
      "( 0.05263157894736842 , -1.421875 )\n",
      "( 0.07017543859649122 , -2.4453125 )\n",
      "( 0.08771929824561403 , -2.401558768349126 )\n",
      "( 0.10526315789473684 , -2.3650408406080605 )\n",
      "( 0.12280701754385964 , -2.3275192311101054 )\n",
      "( 0.14035087719298245 , -2.2915856487943205 )\n",
      "( 0.15789473684210525 , -2.2569196466886314 )\n",
      "( 0.17543859649122806 , -2.2234676962735116 )\n",
      "( 0.19298245614035087 , -2.191207750312614 )\n",
      "( 0.21052631578947367 , -2.1601190173451013 )\n",
      "( 0.22807017543859648 , -2.130181148558833 )\n",
      "( 0.24561403508771928 , -2.1013741307283667 )\n",
      "( 0.2631578947368421 , -2.073678297467604 )\n",
      "( 0.2807017543859649 , -2.0470743243170912 )\n",
      "( 0.2982456140350877 , -2.021543222887158 )\n",
      "( 0.3157894736842105 , -1.997066335013508 )\n",
      "( 0.3333333333333333 , -1.9736253270134807 )\n",
      "( 0.3508771929824561 , -1.9512021840429676 )\n",
      "( 0.3684210526315789 , -1.9297792045515314 )\n",
      "( 0.38596491228070173 , -1.9093389948339587 )\n",
      "( 0.40350877192982454 , -1.889864463676566 )\n",
      "( 0.42105263157894735 , -1.871338817096611 )\n",
      "( 0.43859649122807015 , -1.853745553173191 )\n",
      "( 0.45614035087719296 , -1.8370684569680353 )\n",
      "( 0.47368421052631576 , -1.8212915955346296 )\n",
      "( 0.49122807017543857 , -1.8063993130141363 )\n",
      "( 0.5087719298245614 , -1.7923762258166014 )\n",
      "( 0.5263157894736842 , -1.779207217885963 )\n",
      "( 0.5438596491228069 , -1.7668774360474073 )\n",
      "( 0.5614035087719298 , -1.755372285435636 )\n",
      "( 0.5789473684210527 , -1.7446774250026418 )\n",
      "( 0.5964912280701754 , -1.734778763103607 )\n",
      "( 0.6140350877192982 , -1.725662453159566 )\n",
      "( 0.631578947368421 , -1.7173148893955001 )\n",
      "( 0.6491228070175439 , -1.7097227026525488 )\n",
      "( 0.6666666666666666 , -1.7028727562730501 )\n",
      "( 0.6842105263157894 , -1.6967521420571452 )\n",
      "( 0.7017543859649122 , -1.6913481762896998 )\n",
      "( 0.7192982456140351 , -1.6866483958363214 )\n",
      "( 0.7368421052631579 , -1.68264055430727 )\n",
      "( 0.7543859649122806 , -1.6793126182880813 )\n",
      "( 0.7719298245614035 , -1.676652763635744 )\n",
      "( 0.7894736842105263 , -1.6746493718392876 )\n",
      "( 0.8070175438596491 , -1.6732910264436651 )\n",
      "( 0.8245614035087718 , -1.672566509535825 )\n",
      "( 0.8421052631578947 , -1.6724647982918963 )\n",
      "( 0.8596491228070176 , -1.672975061584418 )\n",
      "( 0.8771929824561403 , -1.6740866566485748 )\n",
      "( 0.894736842105263 , -1.6757891258064064 )\n",
      "( 0.9122807017543859 , -1.6780721932479892 )\n",
      "( 0.9298245614035088 , -1.6809257618685933 )\n",
      "( 0.9473684210526315 , -1.684339910160846 )\n",
      "( 0.9649122807017543 , -1.6883048891609413 )\n",
      "( 0.9824561403508771 , -1.6928111194479596 )\n"
     ]
    }
   ],
   "source": [
    "def f(t,x):\n",
    "    return -2*t-x\n",
    "x0 = 0 ; y0 =-0.5  ; y1 =-0.5 ; y2 = -1.125 ;  y3 = -1.421875 ; y4= -2.4453125\n",
    "N=1+56\n",
    "h=1/N\n",
    "predi_corre(f,x0,y0,y1,y2,y3,y4,h,N)"
   ]
  },
  {
   "cell_type": "code",
   "execution_count": null,
   "metadata": {},
   "outputs": [],
   "source": []
  }
 ],
 "metadata": {
  "kernelspec": {
   "display_name": "Python 3",
   "language": "python",
   "name": "python3"
  },
  "language_info": {
   "codemirror_mode": {
    "name": "ipython",
    "version": 3
   },
   "file_extension": ".py",
   "mimetype": "text/x-python",
   "name": "python",
   "nbconvert_exporter": "python",
   "pygments_lexer": "ipython3",
   "version": "3.5.2"
  }
 },
 "nbformat": 4,
 "nbformat_minor": 4
}
