{
 "cells": [
  {
   "cell_type": "markdown",
   "metadata": {},
   "source": [
    "# Práctica 1"
   ]
  },
  {
   "cell_type": "markdown",
   "metadata": {},
   "source": [
    "##### Autor: Pilar Navarro Ramírez"
   ]
  },
  {
   "cell_type": "code",
   "execution_count": 1,
   "metadata": {
    "scrolled": true
   },
   "outputs": [
    {
     "data": {
      "application/json": {
       "Software versions": [
        {
         "module": "Python",
         "version": "3.5.2 64bit [GCC 5.4.0 20160609]"
        },
        {
         "module": "IPython",
         "version": "7.9.0"
        },
        {
         "module": "OS",
         "version": "Linux 4.15.0 96 generic x86_64 with Ubuntu 16.04 xenial"
        },
        {
         "module": "numpy",
         "version": "1.18.3"
        },
        {
         "module": "matplotlib",
         "version": "3.0.3"
        },
        {
         "module": "sympy",
         "version": "1.5.1"
        }
       ]
      },
      "text/html": [
       "<table><tr><th>Software</th><th>Version</th></tr><tr><td>Python</td><td>3.5.2 64bit [GCC 5.4.0 20160609]</td></tr><tr><td>IPython</td><td>7.9.0</td></tr><tr><td>OS</td><td>Linux 4.15.0 96 generic x86_64 with Ubuntu 16.04 xenial</td></tr><tr><td>numpy</td><td>1.18.3</td></tr><tr><td>matplotlib</td><td>3.0.3</td></tr><tr><td>sympy</td><td>1.5.1</td></tr><tr><td colspan='2'>Fri May 01 22:05:47 2020 CEST</td></tr></table>"
      ],
      "text/latex": [
       "\\begin{tabular}{|l|l|}\\hline\n",
       "{\\bf Software} & {\\bf Version} \\\\ \\hline\\hline\n",
       "Python & 3.5.2 64bit [GCC 5.4.0 20160609] \\\\ \\hline\n",
       "IPython & 7.9.0 \\\\ \\hline\n",
       "OS & Linux 4.15.0 96 generic x86\\_64 with Ubuntu 16.04 xenial \\\\ \\hline\n",
       "numpy & 1.18.3 \\\\ \\hline\n",
       "matplotlib & 3.0.3 \\\\ \\hline\n",
       "sympy & 1.5.1 \\\\ \\hline\n",
       "\\hline \\multicolumn{2}{|l|}{Fri May 01 22:05:47 2020 CEST} \\\\ \\hline\n",
       "\\end{tabular}\n"
      ],
      "text/plain": [
       "Software versions\n",
       "Python 3.5.2 64bit [GCC 5.4.0 20160609]\n",
       "IPython 7.9.0\n",
       "OS Linux 4.15.0 96 generic x86_64 with Ubuntu 16.04 xenial\n",
       "numpy 1.18.3\n",
       "matplotlib 3.0.3\n",
       "sympy 1.5.1\n",
       "Fri May 01 22:05:47 2020 CEST"
      ]
     },
     "execution_count": 1,
     "metadata": {},
     "output_type": "execute_result"
    }
   ],
   "source": [
    "# Cargando el fichero version_information.py\n",
    "# alojado el directorio de trabajo actual\n",
    "# podremos comprobar las versiones concretas\n",
    "# tanto del intérprete de Python, como de los\n",
    "# módulos empleados.\n",
    "\n",
    "%reload_ext version_information\n",
    "\n",
    "%version_information numpy, matplotlib, sympy"
   ]
  },
  {
   "cell_type": "code",
   "execution_count": 2,
   "metadata": {},
   "outputs": [],
   "source": [
    "from decimal import *"
   ]
  },
  {
   "cell_type": "code",
   "execution_count": 3,
   "metadata": {},
   "outputs": [
    {
     "data": {
      "text/plain": [
       "28"
      ]
     },
     "execution_count": 3,
     "metadata": {},
     "output_type": "execute_result"
    }
   ],
   "source": [
    "mporig = getcontext().prec\n",
    "mporig  # Esta sería la precisión con la que se trabaja por defecto"
   ]
  },
  {
   "cell_type": "markdown",
   "metadata": {},
   "source": [
    "## Ejercicios"
   ]
  },
  {
   "cell_type": "markdown",
   "metadata": {},
   "source": [
    "\n",
    "1.- Demuestre que la ecuación  $x^3+4 x^2=10$  tiene una única raíz en el intervalo $[1,2]$.  Aproxime dicha\n",
    "raíz con el método de bisección con al menos 3 cifras decimales exactas. ¿Cuántas iteraciones serán necesarias para\n",
    "conseguir 5 cifras decimales exactas?  Aproxime también la raíz con el método de Newton-Raphson partiendo del extremo adecuado\n",
    "hasta que la diferencia en valor absoluto, entre dos aproximaciones consecutivas sea  inferior a  $10^{-3}$."
   ]
  },
  {
   "cell_type": "code",
   "execution_count": 1,
   "metadata": {},
   "outputs": [],
   "source": [
    "import numpy as np\n",
    "%matplotlib inline\n",
    "import matplotlib.pyplot as plt\n",
    "import sympy as sp #calculo simbólico\n",
    "sp.init_printing()   \n",
    "from numpy import sign\n",
    "from decimal import *\n",
    "\n",
    "from sympy.solvers import solve, nsolve, solveset\n",
    "from scipy.optimize import fsolve\n",
    "from sympy import Symbol, exp"
   ]
  },
  {
   "cell_type": "code",
   "execution_count": 2,
   "metadata": {},
   "outputs": [],
   "source": [
    "x=Symbol('x')"
   ]
  },
  {
   "cell_type": "code",
   "execution_count": 3,
   "metadata": {},
   "outputs": [],
   "source": [
    "def f(x):\n",
    "    ''' función ejer1'''\n",
    "    return sp.exp(x)+sp.exp(x)**2+1"
   ]
  },
  {
   "cell_type": "code",
   "execution_count": 7,
   "metadata": {},
   "outputs": [],
   "source": [
    "a = 1; b = 2;"
   ]
  },
  {
   "cell_type": "code",
   "execution_count": 8,
   "metadata": {},
   "outputs": [
    {
     "data": {
      "image/png": "[encoded data removed]",
      "text/latex": [
       "$\\displaystyle \\left( -5, \\  14\\right)$"
      ],
      "text/plain": [
       "(-5, 14)"
      ]
     },
     "execution_count": 8,
     "metadata": {},
     "output_type": "execute_result"
    }
   ],
   "source": [
    "f(a),f(b)"
   ]
  },
  {
   "cell_type": "code",
   "execution_count": 9,
   "metadata": {
    "scrolled": true
   },
   "outputs": [
    {
     "data": {
      "image/png": "[encoded data removed]",
      "text/plain": [
       "<Figure size 432x288 with 1 Axes>"
      ]
     },
     "metadata": {
      "needs_background": "light"
     },
     "output_type": "display_data"
    },
    {
     "data": {
      "text/plain": [
       "<sympy.plotting.plot.Plot at 0x7f919154bc18>"
      ]
     },
     "execution_count": 9,
     "metadata": {},
     "output_type": "execute_result"
    }
   ],
   "source": [
    "sp.plot(f(x),(x,a,b))"
   ]
  },
  {
   "cell_type": "code",
   "execution_count": 5,
   "metadata": {
    "scrolled": true
   },
   "outputs": [
    {
     "data": {
      "image/png": "[encoded data removed]",
      "text/latex": [
       "$\\displaystyle \\left[ - \\frac{2 i \\pi}{3}, \\  \\frac{2 i \\pi}{3}\\right]$"
      ],
      "text/plain": [
       "⎡-2⋅ⅈ⋅π   2⋅ⅈ⋅π⎤\n",
       "⎢───────, ─────⎥\n",
       "⎣   3       3  ⎦"
      ]
     },
     "execution_count": 5,
     "metadata": {},
     "output_type": "execute_result"
    }
   ],
   "source": [
    "sol_exact = sp.solve(f(x),x) #la última solución es la real, las otras son complejas\n",
    "sol_exact\n",
    "#sol_exact.evalf()"
   ]
  },
  {
   "cell_type": "markdown",
   "metadata": {},
   "source": [
    "**Aproximación por bisección**"
   ]
  },
  {
   "cell_type": "code",
   "execution_count": 11,
   "metadata": {},
   "outputs": [],
   "source": [
    "a0 = a; b0 = b;\n",
    "\n",
    "#Ajuste de los criterios de parada\n",
    "mp = 10\n",
    "prec = 10 **(-mp) #Error máximo que tendrá la solución\n",
    "nmax = 100   #Número de iteraciones máximas\n",
    "cifras = 4 #Numero de cifras con el que queremos trabajar\n",
    "tol = 10**(-cifras) #toleracia, longitud mínima del intervalo donde está la sol"
   ]
  },
  {
   "cell_type": "code",
   "execution_count": 12,
   "metadata": {},
   "outputs": [
    {
     "name": "stdout",
     "output_type": "stream",
     "text": [
      "Aproximación solicitada:  1.365173340\n",
      "Solución exacta con  4  cifras significativas 1.365\n",
      "Número total de iteraciones  14\n"
     ]
    }
   ],
   "source": [
    "a,b = Decimal(a),Decimal(b)\n",
    "niter = 0; getcontext().prec = mp\n",
    "for k in range(nmax):\n",
    "    niter = niter + 1;\n",
    "    c = a + (b-a)/2 # equivalente a c = (a+b)/2\n",
    "    if abs(f(c)) < prec:\n",
    "        sale = 'precision'\n",
    "        break\n",
    "    if sign(f(a)) != sign(f(c)):\n",
    "        b = c\n",
    "    else:\n",
    "        a = c\n",
    "    if b-a < tol:\n",
    "        sale = 'tolerancia'\n",
    "        break\n",
    "\n",
    "if sale == 'precision':\n",
    "    print('Posiblemente solución exacta: ',Decimal(c))\n",
    "elif k <= nmax:\n",
    "    print('Aproximación solicitada: ',Decimal(c))\n",
    "else:\n",
    "    print('Se llegó al número máximo de iteraciones')\n",
    "print('Solución exacta con ', cifras, ' cifras significativas', sol_exact.evalf(n=cifras))\n",
    "print('Número total de iteraciones ', niter)\n",
    "\n",
    "a = a0; b = b0 # Restauramos los valores originales de a y b\n",
    "getcontext().prec = mporig # así como la precisión por defecto"
   ]
  },
  {
   "cell_type": "markdown",
   "metadata": {},
   "source": [
    "Número de iteraciones necesarias para conseguir 5 cifras decimales exactas:"
   ]
  },
  {
   "cell_type": "code",
   "execution_count": 13,
   "metadata": {},
   "outputs": [],
   "source": [
    "cifras = 6 \n",
    "tol = 10**(-cifras)"
   ]
  },
  {
   "cell_type": "code",
   "execution_count": 14,
   "metadata": {},
   "outputs": [
    {
     "name": "stdout",
     "output_type": "stream",
     "text": [
      "Aproximación solicitada:  1.36524\n",
      "Solución exacta con  6  cifras significativas 1.36523\n",
      "Número total de iteraciones  100\n"
     ]
    }
   ],
   "source": [
    "a,b = Decimal(a),Decimal(b)\n",
    "niter = 0; getcontext().prec = cifras\n",
    "for k in range(nmax):\n",
    "    niter = niter + 1;\n",
    "    c = a + (b-a)/2 # equivalente a c = (a+b)/2\n",
    "    if abs(f(c)) < prec:\n",
    "        sale = 'precision'\n",
    "        break\n",
    "    if sign(f(a)) != sign(f(c)):\n",
    "        b = c\n",
    "    else:\n",
    "        a = c\n",
    "    if b-a < tol:\n",
    "        sale = 'tolerancia'\n",
    "        break\n",
    "\n",
    "if sale == 'precision':\n",
    "    print('Posiblemente solución exacta: ',Decimal(c))\n",
    "elif k <= nmax:\n",
    "    print('Aproximación solicitada: ',Decimal(c))\n",
    "else:\n",
    "    print('Se llegó al número máximo de iteraciones')\n",
    "print('Solución exacta con ', cifras, ' cifras significativas', sol_exact.evalf(n=cifras))\n",
    "print('Número total de iteraciones ', niter)\n",
    "\n",
    "a = a0; b = b0 # Restauramos los valores originales de a y b\n",
    "getcontext().prec = mporig # así como la precisión por defecto"
   ]
  },
  {
   "cell_type": "markdown",
   "metadata": {},
   "source": [
    "**Aproximación con Newton-Raphson**"
   ]
  },
  {
   "cell_type": "code",
   "execution_count": 15,
   "metadata": {},
   "outputs": [
    {
     "data": {
      "image/png": "[encoded data removed]",
      "text/latex": [
       "$\\displaystyle \\left( x^{3} + 4 x^{2} - 10, \\  3 x^{2} + 8 x\\right)$"
      ],
      "text/plain": [
       "⎛ 3      2          2      ⎞\n",
       "⎝x  + 4⋅x  - 10, 3⋅x  + 8⋅x⎠"
      ]
     },
     "execution_count": 15,
     "metadata": {},
     "output_type": "execute_result"
    }
   ],
   "source": [
    "f(x),sp.diff(f(x),x)"
   ]
  },
  {
   "cell_type": "code",
   "execution_count": 16,
   "metadata": {},
   "outputs": [],
   "source": [
    "def df(x):\n",
    "    ''' derivada de f'''\n",
    "    return 3*x**2+8*x"
   ]
  },
  {
   "cell_type": "code",
   "execution_count": 17,
   "metadata": {},
   "outputs": [
    {
     "data": {
      "image/png": "[encoded data removed]",
      "text/latex": [
       "$\\displaystyle \\left( 3 x^{2} + 8 x, \\  6 x + 8\\right)$"
      ],
      "text/plain": [
       "⎛   2               ⎞\n",
       "⎝3⋅x  + 8⋅x, 6⋅x + 8⎠"
      ]
     },
     "execution_count": 17,
     "metadata": {},
     "output_type": "execute_result"
    }
   ],
   "source": [
    "df(x),sp.diff(df(x),x)"
   ]
  },
  {
   "cell_type": "code",
   "execution_count": 18,
   "metadata": {},
   "outputs": [],
   "source": [
    "def ddf(x):\n",
    "    ''' segunda derivada de f'''\n",
    "    return 6*x+8"
   ]
  },
  {
   "cell_type": "code",
   "execution_count": 19,
   "metadata": {},
   "outputs": [
    {
     "data": {
      "text/plain": [
       "-1"
      ]
     },
     "execution_count": 19,
     "metadata": {},
     "output_type": "execute_result"
    }
   ],
   "source": [
    "sign(f(a)*ddf(a))"
   ]
  },
  {
   "cell_type": "code",
   "execution_count": 20,
   "metadata": {},
   "outputs": [
    {
     "data": {
      "text/plain": [
       "1"
      ]
     },
     "execution_count": 20,
     "metadata": {},
     "output_type": "execute_result"
    }
   ],
   "source": [
    "sign(f(b)*ddf(b))  #Tomamos el extremo b del intervalo como x0, pues el signo es positivo de este producto"
   ]
  },
  {
   "cell_type": "code",
   "execution_count": 21,
   "metadata": {},
   "outputs": [],
   "source": [
    "tol = 10**(-3)"
   ]
  },
  {
   "cell_type": "code",
   "execution_count": 22,
   "metadata": {},
   "outputs": [
    {
     "name": "stdout",
     "output_type": "stream",
     "text": [
      "sale el programa por  tolerancia\n",
      "Aproximación solicitada:  1.365230014\n",
      "Solución exacta con  6  cifras significativas 1.36523\n",
      "Número total de iteraciones  4\n"
     ]
    }
   ],
   "source": [
    "x0 = Decimal(b); niter = 0\n",
    "getcontext().prec = mp\n",
    "for k in range(nmax):\n",
    "    niter = niter + 1;\n",
    "    x1 = x0 - f(x0)/Decimal(df(x0))\n",
    "    if abs(x1-x0) < tol:\n",
    "        sale = 'tolerancia'\n",
    "        break\n",
    "    if abs(f(x1)) < prec:  \n",
    "        sale = 'precision'\n",
    "        break\n",
    "    else:\n",
    "        x0 = x1  \n",
    "                \n",
    "print('sale el programa por ',sale)\n",
    "if sale == 'precision':\n",
    "    print('Posiblemente solución exacta: ',x1)\n",
    "elif k <= nmax:\n",
    "    print('Aproximación solicitada: ', x1)\n",
    "else:\n",
    "    print('Se llegó al número máximo de iteraciones')\n",
    "print('Solución exacta con ', cifras, ' cifras significativas', sol_exact.evalf(n=cifras))\n",
    "print('Número total de iteraciones ', niter)\n",
    "\n",
    "getcontext().prec = mporig # Se restaura la precisión por defecto"
   ]
  },
  {
   "cell_type": "markdown",
   "metadata": {},
   "source": [
    "2.- Encuentre una aproximación de la raíz cúbica de 25 con dos decimales exactos, usando el algoritmo de bisección."
   ]
  },
  {
   "cell_type": "code",
   "execution_count": 23,
   "metadata": {},
   "outputs": [],
   "source": [
    "import numpy as np\n",
    "%matplotlib inline\n",
    "import matplotlib.pyplot as plt\n",
    "import sympy as sp #calculo simbólico\n",
    "sp.init_printing()   \n",
    "from numpy import sign\n",
    "from decimal import *\n",
    "\n",
    "from sympy.solvers import solve, nsolve, solveset\n",
    "from scipy.optimize import fsolve\n",
    "from sympy import Symbol, exp"
   ]
  },
  {
   "cell_type": "code",
   "execution_count": 24,
   "metadata": {},
   "outputs": [],
   "source": [
    "x=Symbol('x')"
   ]
  },
  {
   "cell_type": "code",
   "execution_count": 25,
   "metadata": {},
   "outputs": [],
   "source": [
    "def f(x):\n",
    "    ''' función ejer2'''\n",
    "    return x**3-25"
   ]
  },
  {
   "cell_type": "code",
   "execution_count": 26,
   "metadata": {},
   "outputs": [],
   "source": [
    "#buscar cambios de signo en una partición del intervalo\n",
    "def buscaraiz(f,a,b,dx): \n",
    "    x1 = a; x2 = a + dx\n",
    "    f1 = f(x1); f2 = f(x2)\n",
    "    while sign(f1) == sign(f2): \n",
    "        if x1 >= b: return None,None \n",
    "        x1 = x2;  f1 = f2\n",
    "        x2 = x1 + dx; f2 = f(x2)\n",
    "    else:\n",
    "        return x1,x2"
   ]
  },
  {
   "cell_type": "code",
   "execution_count": 27,
   "metadata": {},
   "outputs": [],
   "source": [
    "a,b=buscaraiz(f,0,5,0.1)"
   ]
  },
  {
   "cell_type": "code",
   "execution_count": 28,
   "metadata": {},
   "outputs": [
    {
     "data": {
      "image/png": "[encoded data removed]",
      "text/latex": [
       "$\\displaystyle \\left( 2.9000000000000012, \\  3.0000000000000013\\right)$"
      ],
      "text/plain": [
       "(2.9000000000000012, 3.0000000000000013)"
      ]
     },
     "execution_count": 28,
     "metadata": {},
     "output_type": "execute_result"
    }
   ],
   "source": [
    "a,b #la solución está en este intervalo"
   ]
  },
  {
   "cell_type": "code",
   "execution_count": 29,
   "metadata": {},
   "outputs": [
    {
     "data": {
      "image/png": "[encoded data removed]",
      "text/plain": [
       "<Figure size 432x288 with 1 Axes>"
      ]
     },
     "metadata": {
      "needs_background": "light"
     },
     "output_type": "display_data"
    },
    {
     "data": {
      "text/plain": [
       "<sympy.plotting.plot.Plot at 0x7f91914d6358>"
      ]
     },
     "execution_count": 29,
     "metadata": {},
     "output_type": "execute_result"
    }
   ],
   "source": [
    "sp.plot(f(x),(x,a,b))"
   ]
  },
  {
   "cell_type": "code",
   "execution_count": 30,
   "metadata": {},
   "outputs": [
    {
     "name": "stdout",
     "output_type": "stream",
     "text": [
      "5**(2/3)\n"
     ]
    },
    {
     "data": {
      "image/png": "[encoded data removed]",
      "text/latex": [
       "$\\displaystyle 2.92401773821287$"
      ],
      "text/plain": [
       "2.92401773821287"
      ]
     },
     "execution_count": 30,
     "metadata": {},
     "output_type": "execute_result"
    }
   ],
   "source": [
    "sol_exact = sp.solve(f(x),x)[0] #la primera solución es la real, las otras son complejas\n",
    "print(sol_exact)\n",
    "sol_exact.evalf()"
   ]
  },
  {
   "cell_type": "code",
   "execution_count": 31,
   "metadata": {},
   "outputs": [],
   "source": [
    "a0 = a; b0 = b;\n",
    "\n",
    "#Ajuste de los criterios de parada\n",
    "mp = 10\n",
    "prec = 10 **(-mp) #Error máximo que tendrá la solución\n",
    "nmax = 100   #Número de iteraciones máximas\n",
    "cifras = 3 #Numero de cifras con el que queremos trabajar\n",
    "tol = 10**(-cifras) #toleracia, longitud mínima del intervalo donde está la sol"
   ]
  },
  {
   "cell_type": "code",
   "execution_count": 32,
   "metadata": {},
   "outputs": [
    {
     "name": "stdout",
     "output_type": "stream",
     "text": [
      "Aproximación solicitada:  2.92\n",
      "Solución exacta con  3  cifras significativas 2.92\n",
      "Número total de iteraciones  100\n"
     ]
    }
   ],
   "source": [
    "a,b = Decimal(a),Decimal(b)\n",
    "niter = 0; getcontext().prec = cifras\n",
    "for k in range(nmax):\n",
    "    niter = niter + 1;\n",
    "    c = a + (b-a)/2 # equivalente a c = (a+b)/2\n",
    "    if abs(f(c)) < prec:\n",
    "        sale = 'precision'\n",
    "        break\n",
    "    if sign(f(a)) != sign(f(c)):\n",
    "        b = c\n",
    "    else:\n",
    "        a = c\n",
    "    if b-a < tol:\n",
    "        sale = 'tolerancia'\n",
    "        break\n",
    "\n",
    "if sale == 'precision':\n",
    "    print('Posiblemente solución exacta: ',Decimal(c))\n",
    "elif k <= nmax:\n",
    "    print('Aproximación solicitada: ',Decimal(c))\n",
    "else:\n",
    "    print('Se llegó al número máximo de iteraciones')\n",
    "print('Solución exacta con ', cifras, ' cifras significativas', sol_exact.evalf(n=cifras))\n",
    "print('Número total de iteraciones ', niter)\n",
    "\n",
    "a = a0; b = b0 # Restauramos los valores originales de a y b\n",
    "getcontext().prec = mporig # así como la precisión por defecto"
   ]
  },
  {
   "cell_type": "markdown",
   "metadata": {},
   "source": [
    "3.- Use el método de Newton-Raphson para aproximar las soluciones de las siguientes ecuaciones con tolerancia $10^{-5}$ , partiendo de\n",
    "un valor adecuado, próximo a cada una de ellas en cada caso.\n",
    "\n",
    "i) $x^3-x-1 = 0$  en $[1,2]$.\n",
    "\n",
    "ii) $3x=2+x^2-e^x$.\n",
    "\n",
    "iii) $x^2+10 cos x+x=0$."
   ]
  },
  {
   "cell_type": "code",
   "execution_count": 33,
   "metadata": {},
   "outputs": [],
   "source": [
    "import numpy as np\n",
    "%matplotlib inline\n",
    "import matplotlib.pyplot as plt\n",
    "import sympy as sp #calculo simbólico\n",
    "sp.init_printing()   \n",
    "from numpy import sign\n",
    "from decimal import *\n",
    "\n",
    "from sympy.solvers import solve, nsolve, solveset\n",
    "from scipy.optimize import fsolve\n",
    "from sympy import Symbol, exp"
   ]
  },
  {
   "cell_type": "code",
   "execution_count": 34,
   "metadata": {},
   "outputs": [],
   "source": [
    "x=Symbol('x')\n",
    "\n",
    "#Ajuste de los criterios de parada\n",
    "mp = 10\n",
    "prec = 10 **(-mp) #Error máximo que tendrá la solución\n",
    "nmax = 100   #Número de iteraciones máximas\n",
    "cifras = 7 #Numero de cifras con el que queremos trabajar\n",
    "tol = 10**(-5) #toleracia, longitud mínima del intervalo donde está la sol"
   ]
  },
  {
   "cell_type": "code",
   "execution_count": 35,
   "metadata": {},
   "outputs": [],
   "source": [
    "def f1(x):\n",
    "    ''' función i)'''\n",
    "    return x**3-x-1"
   ]
  },
  {
   "cell_type": "code",
   "execution_count": 36,
   "metadata": {},
   "outputs": [
    {
     "data": {
      "image/png": "[encoded data removed]",
      "text/latex": [
       "$\\displaystyle \\left( x^{3} - x - 1, \\  3 x^{2} - 1\\right)$"
      ],
      "text/plain": [
       "⎛ 3             2    ⎞\n",
       "⎝x  - x - 1, 3⋅x  - 1⎠"
      ]
     },
     "execution_count": 36,
     "metadata": {},
     "output_type": "execute_result"
    }
   ],
   "source": [
    "f1(x),sp.diff(f1(x),x)"
   ]
  },
  {
   "cell_type": "code",
   "execution_count": 37,
   "metadata": {},
   "outputs": [],
   "source": [
    "def df1(x):\n",
    "    '''derivada de f1'''\n",
    "    return 3*x**2-1"
   ]
  },
  {
   "cell_type": "code",
   "execution_count": 38,
   "metadata": {},
   "outputs": [
    {
     "data": {
      "image/png": "[encoded data removed]",
      "text/latex": [
       "$\\displaystyle \\left( 3 x^{2} - 1, \\  6 x\\right)$"
      ],
      "text/plain": [
       "⎛   2         ⎞\n",
       "⎝3⋅x  - 1, 6⋅x⎠"
      ]
     },
     "execution_count": 38,
     "metadata": {},
     "output_type": "execute_result"
    }
   ],
   "source": [
    "df1(x),sp.diff(df1(x),x)"
   ]
  },
  {
   "cell_type": "code",
   "execution_count": 39,
   "metadata": {},
   "outputs": [],
   "source": [
    "def ddf1(x):\n",
    "    '''segunda derivada de f1'''\n",
    "    return 6*x"
   ]
  },
  {
   "cell_type": "code",
   "execution_count": 40,
   "metadata": {},
   "outputs": [],
   "source": [
    "a=1;b=2;"
   ]
  },
  {
   "cell_type": "code",
   "execution_count": 41,
   "metadata": {},
   "outputs": [
    {
     "data": {
      "text/plain": [
       "-1"
      ]
     },
     "execution_count": 41,
     "metadata": {},
     "output_type": "execute_result"
    }
   ],
   "source": [
    "sign(f1(a)*ddf1(a))"
   ]
  },
  {
   "cell_type": "code",
   "execution_count": 42,
   "metadata": {},
   "outputs": [
    {
     "data": {
      "text/plain": [
       "1"
      ]
     },
     "execution_count": 42,
     "metadata": {},
     "output_type": "execute_result"
    }
   ],
   "source": [
    "sign(f1(b)*ddf1(b))"
   ]
  },
  {
   "cell_type": "code",
   "execution_count": 43,
   "metadata": {},
   "outputs": [
    {
     "data": {
      "image/png": "[encoded data removed]",
      "text/plain": [
       "<Figure size 432x288 with 1 Axes>"
      ]
     },
     "metadata": {
      "needs_background": "light"
     },
     "output_type": "display_data"
    },
    {
     "data": {
      "text/plain": [
       "<sympy.plotting.plot.Plot at 0x7f918f322630>"
      ]
     },
     "execution_count": 43,
     "metadata": {},
     "output_type": "execute_result"
    }
   ],
   "source": [
    "sp.plot(f1(x),(x,a,b))"
   ]
  },
  {
   "cell_type": "code",
   "execution_count": 44,
   "metadata": {},
   "outputs": [
    {
     "name": "stdout",
     "output_type": "stream",
     "text": [
      "1/(3*(sqrt(69)/18 + 1/2)**(1/3)) + (sqrt(69)/18 + 1/2)**(1/3)\n"
     ]
    },
    {
     "data": {
      "image/png": "[encoded data removed]",
      "text/latex": [
       "$\\displaystyle 1.32471795724475$"
      ],
      "text/plain": [
       "1.32471795724475"
      ]
     },
     "execution_count": 44,
     "metadata": {},
     "output_type": "execute_result"
    }
   ],
   "source": [
    "sol_exact = sp.solve(f1(x),x)[2] #la última solución es la real, las otras son complejas\n",
    "print(sol_exact)\n",
    "sol_exact.evalf()"
   ]
  },
  {
   "cell_type": "code",
   "execution_count": 45,
   "metadata": {},
   "outputs": [
    {
     "name": "stdout",
     "output_type": "stream",
     "text": [
      "sale el programa por  tolerancia\n",
      "Aproximación solicitada:  1.324717957\n",
      "Solución exacta con  7  cifras significativas 1.324718\n",
      "Número total de iteraciones  5\n"
     ]
    }
   ],
   "source": [
    "x0 = Decimal(b); niter = 0; \n",
    "getcontext().prec = mp\n",
    "for k in range(nmax):\n",
    "    niter = niter + 1;\n",
    "    x1 = x0 - f1(x0)/Decimal(df1(x0))\n",
    "    if abs(x1-x0) < tol:\n",
    "        sale = 'tolerancia'\n",
    "        break\n",
    "    if abs(f1(x1)) < prec:  \n",
    "        sale = 'precision'\n",
    "        break\n",
    "    else:\n",
    "        x0 = x1  \n",
    "                \n",
    "print('sale el programa por ',sale)\n",
    "if sale == 'precision':\n",
    "    print('Posiblemente solución exacta: ',x1)\n",
    "elif k <= nmax:\n",
    "    print('Aproximación solicitada: ', x1)\n",
    "else:\n",
    "    print('Se llegó al número máximo de iteraciones')\n",
    "print('Solución exacta con ', cifras, ' cifras significativas', sol_exact.evalf(n=cifras))\n",
    "print('Número total de iteraciones ', niter)\n",
    "\n",
    "getcontext().prec = mporig # Se restaura la precisión por defecto"
   ]
  },
  {
   "cell_type": "code",
   "execution_count": 46,
   "metadata": {},
   "outputs": [],
   "source": [
    "def f2(x):\n",
    "    ''' función ii)'''\n",
    "    return 3*x-x**2-2+sp.exp(x)"
   ]
  },
  {
   "cell_type": "code",
   "execution_count": 47,
   "metadata": {},
   "outputs": [
    {
     "data": {
      "image/png": "[encoded data removed]",
      "text/latex": [
       "$\\displaystyle \\left( - x^{2} + 3 x + e^{x} - 2, \\  - 2 x + e^{x} + 3\\right)$"
      ],
      "text/plain": [
       "⎛   2          x              x    ⎞\n",
       "⎝- x  + 3⋅x + ℯ  - 2, -2⋅x + ℯ  + 3⎠"
      ]
     },
     "execution_count": 47,
     "metadata": {},
     "output_type": "execute_result"
    }
   ],
   "source": [
    "f2(x),sp.diff(f2(x),x)"
   ]
  },
  {
   "cell_type": "code",
   "execution_count": 48,
   "metadata": {},
   "outputs": [],
   "source": [
    "def df2(x):\n",
    "    '''derivada de f2'''\n",
    "    return -2*x+3+sp.exp(x)"
   ]
  },
  {
   "cell_type": "code",
   "execution_count": 49,
   "metadata": {},
   "outputs": [
    {
     "data": {
      "image/png": "[encoded data removed]",
      "text/latex": [
       "$\\displaystyle \\left( - 2 x + e^{x} + 3, \\  e^{x} - 2\\right)$"
      ],
      "text/plain": [
       "⎛        x       x    ⎞\n",
       "⎝-2⋅x + ℯ  + 3, ℯ  - 2⎠"
      ]
     },
     "execution_count": 49,
     "metadata": {},
     "output_type": "execute_result"
    }
   ],
   "source": [
    "df2(x),sp.diff(df2(x),x)"
   ]
  },
  {
   "cell_type": "code",
   "execution_count": 50,
   "metadata": {},
   "outputs": [],
   "source": [
    "def ddf2(x):\n",
    "    '''segunda derivada de f2'''\n",
    "    return sp.exp(x)-2"
   ]
  },
  {
   "cell_type": "code",
   "execution_count": 51,
   "metadata": {},
   "outputs": [
    {
     "name": "stdout",
     "output_type": "stream",
     "text": [
      "0.257530285439861\n"
     ]
    }
   ],
   "source": [
    "sol_exact = sp.nsolve(f2(x),x,0) \n",
    "print(sol_exact)"
   ]
  },
  {
   "cell_type": "code",
   "execution_count": 52,
   "metadata": {},
   "outputs": [
    {
     "data": {
      "image/png": "[encoded data removed]",
      "text/plain": [
       "<Figure size 432x288 with 1 Axes>"
      ]
     },
     "metadata": {
      "needs_background": "light"
     },
     "output_type": "display_data"
    },
    {
     "data": {
      "text/plain": [
       "<sympy.plotting.plot.Plot at 0x7f918f2def28>"
      ]
     },
     "execution_count": 52,
     "metadata": {},
     "output_type": "execute_result"
    }
   ],
   "source": [
    "sp.plot(f2(x),(x,0,1))  #probando valores del intervalo en la represetación gráfica vemos que la raíz esta en [0,1]"
   ]
  },
  {
   "cell_type": "code",
   "execution_count": 53,
   "metadata": {},
   "outputs": [],
   "source": [
    "a=0;b=1;"
   ]
  },
  {
   "cell_type": "code",
   "execution_count": 54,
   "metadata": {},
   "outputs": [
    {
     "data": {
      "image/png": "[encoded data removed]",
      "text/latex": [
       "$\\displaystyle 1$"
      ],
      "text/plain": [
       "1"
      ]
     },
     "execution_count": 54,
     "metadata": {},
     "output_type": "execute_result"
    }
   ],
   "source": [
    "sign(f2(a)*ddf2(a))"
   ]
  },
  {
   "cell_type": "code",
   "execution_count": 55,
   "metadata": {},
   "outputs": [
    {
     "name": "stdout",
     "output_type": "stream",
     "text": [
      "sale el programa por  tolerancia\n",
      "Aproximación solicitada:  0.257530285437195\n",
      "Solución exacta con  7  cifras significativas 0.2575303\n",
      "Número total de iteraciones  3\n"
     ]
    }
   ],
   "source": [
    "x0 = Decimal(a); niter = 0\n",
    "getcontext().prec = mp\n",
    "for k in range(nmax):\n",
    "    niter = niter + 1;\n",
    "    x1 = x0 - f2(x0)/df2(x0)\n",
    "    if abs(x1-x0) < tol:\n",
    "        sale = 'tolerancia'\n",
    "        break\n",
    "    if abs(f2(x1)) < prec:  \n",
    "        sale = 'precision'\n",
    "        break\n",
    "    else:\n",
    "        x0 = x1  \n",
    "                \n",
    "print('sale el programa por ',sale)\n",
    "if sale == 'precision':\n",
    "    print('Posiblemente solución exacta: ',x1)\n",
    "elif k <= nmax:\n",
    "    print('Aproximación solicitada: ', x1)\n",
    "else:\n",
    "    print('Se llegó al número máximo de iteraciones')\n",
    "print('Solución exacta con ', cifras, ' cifras significativas', sol_exact.evalf(n=cifras))\n",
    "print('Número total de iteraciones ', niter)\n",
    "\n",
    "getcontext().prec = mporig # Se restaura la precisión por defecto"
   ]
  },
  {
   "cell_type": "code",
   "execution_count": 56,
   "metadata": {},
   "outputs": [],
   "source": [
    "def f3(x):\n",
    "    ''' función iii)'''\n",
    "    return x**2+10*sp.cos(x)+x"
   ]
  },
  {
   "cell_type": "code",
   "execution_count": 57,
   "metadata": {},
   "outputs": [
    {
     "data": {
      "image/png": "[encoded data removed]",
      "text/latex": [
       "$\\displaystyle \\left( x^{2} + x + 10 \\cos{\\left(x \\right)}, \\  2 x - 10 \\sin{\\left(x \\right)} + 1\\right)$"
      ],
      "text/plain": [
       "⎛ 2                                     ⎞\n",
       "⎝x  + x + 10⋅cos(x), 2⋅x - 10⋅sin(x) + 1⎠"
      ]
     },
     "execution_count": 57,
     "metadata": {},
     "output_type": "execute_result"
    }
   ],
   "source": [
    "f3(x),sp.diff(f3(x),x)"
   ]
  },
  {
   "cell_type": "code",
   "execution_count": 58,
   "metadata": {},
   "outputs": [],
   "source": [
    "def df3(x):\n",
    "    '''derivada de f3'''\n",
    "    return 2*x-10*sp.sin(x)+1"
   ]
  },
  {
   "cell_type": "code",
   "execution_count": 59,
   "metadata": {},
   "outputs": [
    {
     "data": {
      "image/png": "[encoded data removed]",
      "text/latex": [
       "$\\displaystyle \\left( 2 x - 10 \\sin{\\left(x \\right)} + 1, \\  2 - 10 \\cos{\\left(x \\right)}\\right)$"
      ],
      "text/plain": [
       "(2⋅x - 10⋅sin(x) + 1, 2 - 10⋅cos(x))"
      ]
     },
     "execution_count": 59,
     "metadata": {},
     "output_type": "execute_result"
    }
   ],
   "source": [
    "df3(x),sp.diff(df3(x),x)"
   ]
  },
  {
   "cell_type": "code",
   "execution_count": 60,
   "metadata": {},
   "outputs": [],
   "source": [
    "def ddf3(x):\n",
    "    '''segunda derivada de f3'''\n",
    "    return 2-10*sp.cos(x)"
   ]
  },
  {
   "cell_type": "code",
   "execution_count": 61,
   "metadata": {},
   "outputs": [
    {
     "data": {
      "image/png": "[encoded data removed]",
      "text/plain": [
       "<Figure size 432x288 with 1 Axes>"
      ]
     },
     "metadata": {
      "needs_background": "light"
     },
     "output_type": "display_data"
    },
    {
     "data": {
      "text/plain": [
       "<sympy.plotting.plot.Plot at 0x7f918f2bc128>"
      ]
     },
     "execution_count": 61,
     "metadata": {},
     "output_type": "execute_result"
    }
   ],
   "source": [
    "sp.plot(f3(x),(x,-7,7))  "
   ]
  },
  {
   "cell_type": "markdown",
   "metadata": {},
   "source": [
    "Vemos en la gráfica que hay dos soluciones, buscamos gráficamente los intervalos en los que se encuentran"
   ]
  },
  {
   "cell_type": "markdown",
   "metadata": {},
   "source": [
    "Primera solución:"
   ]
  },
  {
   "cell_type": "code",
   "execution_count": 62,
   "metadata": {},
   "outputs": [
    {
     "data": {
      "image/png": "[encoded data removed]",
      "text/plain": [
       "<Figure size 432x288 with 1 Axes>"
      ]
     },
     "metadata": {
      "needs_background": "light"
     },
     "output_type": "display_data"
    },
    {
     "data": {
      "text/plain": [
       "<sympy.plotting.plot.Plot at 0x7f918f286cc0>"
      ]
     },
     "execution_count": 62,
     "metadata": {},
     "output_type": "execute_result"
    }
   ],
   "source": [
    "sp.plot(f3(x),(x,-4,-3))  "
   ]
  },
  {
   "cell_type": "code",
   "execution_count": 63,
   "metadata": {},
   "outputs": [
    {
     "name": "stdout",
     "output_type": "stream",
     "text": [
      "-3.56233149723641\n"
     ]
    }
   ],
   "source": [
    "sol_exact = sp.nsolve(f3(x),x,-4) \n",
    "print(sol_exact)"
   ]
  },
  {
   "cell_type": "code",
   "execution_count": 64,
   "metadata": {},
   "outputs": [],
   "source": [
    "a=-4;b=-3"
   ]
  },
  {
   "cell_type": "code",
   "execution_count": 65,
   "metadata": {},
   "outputs": [
    {
     "data": {
      "image/png": "[encoded data removed]",
      "text/latex": [
       "$\\displaystyle 1$"
      ],
      "text/plain": [
       "1"
      ]
     },
     "execution_count": 65,
     "metadata": {},
     "output_type": "execute_result"
    }
   ],
   "source": [
    "sign(f3(a)*ddf3(a))"
   ]
  },
  {
   "cell_type": "code",
   "execution_count": 66,
   "metadata": {},
   "outputs": [
    {
     "name": "stdout",
     "output_type": "stream",
     "text": [
      "sale el programa por  tolerancia\n",
      "Aproximación solicitada:  -3.56233149723883\n",
      "Solución exacta con  7  cifras significativas -3.562331\n",
      "Número total de iteraciones  4\n"
     ]
    }
   ],
   "source": [
    "x0 = Decimal(a); niter = 0\n",
    "getcontext().prec = mp\n",
    "for k in range(nmax):\n",
    "    niter = niter + 1;\n",
    "    x1 = x0 - f3(x0)/df3(x0)\n",
    "    if abs(x1-x0) < tol:\n",
    "        sale = 'tolerancia'\n",
    "        break\n",
    "    if abs(f3(x1)) < prec:  \n",
    "        sale = 'precision'\n",
    "        break\n",
    "    else:\n",
    "        x0 = x1  \n",
    "                \n",
    "print('sale el programa por ',sale)\n",
    "if sale == 'precision':\n",
    "    print('Posiblemente solución exacta: ',x1)\n",
    "elif k <= nmax:\n",
    "    print('Aproximación solicitada: ', x1)\n",
    "else:\n",
    "    print('Se llegó al número máximo de iteraciones')\n",
    "print('Solución exacta con ', cifras, ' cifras significativas', sol_exact.evalf(n=cifras))\n",
    "print('Número total de iteraciones ', niter)\n",
    "\n",
    "getcontext().prec = mporig # Se restaura la precisión por defecto"
   ]
  },
  {
   "cell_type": "markdown",
   "metadata": {},
   "source": [
    "Segunda solución:"
   ]
  },
  {
   "cell_type": "code",
   "execution_count": 67,
   "metadata": {},
   "outputs": [
    {
     "data": {
      "image/png": "[encoded data removed]",
      "text/plain": [
       "<Figure size 432x288 with 1 Axes>"
      ]
     },
     "metadata": {
      "needs_background": "light"
     },
     "output_type": "display_data"
    },
    {
     "data": {
      "text/plain": [
       "<sympy.plotting.plot.Plot at 0x7f918f21cc50>"
      ]
     },
     "execution_count": 67,
     "metadata": {},
     "output_type": "execute_result"
    }
   ],
   "source": [
    "sp.plot(f3(x),(x,-2,-1))  "
   ]
  },
  {
   "cell_type": "code",
   "execution_count": 68,
   "metadata": {},
   "outputs": [
    {
     "name": "stdout",
     "output_type": "stream",
     "text": [
      "-1.68693989979924\n"
     ]
    }
   ],
   "source": [
    "sol_exact = sp.nsolve(f3(x),x,-2) \n",
    "print(sol_exact)"
   ]
  },
  {
   "cell_type": "code",
   "execution_count": 69,
   "metadata": {},
   "outputs": [],
   "source": [
    "a=-2;b=-1"
   ]
  },
  {
   "cell_type": "code",
   "execution_count": 70,
   "metadata": {},
   "outputs": [
    {
     "data": {
      "image/png": "[encoded data removed]",
      "text/latex": [
       "$\\displaystyle -1$"
      ],
      "text/plain": [
       "-1"
      ]
     },
     "execution_count": 70,
     "metadata": {},
     "output_type": "execute_result"
    }
   ],
   "source": [
    "sign(f3(a)*ddf3(a))"
   ]
  },
  {
   "cell_type": "code",
   "execution_count": 71,
   "metadata": {},
   "outputs": [
    {
     "data": {
      "image/png": "[encoded data removed]",
      "text/latex": [
       "$\\displaystyle -1$"
      ],
      "text/plain": [
       "-1"
      ]
     },
     "execution_count": 71,
     "metadata": {},
     "output_type": "execute_result"
    }
   ],
   "source": [
    "sign(f3(b)*ddf3(b))"
   ]
  },
  {
   "cell_type": "markdown",
   "metadata": {},
   "source": [
    "Niguno de los extremos del intervalo es un buen x0 inicial para asegurar la convergencia de Newton-Raphson. Probamos con otro valor próximo a la solución."
   ]
  },
  {
   "cell_type": "code",
   "execution_count": 72,
   "metadata": {},
   "outputs": [
    {
     "data": {
      "image/png": "[encoded data removed]",
      "text/latex": [
       "$\\displaystyle 1$"
      ],
      "text/plain": [
       "1"
      ]
     },
     "execution_count": 72,
     "metadata": {},
     "output_type": "execute_result"
    }
   ],
   "source": [
    "sign(f3(-1.5)*ddf3(-1.5)) #con x0=1.5 sí converge el método, por tanto lo aplicamos con este valor inicial"
   ]
  },
  {
   "cell_type": "code",
   "execution_count": 73,
   "metadata": {},
   "outputs": [
    {
     "name": "stdout",
     "output_type": "stream",
     "text": [
      "sale el programa por  tolerancia\n",
      "Aproximación solicitada:  -1.68693989979647\n",
      "Solución exacta con  7  cifras significativas -1.686940\n",
      "Número total de iteraciones  3\n"
     ]
    }
   ],
   "source": [
    "x0 = Decimal(-1.5); niter = 0\n",
    "getcontext().prec = mp\n",
    "for k in range(nmax):\n",
    "    niter = niter + 1;\n",
    "    x1 = x0 - f3(x0)/df3(x0)\n",
    "    if abs(x1-x0) < tol:\n",
    "        sale = 'tolerancia'\n",
    "        break\n",
    "    if abs(f3(x1)) < prec:  \n",
    "        sale = 'precision'\n",
    "        break\n",
    "    else:\n",
    "        x0 = x1  \n",
    "                \n",
    "print('sale el programa por ',sale)\n",
    "if sale == 'precision':\n",
    "    print('Posiblemente solución exacta: ',x1)\n",
    "elif k <= nmax:\n",
    "    print('Aproximación solicitada: ', x1)\n",
    "else:\n",
    "    print('Se llegó al número máximo de iteraciones')\n",
    "print('Solución exacta con ', cifras, ' cifras significativas', sol_exact.evalf(n=cifras))\n",
    "print('Número total de iteraciones ', niter)\n",
    "\n",
    "getcontext().prec = mporig # Se restaura la precisión por defecto"
   ]
  },
  {
   "cell_type": "markdown",
   "metadata": {},
   "source": [
    "4.- Para la función  $ f(x)= 3 x^2+e^x-1$, \n",
    "\n",
    "i) encuentre, mediante el método de bisección una aproximación de la raíz en $[0,1]$ con, al menos, cuatro decimales exactos, y determine el número de iteraciones realizadas;\n",
    "\n",
    "ii) encuentre, mediante el método de Newton-Raphson, una aproximación de la raíz en $[0,1]$ con una tolerancia de $10^{-4}$,\n",
    "partiendo de $x_0=0$, y determine el número de iteraciones realizadas."
   ]
  },
  {
   "cell_type": "code",
   "execution_count": 74,
   "metadata": {},
   "outputs": [],
   "source": [
    "import numpy as np\n",
    "%matplotlib inline\n",
    "import matplotlib.pyplot as plt\n",
    "import sympy as sp #calculo simbólico\n",
    "sp.init_printing()   \n",
    "from numpy import sign\n",
    "from decimal import *\n",
    "\n",
    "from sympy.solvers import solve, nsolve, solveset\n",
    "from scipy.optimize import fsolve\n",
    "from sympy import Symbol, exp"
   ]
  },
  {
   "cell_type": "markdown",
   "metadata": {},
   "source": [
    "**i) Bisección**"
   ]
  },
  {
   "cell_type": "code",
   "execution_count": 75,
   "metadata": {},
   "outputs": [],
   "source": [
    "x=Symbol('x')"
   ]
  },
  {
   "cell_type": "code",
   "execution_count": 76,
   "metadata": {},
   "outputs": [],
   "source": [
    "def f(x):\n",
    "    ''' función ejer4'''\n",
    "    return 3*x**2+sp.exp(x)-1"
   ]
  },
  {
   "cell_type": "code",
   "execution_count": 77,
   "metadata": {},
   "outputs": [],
   "source": [
    "a=0;b=1"
   ]
  },
  {
   "cell_type": "code",
   "execution_count": 78,
   "metadata": {},
   "outputs": [
    {
     "data": {
      "image/png": "[encoded data removed]",
      "text/latex": [
       "$\\displaystyle \\left( 0, \\  2 + e\\right)$"
      ],
      "text/plain": [
       "(0, 2 + ℯ)"
      ]
     },
     "execution_count": 78,
     "metadata": {},
     "output_type": "execute_result"
    }
   ],
   "source": [
    "f(a),f(b)  #Tenemos una raíz en 0"
   ]
  },
  {
   "cell_type": "code",
   "execution_count": 79,
   "metadata": {},
   "outputs": [
    {
     "data": {
      "image/png": "[encoded data removed]",
      "text/plain": [
       "<Figure size 432x288 with 1 Axes>"
      ]
     },
     "metadata": {
      "needs_background": "light"
     },
     "output_type": "display_data"
    },
    {
     "data": {
      "text/plain": [
       "<sympy.plotting.plot.Plot at 0x7f918f336be0>"
      ]
     },
     "execution_count": 79,
     "metadata": {},
     "output_type": "execute_result"
    }
   ],
   "source": [
    "sp.plot(f(x),(x,a,b))"
   ]
  },
  {
   "cell_type": "code",
   "execution_count": 80,
   "metadata": {},
   "outputs": [
    {
     "name": "stdout",
     "output_type": "stream",
     "text": [
      "0\n"
     ]
    }
   ],
   "source": [
    "sol_exact = sp.nsolve(f(x),x,0) \n",
    "print(sol_exact)"
   ]
  },
  {
   "cell_type": "code",
   "execution_count": 81,
   "metadata": {},
   "outputs": [],
   "source": [
    "a0 = a; b0 = b;\n",
    "#Ajuste de los criterios de parada\n",
    "mp = 10\n",
    "prec = 10 **(-mp) #Error máximo que tendrá la solución\n",
    "nmax = 100   #Número de iteraciones máximas\n",
    "cifras = 5 #Numero de cifras con el que queremos trabajar\n",
    "tol = 10**(-cifras) #toleracia, longitud mínima del intervalo donde está la sol"
   ]
  },
  {
   "cell_type": "code",
   "execution_count": 82,
   "metadata": {},
   "outputs": [
    {
     "name": "stdout",
     "output_type": "stream",
     "text": [
      "Aproximación solicitada:  0.00000762939453125\n",
      "Solución exacta con  5  cifras significativas 0\n",
      "Número total de iteraciones  17\n"
     ]
    }
   ],
   "source": [
    "niter = 0; getcontext().prec = mp\n",
    "for k in range(nmax):\n",
    "    niter = niter + 1;\n",
    "    c = a + (b-a)/2 # equivalente a c = (a+b)/2\n",
    "    if abs(f(c)) < prec:\n",
    "        sale = 'precision'\n",
    "        break\n",
    "    if sign(f(a)) != sign(f(c)):\n",
    "        b = c\n",
    "    else:\n",
    "        a = c\n",
    "    if b-a < tol:\n",
    "        sale = 'tolerancia'\n",
    "        break\n",
    "\n",
    "if sale == 'precision':\n",
    "    print('Posiblemente solución exacta: ',Decimal(c))\n",
    "elif k <= nmax:\n",
    "    print('Aproximación solicitada: ',Decimal(c))\n",
    "else:\n",
    "    print('Se llegó al número máximo de iteraciones')\n",
    "print('Solución exacta con ', cifras, ' cifras significativas', sol_exact.evalf(n=cifras))\n",
    "print('Número total de iteraciones ', niter)\n",
    "\n",
    "a = a0; b = b0 # Restauramos los valores originales de a y b\n",
    "getcontext().prec = mporig # así como la precisión por defecto"
   ]
  },
  {
   "cell_type": "markdown",
   "metadata": {},
   "source": [
    "**ii) Newton-Raphson**"
   ]
  },
  {
   "cell_type": "code",
   "execution_count": 83,
   "metadata": {},
   "outputs": [
    {
     "data": {
      "image/png": "[encoded data removed]",
      "text/latex": [
       "$\\displaystyle \\left( 3 x^{2} + e^{x} - 1, \\  6 x + e^{x}\\right)$"
      ],
      "text/plain": [
       "⎛   2    x             x⎞\n",
       "⎝3⋅x  + ℯ  - 1, 6⋅x + ℯ ⎠"
      ]
     },
     "execution_count": 83,
     "metadata": {},
     "output_type": "execute_result"
    }
   ],
   "source": [
    "f(x),sp.diff(f(x),x)"
   ]
  },
  {
   "cell_type": "code",
   "execution_count": 84,
   "metadata": {},
   "outputs": [],
   "source": [
    "def df(x):\n",
    "    '''derivada de f'''\n",
    "    return 6*x+sp.exp(x)"
   ]
  },
  {
   "cell_type": "code",
   "execution_count": 85,
   "metadata": {},
   "outputs": [
    {
     "data": {
      "image/png": "[encoded data removed]",
      "text/latex": [
       "$\\displaystyle \\left( 6 x + e^{x}, \\  e^{x} + 6\\right)$"
      ],
      "text/plain": [
       "⎛       x   x    ⎞\n",
       "⎝6⋅x + ℯ , ℯ  + 6⎠"
      ]
     },
     "execution_count": 85,
     "metadata": {},
     "output_type": "execute_result"
    }
   ],
   "source": [
    "df(x),sp.diff(df(x),x)"
   ]
  },
  {
   "cell_type": "code",
   "execution_count": 86,
   "metadata": {},
   "outputs": [],
   "source": [
    "def ddf(x):\n",
    "    '''segunda derivada de f'''\n",
    "    return 6+sp.exp(x)"
   ]
  },
  {
   "cell_type": "code",
   "execution_count": 87,
   "metadata": {},
   "outputs": [
    {
     "data": {
      "image/png": "[encoded data removed]",
      "text/latex": [
       "$\\displaystyle 0$"
      ],
      "text/plain": [
       "0"
      ]
     },
     "execution_count": 87,
     "metadata": {},
     "output_type": "execute_result"
    }
   ],
   "source": [
    "sign(f(a)*ddf(a))"
   ]
  },
  {
   "cell_type": "code",
   "execution_count": 88,
   "metadata": {},
   "outputs": [],
   "source": [
    "cifras = 4\n",
    "tol = 10**(-cifras)"
   ]
  },
  {
   "cell_type": "code",
   "execution_count": 89,
   "metadata": {},
   "outputs": [
    {
     "name": "stdout",
     "output_type": "stream",
     "text": [
      "sale el programa por  tolerancia\n",
      "Aproximación solicitada:  0\n",
      "Solución exacta con  4  cifras significativas 0\n",
      "Número total de iteraciones  1\n"
     ]
    }
   ],
   "source": [
    "x0 = Decimal(a); niter = 0\n",
    "getcontext().prec = mp\n",
    "for k in range(nmax):\n",
    "    niter = niter + 1;\n",
    "    x1 = x0 - f(x0)/df(x0)\n",
    "    if abs(x1-x0) < tol:\n",
    "        sale = 'tolerancia'\n",
    "        break\n",
    "    if abs(f(x1)) < prec:  \n",
    "        sale = 'precision'\n",
    "        break\n",
    "    else:\n",
    "        x0 = x1  \n",
    "                \n",
    "print('sale el programa por ',sale)\n",
    "if sale == 'precision':\n",
    "    print('Posiblemente solución exacta: ',x1)\n",
    "elif k <= nmax:\n",
    "    print('Aproximación solicitada: ', x1)\n",
    "else:\n",
    "    print('Se llegó al número máximo de iteraciones')\n",
    "print('Solución exacta con ', cifras, ' cifras significativas', sol_exact.evalf(n=cifras))\n",
    "print('Número total de iteraciones ', niter)\n",
    "\n",
    "getcontext().prec = mporig # Se restaura la precisión por defecto"
   ]
  },
  {
   "cell_type": "markdown",
   "metadata": {},
   "source": [
    "5.- Utilice las órdenes apropiadas de Python para aproximar todos los puntos donde se anulan las funciones siguientes (si es necesario, represéntelas gráficamente):\n",
    "\n",
    "i) $f(x)=x^7-x^4+2$ ,\n",
    "\n",
    "ii) $f(x)=x^7+\\cos  x-3$."
   ]
  },
  {
   "cell_type": "code",
   "execution_count": 90,
   "metadata": {},
   "outputs": [],
   "source": [
    "import numpy as np\n",
    "%matplotlib inline\n",
    "import matplotlib.pyplot as plt\n",
    "import sympy as sp #calculo simbólico\n",
    "sp.init_printing()   \n",
    "from numpy import sign\n",
    "from decimal import *\n",
    "\n",
    "from sympy.solvers import solve, nsolve, solveset\n",
    "from scipy.optimize import fsolve\n",
    "from sympy import Symbol, exp"
   ]
  },
  {
   "cell_type": "code",
   "execution_count": 91,
   "metadata": {},
   "outputs": [],
   "source": [
    "def f(x):\n",
    "    ''' función i)'''\n",
    "    return x**7-x**4+2"
   ]
  },
  {
   "cell_type": "code",
   "execution_count": 92,
   "metadata": {},
   "outputs": [
    {
     "data": {
      "image/png": "[encoded data removed]",
      "text/plain": [
       "<Figure size 432x288 with 1 Axes>"
      ]
     },
     "metadata": {
      "needs_background": "light"
     },
     "output_type": "display_data"
    },
    {
     "data": {
      "text/plain": [
       "<sympy.plotting.plot.Plot at 0x7f918f11f6d8>"
      ]
     },
     "execution_count": 92,
     "metadata": {},
     "output_type": "execute_result"
    }
   ],
   "source": [
    "sp.plot(f(x),x)"
   ]
  },
  {
   "cell_type": "code",
   "execution_count": 93,
   "metadata": {},
   "outputs": [
    {
     "data": {
      "image/png": "[encoded data removed]",
      "text/latex": [
       "$\\displaystyle \\left[ -1, \\  \\operatorname{CRootOf} {\\left(x^{6} - x^{5} + x^{4} - 2 x^{3} + 2 x^{2} - 2 x + 2, 0\\right)}, \\  \\operatorname{CRootOf} {\\left(x^{6} - x^{5} + x^{4} - 2 x^{3} + 2 x^{2} - 2 x + 2, 1\\right)}, \\  \\operatorname{CRootOf} {\\left(x^{6} - x^{5} + x^{4} - 2 x^{3} + 2 x^{2} - 2 x + 2, 2\\right)}, \\  \\operatorname{CRootOf} {\\left(x^{6} - x^{5} + x^{4} - 2 x^{3} + 2 x^{2} - 2 x + 2, 3\\right)}, \\  \\operatorname{CRootOf} {\\left(x^{6} - x^{5} + x^{4} - 2 x^{3} + 2 x^{2} - 2 x + 2, 4\\right)}, \\  \\operatorname{CRootOf} {\\left(x^{6} - x^{5} + x^{4} - 2 x^{3} + 2 x^{2} - 2 x + 2, 5\\right)}\\right]$"
      ],
      "text/plain": [
       "⎡           ⎛ 6    5    4      3      2             ⎞         ⎛ 6    5    4   \n",
       "⎣-1, CRootOf⎝x  - x  + x  - 2⋅x  + 2⋅x  - 2⋅x + 2, 0⎠, CRootOf⎝x  - x  + x  - \n",
       "\n",
       "   3      2             ⎞         ⎛ 6    5    4      3      2             ⎞   \n",
       "2⋅x  + 2⋅x  - 2⋅x + 2, 1⎠, CRootOf⎝x  - x  + x  - 2⋅x  + 2⋅x  - 2⋅x + 2, 2⎠, C\n",
       "\n",
       "      ⎛ 6    5    4      3      2             ⎞         ⎛ 6    5    4      3  \n",
       "RootOf⎝x  - x  + x  - 2⋅x  + 2⋅x  - 2⋅x + 2, 3⎠, CRootOf⎝x  - x  + x  - 2⋅x  +\n",
       "\n",
       "    2             ⎞         ⎛ 6    5    4      3      2             ⎞⎤\n",
       " 2⋅x  - 2⋅x + 2, 4⎠, CRootOf⎝x  - x  + x  - 2⋅x  + 2⋅x  - 2⋅x + 2, 5⎠⎦"
      ]
     },
     "execution_count": 93,
     "metadata": {},
     "output_type": "execute_result"
    }
   ],
   "source": [
    "solve(f(x),x)"
   ]
  },
  {
   "cell_type": "markdown",
   "metadata": {},
   "source": [
    "'solve' no puede calcular todas las soluciones de la ecuación, la mayoría las deja indicadas como los ceros de otros polinomios. Puesto que f(x) se trata de un polinomio, intentamos calcular las raíces ahora con 'roots'."
   ]
  },
  {
   "cell_type": "code",
   "execution_count": 94,
   "metadata": {},
   "outputs": [
    {
     "data": {
      "text/plain": [
       "array([ 1.06110281+0.37638405j,  1.06110281-0.37638405j,\n",
       "        0.15199934+1.01945595j,  0.15199934-1.01945595j,\n",
       "       -0.71310215+0.98823189j, -0.71310215-0.98823189j,\n",
       "       -1.        +0.j        ])"
      ]
     },
     "execution_count": 94,
     "metadata": {},
     "output_type": "execute_result"
    }
   ],
   "source": [
    "coefs = [1,0,0,-1,0,0,0,2]\n",
    "np.roots(coefs)"
   ]
  },
  {
   "cell_type": "markdown",
   "metadata": {},
   "source": [
    "Vemos que sólo hay una raíz real, -1, el resto son raíces complejas."
   ]
  },
  {
   "cell_type": "code",
   "execution_count": 95,
   "metadata": {},
   "outputs": [],
   "source": [
    "def f(x):\n",
    "    ''' función ii)'''\n",
    "    return x**7+sp.cos(x)-3"
   ]
  },
  {
   "cell_type": "code",
   "execution_count": 96,
   "metadata": {},
   "outputs": [
    {
     "data": {
      "image/png": "[encoded data removed]",
      "text/plain": [
       "<Figure size 432x288 with 1 Axes>"
      ]
     },
     "metadata": {
      "needs_background": "light"
     },
     "output_type": "display_data"
    },
    {
     "data": {
      "text/plain": [
       "<sympy.plotting.plot.Plot at 0x7f918f1d6160>"
      ]
     },
     "execution_count": 96,
     "metadata": {},
     "output_type": "execute_result"
    }
   ],
   "source": [
    "sp.plot(f(x),x)"
   ]
  },
  {
   "cell_type": "markdown",
   "metadata": {},
   "source": [
    "Vamos dibujando la gráfica en intervalos cada vez más pequeños para ver a qué valor se encuentra próxima la solución."
   ]
  },
  {
   "cell_type": "code",
   "execution_count": 97,
   "metadata": {},
   "outputs": [
    {
     "data": {
      "image/png": "[encoded data removed]",
      "text/plain": [
       "<Figure size 432x288 with 1 Axes>"
      ]
     },
     "metadata": {
      "needs_background": "light"
     },
     "output_type": "display_data"
    },
    {
     "data": {
      "text/plain": [
       "<sympy.plotting.plot.Plot at 0x7f918f0c2fd0>"
      ]
     },
     "execution_count": 97,
     "metadata": {},
     "output_type": "execute_result"
    }
   ],
   "source": [
    "sp.plot(f(x),(x,-2,2))"
   ]
  },
  {
   "cell_type": "code",
   "execution_count": 98,
   "metadata": {},
   "outputs": [
    {
     "data": {
      "image/png": "[encoded data removed]",
      "text/plain": [
       "<Figure size 432x288 with 1 Axes>"
      ]
     },
     "metadata": {
      "needs_background": "light"
     },
     "output_type": "display_data"
    },
    {
     "data": {
      "text/plain": [
       "<sympy.plotting.plot.Plot at 0x7f918f021748>"
      ]
     },
     "execution_count": 98,
     "metadata": {},
     "output_type": "execute_result"
    }
   ],
   "source": [
    "sp.plot(f(x),(x,-0.50,1.50))"
   ]
  },
  {
   "cell_type": "code",
   "execution_count": 99,
   "metadata": {},
   "outputs": [
    {
     "data": {
      "image/png": "[encoded data removed]",
      "text/plain": [
       "<Figure size 432x288 with 1 Axes>"
      ]
     },
     "metadata": {
      "needs_background": "light"
     },
     "output_type": "display_data"
    },
    {
     "data": {
      "text/plain": [
       "<sympy.plotting.plot.Plot at 0x7f918efebba8>"
      ]
     },
     "execution_count": 99,
     "metadata": {},
     "output_type": "execute_result"
    }
   ],
   "source": [
    "sp.plot(f(x),(x,0.75,1.25))"
   ]
  },
  {
   "cell_type": "code",
   "execution_count": 100,
   "metadata": {},
   "outputs": [
    {
     "data": {
      "image/png": "[encoded data removed]",
      "text/latex": [
       "$\\displaystyle 1.14545980727001$"
      ],
      "text/plain": [
       "1.14545980727001"
      ]
     },
     "execution_count": 100,
     "metadata": {},
     "output_type": "execute_result"
    }
   ],
   "source": [
    "nsolve(f(x),x,1)"
   ]
  },
  {
   "cell_type": "markdown",
   "metadata": {},
   "source": [
    "La única solución real es aproximadamente 1.145459807....\n",
    "\n",
    "Intentamos calcular todas las soluciones complejas:"
   ]
  },
  {
   "cell_type": "code",
   "execution_count": 101,
   "metadata": {},
   "outputs": [
    {
     "data": {
      "image/png": "[encoded data removed]",
      "text/latex": [
       "$\\displaystyle \\left\\{x \\mid x \\in \\mathbb{C} \\wedge x^{7} + \\cos{\\left(x \\right)} - 3 = 0 \\right\\}$"
      ],
      "text/plain": [
       "⎧             7                 ⎫\n",
       "⎨x | x ∊ ℂ ∧ x  + cos(x) - 3 = 0⎬\n",
       "⎩                               ⎭"
      ]
     },
     "execution_count": 101,
     "metadata": {},
     "output_type": "execute_result"
    }
   ],
   "source": [
    "solveset(f(x),x)"
   ]
  },
  {
   "cell_type": "code",
   "execution_count": 102,
   "metadata": {},
   "outputs": [],
   "source": [
    "#solve(f(x),x) -> no funciona por algo raro, no es capaz de resolverlo"
   ]
  },
  {
   "cell_type": "markdown",
   "metadata": {},
   "source": [
    "6.- Aplicar los métodos de aceleración de la convergencia de Aitken y Steffensen (según los apuntes) a las sucesiones obtenidas para los distintos métodos\n",
    "programados en esta práctica y comparar los resultados. Para aplicar el método de aceleración de Steffensen, recuerde que para transformar cualquier ecuación de la forma  $ f(x)=0 $  en un problema de puntos fijos  $ g(x)=x $, la forma más simple puede ser definir  $g(x)=x \\pm f(x)$."
   ]
  },
  {
   "cell_type": "code",
   "execution_count": 103,
   "metadata": {},
   "outputs": [],
   "source": [
    "import numpy as np\n",
    "%matplotlib inline\n",
    "import matplotlib.pyplot as plt\n",
    "import sympy as sp #calculo simbólico\n",
    "sp.init_printing()   \n",
    "from numpy import sign\n",
    "from decimal import *\n",
    "\n",
    "from sympy.solvers import solve, nsolve, solveset\n",
    "from scipy.optimize import fsolve\n",
    "from sympy import Symbol, exp"
   ]
  },
  {
   "cell_type": "markdown",
   "metadata": {},
   "source": [
    "###### Lo aplicamos primeramente a la función del ejercicio 1:"
   ]
  },
  {
   "cell_type": "code",
   "execution_count": 104,
   "metadata": {},
   "outputs": [],
   "source": [
    "x=Symbol('x')"
   ]
  },
  {
   "cell_type": "code",
   "execution_count": 105,
   "metadata": {},
   "outputs": [],
   "source": [
    "def f(x):\n",
    "    ''' función ejer1'''\n",
    "    return x**3+4*x**2-10"
   ]
  },
  {
   "cell_type": "code",
   "execution_count": 106,
   "metadata": {},
   "outputs": [],
   "source": [
    "a = 1; b = 2;"
   ]
  },
  {
   "cell_type": "code",
   "execution_count": 107,
   "metadata": {
    "scrolled": true
   },
   "outputs": [
    {
     "data": {
      "image/png": "[encoded data removed]",
      "text/latex": [
       "$\\displaystyle 1.3652300134141$"
      ],
      "text/plain": [
       "1.36523001341410"
      ]
     },
     "execution_count": 107,
     "metadata": {},
     "output_type": "execute_result"
    }
   ],
   "source": [
    "sol_exact = sp.solve(f(x),x)[2] #la última solución es la real, las otras son complejas\n",
    "sol_exact.evalf()"
   ]
  },
  {
   "cell_type": "code",
   "execution_count": 108,
   "metadata": {},
   "outputs": [],
   "source": [
    "#Ajuste de los criterios de parada\n",
    "mp = 10\n",
    "prec = 10 **(-mp) #Error máximo que tendrá la solución\n",
    "nmax = 100   #Número de iteraciones máximas\n",
    "cifras = 4 #Numero de cifras con el que queremos trabajar\n",
    "tol = 10**(-cifras) #toleracia, longitud mínima del intervalo donde está la sol"
   ]
  },
  {
   "cell_type": "code",
   "execution_count": 109,
   "metadata": {},
   "outputs": [
    {
     "name": "stdout",
     "output_type": "stream",
     "text": [
      "Aproximación solicitada:  1.36517333984375\n",
      "Solución exacta con  4  cifras significativas 1.365\n",
      "Número total de iteraciones  14\n"
     ]
    }
   ],
   "source": [
    "aproxBiseccion=[]\n",
    "#a,b = Decimal(a),Decimal(b)\n",
    "niter = 0; getcontext().prec = mp\n",
    "for k in range(nmax):\n",
    "    niter = niter + 1;\n",
    "    c = a + (b-a)/2 # equivalente a c = (a+b)/2\n",
    "    aproxBiseccion.append(c); #Lista de las aproximaciones obtenidas\n",
    "    if abs(f(c)) < prec:\n",
    "        sale = 'precision'\n",
    "        break\n",
    "    if sign(f(a)) != sign(f(c)):\n",
    "        b = c\n",
    "    else:\n",
    "        a = c\n",
    "    if b-a < tol:\n",
    "        sale = 'tolerancia'\n",
    "        break\n",
    "\n",
    "if sale == 'precision':\n",
    "    print('Posiblemente solución exacta: ',Decimal(c))\n",
    "elif k <= nmax:\n",
    "    print('Aproximación solicitada: ',Decimal(c))\n",
    "else:\n",
    "    print('Se llegó al número máximo de iteraciones')\n",
    "print('Solución exacta con ', cifras, ' cifras significativas', sol_exact.evalf(n=cifras))\n",
    "print('Número total de iteraciones ', niter)\n",
    "\n",
    "a = a0; b = b0 # Restauramos los valores originales de a y b\n",
    "getcontext().prec = mporig # así como la precisión por defecto"
   ]
  },
  {
   "cell_type": "code",
   "execution_count": 110,
   "metadata": {},
   "outputs": [
    {
     "name": "stdout",
     "output_type": "stream",
     "text": [
      "[1.5, 1.25, 1.375, 1.3125, 1.34375, 1.359375, 1.3671875, 1.36328125, 1.365234375, 1.3642578125, 1.36474609375, 1.364990234375, 1.3651123046875, 1.36517333984375]\n"
     ]
    },
    {
     "data": {
      "image/png": "[encoded data removed]",
      "text/latex": [
       "$\\displaystyle 14$"
      ],
      "text/plain": [
       "14"
      ]
     },
     "execution_count": 110,
     "metadata": {},
     "output_type": "execute_result"
    }
   ],
   "source": [
    "aprox = aproxBiseccion; print(aprox)\n",
    "n = len(aprox)\n",
    "n"
   ]
  },
  {
   "cell_type": "code",
   "execution_count": 111,
   "metadata": {},
   "outputs": [
    {
     "data": {
      "image/png": "[encoded data removed]",
      "text/latex": [
       "$\\displaystyle \\left[ 1.3333333333333333, \\  1.3333333333333333, \\  1.3333333333333333, \\  1.375, \\  1.375, \\  1.3645833333333333, \\  1.3645833333333333, \\  1.3645833333333333, \\  1.3645833333333333, \\  1.365234375, \\  1.365234375, \\  1.365234375\\right]$"
      ],
      "text/plain": [
       "[1.3333333333333333, 1.3333333333333333, 1.3333333333333333, 1.375, 1.375, 1.3\n",
       "645833333333333, 1.3645833333333333, 1.3645833333333333, 1.3645833333333333, 1\n",
       ".365234375, 1.365234375, 1.365234375]"
      ]
     },
     "execution_count": 111,
     "metadata": {},
     "output_type": "execute_result"
    }
   ],
   "source": [
    "k = 0; acelAitken = []; \n",
    "for k in range(n-2):\n",
    "    aproxacel = aprox[k]-(aprox[k+1]-aprox[k])**2/(aprox[k+2]-2*aprox[k+1]+aprox[k])\n",
    "    acelAitken.append(aproxacel); \n",
    "acelAitken"
   ]
  },
  {
   "cell_type": "code",
   "execution_count": 112,
   "metadata": {},
   "outputs": [
    {
     "data": {
      "image/png": "[encoded data removed]",
      "text/latex": [
       "$\\displaystyle 1.3652300134141$"
      ],
      "text/plain": [
       "1.36523001341410"
      ]
     },
     "execution_count": 112,
     "metadata": {},
     "output_type": "execute_result"
    }
   ],
   "source": [
    "sol_exact = sp.solve(f(x),x)[2] #la última solución es la real, las otras son complejas\n",
    "sol_exact.evalf()"
   ]
  },
  {
   "cell_type": "markdown",
   "metadata": {},
   "source": [
    "En el ejercicio 1, con bisección, necesitamos 100 iteraciones para aproximar la solución con 5 cifras decimales, mientras que con la acelaración de Aitken vemos que en la iteración número 10 ya tenemos 5 cifras decimales exactas."
   ]
  },
  {
   "cell_type": "code",
   "execution_count": 113,
   "metadata": {},
   "outputs": [],
   "source": [
    "def g(x):\n",
    "    return 10/(x**2+4*x)"
   ]
  },
  {
   "cell_type": "code",
   "execution_count": 114,
   "metadata": {},
   "outputs": [
    {
     "data": {
      "image/png": "[encoded data removed]",
      "text/latex": [
       "$\\displaystyle \\left[ \\left[ 1.5, \\  1.25, \\  1.375\\right], \\  \\left[ 1.3333333333333333, \\  1.40625, \\  1.3153500321130378\\right], \\  \\left[ 1.3657893796455116, \\  1.3645286137379942, \\  1.366110366037922\\right], \\  \\left[ 1.365230181583246, \\  1.3652298024528546, \\  1.3652302780563275\\right], \\  \\left[ 1.365230013414112, \\  1.3652300134140778, \\  1.3652300134141209\\right], \\  \\left[ 1.3652300134140969, \\  1.3652300134140969, \\  1.3652300134140969\\right]\\right]$"
      ],
      "text/plain": [
       "[[1.5, 1.25, 1.375], [1.3333333333333333, 1.40625, 1.3153500321130378], [1.365\n",
       "7893796455116, 1.3645286137379942, 1.366110366037922], [1.365230181583246, 1.3\n",
       "652298024528546, 1.3652302780563275], [1.365230013414112, 1.3652300134140778, \n",
       "1.3652300134141209], [1.3652300134140969, 1.3652300134140969, 1.36523001341409\n",
       "69]]"
      ]
     },
     "execution_count": 114,
     "metadata": {},
     "output_type": "execute_result"
    }
   ],
   "source": [
    "N=6;i=0; acelSteff = [[] for j in range(N)]; \n",
    "acelSteff[0]=[aprox[j] for j in range(3)]\n",
    "for i in range(N-1):\n",
    "        aproxSteff0 = acelSteff[i][0]-(acelSteff[i][1]-acelSteff[i][0])**2/(acelSteff[i][2]-2*acelSteff[i][1]+acelSteff[i][0])\n",
    "        aproxSteff1 = g(aproxSteff0); aproxSteff2 = g(aproxSteff1);\n",
    "        acelSteff[i+1].append(aproxSteff0); \n",
    "        acelSteff[i+1].append(aproxSteff1);\n",
    "        acelSteff[i+1].append(aproxSteff2);\n",
    "acelSteff"
   ]
  },
  {
   "cell_type": "markdown",
   "metadata": {},
   "source": [
    "Para implementar la aceleración de Steffensen he usado un array de arrays en el que cada subarray tiene 3 componentes, que se corresponden con $\\{{x_0}^{(n)}, {x_1}^{(n)}, {x_2}^{(n)}\\}$. El primer subarray tiene las tres primeras componentes de $aprox$, que es la sucesión de aproximaciones del método de bisección y que usamos para calcular $\\{{x_0}^{(0)}, {x_1}^{(0)}, {x_2}^{(0)}\\}$. He considerado n=5 porque a partir de ese número de iteraciones se incurre en división por 0 al ser los valores obtenidos casi iguales entre sí.\n",
    "\n",
    "Vemos que con este método en la segunda iteración ya conseguimos 6 cifras decimales exactas y en la última iteración se obtiene un valor casi exacto de la solución."
   ]
  },
  {
   "cell_type": "markdown",
   "metadata": {},
   "source": [
    "##### Lo usamos ahora en el Ejercicio 2."
   ]
  },
  {
   "cell_type": "code",
   "execution_count": 115,
   "metadata": {},
   "outputs": [],
   "source": [
    "def f(x):\n",
    "    ''' función ejercicio 2)'''\n",
    "    return x**3-25"
   ]
  },
  {
   "cell_type": "code",
   "execution_count": 116,
   "metadata": {},
   "outputs": [
    {
     "data": {
      "image/png": "[encoded data removed]",
      "text/latex": [
       "$\\displaystyle 2.92401773821287$"
      ],
      "text/plain": [
       "2.92401773821287"
      ]
     },
     "execution_count": 116,
     "metadata": {},
     "output_type": "execute_result"
    }
   ],
   "source": [
    "sol_exact = sp.solve(f(x),x)[0] #la primera solución es la real, las otras son complejas\n",
    "sol_exact.evalf()"
   ]
  },
  {
   "cell_type": "code",
   "execution_count": 117,
   "metadata": {},
   "outputs": [],
   "source": [
    "a=2; b=3;\n",
    "cifras = 3\n",
    "tol = 10**(-cifras)"
   ]
  },
  {
   "cell_type": "code",
   "execution_count": 118,
   "metadata": {},
   "outputs": [
    {
     "name": "stdout",
     "output_type": "stream",
     "text": [
      "Aproximación solicitada:  2.9248046875\n",
      "Solución exacta con  3  cifras significativas 2.92\n",
      "Número total de iteraciones  10\n"
     ]
    }
   ],
   "source": [
    "aproxBiseccion = []\n",
    "niter = 0; \n",
    "#getcontext().prec = cifras\n",
    "for k in range(nmax):\n",
    "    niter = niter + 1;\n",
    "    c = a + (b-a)/2 # equivalente a c = (a+b)/2\n",
    "    aproxBiseccion.append(c); #Lista de las aproximaciones obtenidas\n",
    "    if abs(f(c)) < prec:\n",
    "        sale = 'precision'\n",
    "        break\n",
    "    if sign(f(a)) != sign(f(c)):\n",
    "        b = c\n",
    "    else:\n",
    "        a = c\n",
    "    if b-a < tol:\n",
    "        sale = 'tolerancia'\n",
    "        break\n",
    "\n",
    "if sale == 'precision':\n",
    "    print('Posiblemente solución exacta: ',Decimal(c))\n",
    "elif k <= nmax:\n",
    "    print('Aproximación solicitada: ',Decimal(c))\n",
    "else:\n",
    "    print('Se llegó al número máximo de iteraciones')\n",
    "print('Solución exacta con ', cifras, ' cifras significativas', sol_exact.evalf(n=cifras))\n",
    "print('Número total de iteraciones ', niter)\n",
    "\n",
    "a = a0; b = b0 # Restauramos los valores originales de a y b\n",
    "#getcontext().prec = mporig # así como la precisión por defecto"
   ]
  },
  {
   "cell_type": "code",
   "execution_count": 119,
   "metadata": {},
   "outputs": [
    {
     "name": "stdout",
     "output_type": "stream",
     "text": [
      "[2.5, 2.75, 2.875, 2.9375, 2.90625, 2.921875, 2.9296875, 2.92578125, 2.923828125, 2.9248046875]\n"
     ]
    },
    {
     "data": {
      "image/png": "[encoded data removed]",
      "text/latex": [
       "$\\displaystyle 10$"
      ],
      "text/plain": [
       "10"
      ]
     },
     "execution_count": 119,
     "metadata": {},
     "output_type": "execute_result"
    }
   ],
   "source": [
    "aprox = aproxBiseccion; print(aprox)\n",
    "n = len(aprox)\n",
    "n"
   ]
  },
  {
   "cell_type": "code",
   "execution_count": 120,
   "metadata": {},
   "outputs": [
    {
     "data": {
      "image/png": "[encoded data removed]",
      "text/latex": [
       "$\\displaystyle \\left[ 3.0, \\  3.0, \\  2.9166666666666665, \\  2.9166666666666665, \\  2.9375, \\  2.9270833333333335, \\  2.921875, \\  2.9244791666666665\\right]$"
      ],
      "text/plain": [
       "[3.0, 3.0, 2.9166666666666665, 2.9166666666666665, 2.9375, 2.9270833333333335,\n",
       " 2.921875, 2.9244791666666665]"
      ]
     },
     "execution_count": 120,
     "metadata": {},
     "output_type": "execute_result"
    }
   ],
   "source": [
    "k = 0; acelAitken = []; \n",
    "for k in range(n-2):\n",
    "    aproxacel = aprox[k]-(aprox[k+1]-aprox[k])**2/(aprox[k+2]-2*aprox[k+1]+aprox[k])\n",
    "    acelAitken.append(aproxacel); \n",
    "acelAitken"
   ]
  },
  {
   "cell_type": "markdown",
   "metadata": {},
   "source": [
    "Mientras que con bisección necesitamos 10 iteraciones para aproximar la solución con 2 cifras decimales exactas, con la aceleración de Aitken en la iteración 6 ya tenemos 2 cifras decimales exactas de la solución."
   ]
  },
  {
   "cell_type": "code",
   "execution_count": 121,
   "metadata": {},
   "outputs": [],
   "source": [
    "def g1(x):\n",
    "    return x+f(x)"
   ]
  },
  {
   "cell_type": "code",
   "execution_count": 122,
   "metadata": {},
   "outputs": [
    {
     "data": {
      "image/png": "[encoded data removed]",
      "text/latex": [
       "$\\displaystyle \\left[ \\left[ 2.5, \\  2.75, \\  2.875\\right], \\  \\left[ 3.0, \\  5.0, \\  105.0\\right], \\  \\left[ 2.9591836734693877, \\  3.872068610867918, \\  36.9256654349852\\right], \\  \\left[ 2.933255221359605, \\  3.1709426483406804, \\  10.054381836362147\\right], \\  \\left[ 2.924754254881128, \\  2.9436504005464084, \\  3.4506097859193456\\right], \\  \\left[ 2.9240226605057402, \\  2.924148915754538, \\  2.9275137233173703\\right], \\  \\left[ 2.9240177384336836, \\  2.9240177440975725, \\  2.9240178950381694\\right], \\  \\left[ 2.924017738212866, \\  2.924017738212866, \\  2.924017738212866\\right]\\right]$"
      ],
      "text/plain": [
       "[[2.5, 2.75, 2.875], [3.0, 5.0, 105.0], [2.9591836734693877, 3.872068610867918\n",
       ", 36.9256654349852], [2.933255221359605, 3.1709426483406804, 10.05438183636214\n",
       "7], [2.924754254881128, 2.9436504005464084, 3.4506097859193456], [2.9240226605\n",
       "057402, 2.924148915754538, 2.9275137233173703], [2.9240177384336836, 2.9240177\n",
       "440975725, 2.9240178950381694], [2.924017738212866, 2.924017738212866, 2.92401\n",
       "7738212866]]"
      ]
     },
     "execution_count": 122,
     "metadata": {},
     "output_type": "execute_result"
    }
   ],
   "source": [
    "N=8;i=0; acelSteff = [[] for j in range(8)]; \n",
    "acelSteff[0]=[aprox[j] for j in range(3)]\n",
    "for i in range(N-1):\n",
    "        aproxSteff0 = acelSteff[i][0]-(acelSteff[i][1]-acelSteff[i][0])**2/(acelSteff[i][2]-2*acelSteff[i][1]+acelSteff[i][0])\n",
    "        aproxSteff1 = g1(aproxSteff0); aproxSteff2 = g1(aproxSteff1);\n",
    "        acelSteff[i+1].append(aproxSteff0); \n",
    "        acelSteff[i+1].append(aproxSteff1);\n",
    "        acelSteff[i+1].append(aproxSteff2);\n",
    "acelSteff"
   ]
  },
  {
   "cell_type": "markdown",
   "metadata": {},
   "source": [
    "Con la aceleración de Steffensen, en la tercera iteración ya tenemos 3 cifras decimales exactas, y en la última iteración la solución es casi igual a la solución exacta. "
   ]
  },
  {
   "cell_type": "markdown",
   "metadata": {},
   "source": [
    " 7.- Programar el método de Newton-Raphson acelerado, partiendo de cierto $x_0$ adecuado: $$x_{n+1}=x_n - m\\frac{f(x_n)}{f'(x_n)}, \\quad n=0,1,2,\\ldots$$ para el caso de una raíz múltiple (de multiplicidad $m\\in\\mathbb{N}$) de una ecuación del tipo $f(x)=0$ y comparar los resultados\n",
    "con los que se obtienen mediante el empleo de los métodos de aceleración habituales de Aitken y Steffensen (según los apuntes)."
   ]
  },
  {
   "cell_type": "code",
   "execution_count": 123,
   "metadata": {},
   "outputs": [],
   "source": [
    "import numpy as np\n",
    "%matplotlib inline\n",
    "import matplotlib.pyplot as plt\n",
    "import sympy as sp #calculo simbólico\n",
    "sp.init_printing()   \n",
    "from numpy import sign\n",
    "from decimal import *\n",
    "\n",
    "from sympy.solvers import solve, nsolve, solveset\n",
    "from scipy.optimize import fsolve\n",
    "from sympy import Symbol, exp"
   ]
  },
  {
   "cell_type": "markdown",
   "metadata": {},
   "source": [
    "Consideramos la función $f(x)=(x-1)^3$, que tiene a 1 como raíz múltiple, con multiplicidad 3."
   ]
  },
  {
   "cell_type": "code",
   "execution_count": 124,
   "metadata": {},
   "outputs": [],
   "source": [
    "x=Symbol('x')\n",
    "\n",
    "def f(x):\n",
    "    ''' función con raíz múltiple'''\n",
    "    return (x-1)**3"
   ]
  },
  {
   "cell_type": "code",
   "execution_count": 125,
   "metadata": {},
   "outputs": [
    {
     "data": {
      "image/png": "[encoded data removed]",
      "text/latex": [
       "$\\displaystyle 1.0$"
      ],
      "text/plain": [
       "1.00000000000000"
      ]
     },
     "execution_count": 125,
     "metadata": {},
     "output_type": "execute_result"
    }
   ],
   "source": [
    "sol_exact = sp.solve(f(x),x)[0] \n",
    "sol_exact.evalf()"
   ]
  },
  {
   "cell_type": "code",
   "execution_count": 126,
   "metadata": {},
   "outputs": [
    {
     "data": {
      "image/png": "[encoded data removed]",
      "text/latex": [
       "$\\displaystyle \\left( \\left(x - 1\\right)^{3}, \\  3 \\left(x - 1\\right)^{2}\\right)$"
      ],
      "text/plain": [
       "⎛       3           2⎞\n",
       "⎝(x - 1) , 3⋅(x - 1) ⎠"
      ]
     },
     "execution_count": 126,
     "metadata": {},
     "output_type": "execute_result"
    }
   ],
   "source": [
    "f(x),sp.diff(f(x),x)"
   ]
  },
  {
   "cell_type": "code",
   "execution_count": 127,
   "metadata": {},
   "outputs": [
    {
     "name": "stdout",
     "output_type": "stream",
     "text": [
      "3*(x - 1)**2\n"
     ]
    }
   ],
   "source": [
    "def df(x):\n",
    "    return 3*((x-1)**2)\n",
    "print(df(x))"
   ]
  },
  {
   "cell_type": "code",
   "execution_count": 128,
   "metadata": {},
   "outputs": [],
   "source": [
    "#Ajuste de los criterios de parada\n",
    "mp = 10\n",
    "prec = 10 **(-mp) #Error máximo que tendrá la solución\n",
    "nmax = 100   #Número de iteraciones máximas\n",
    "cifras = 5 #Numero de cifras con el que queremos trabajar\n",
    "tol = 10**(-cifras) #toleracia, longitud mínima del intervalo donde está la sol"
   ]
  },
  {
   "cell_type": "code",
   "execution_count": 129,
   "metadata": {},
   "outputs": [
    {
     "name": "stdout",
     "output_type": "stream",
     "text": [
      "sale el programa por  precision\n",
      "Posiblemente solución exacta:  0.9995489070102674\n",
      "Solución exacta con  5  cifras significativas 1.0000\n",
      "Número total de iteraciones  19\n"
     ]
    }
   ],
   "source": [
    "#Newton-Raphson\n",
    "aproxNR = []\n",
    "x0 = 0; niter = 0\n",
    "for k in range(nmax):\n",
    "    niter = niter + 1;\n",
    "    x1 = x0 - f(x0)/df(x0)\n",
    "    aproxNR.append(x1);\n",
    "    if abs(x1-x0) < tol:\n",
    "        sale = 'tolerancia'\n",
    "        break\n",
    "    if abs(f(x1)) < prec:\n",
    "        sale = 'precision'\n",
    "        break\n",
    "    else:\n",
    "        x0 = x1  \n",
    "                \n",
    "print('sale el programa por ',sale)\n",
    "if sale == 'precision':\n",
    "    print('Posiblemente solución exacta: ',x1)\n",
    "elif k <= nmax:\n",
    "    print('Aproximación solicitada: ', x1)\n",
    "else:\n",
    "    print('Se llegó al número máximo de iteraciones')\n",
    "print('Solución exacta con ', cifras, ' cifras significativas', sol_exact.evalf(n=cifras))\n",
    "print('Número total de iteraciones ', niter)"
   ]
  },
  {
   "cell_type": "code",
   "execution_count": 130,
   "metadata": {},
   "outputs": [
    {
     "name": "stdout",
     "output_type": "stream",
     "text": [
      "sale el programa por  precision\n",
      "Posiblemente solución exacta:  1.0\n",
      "Solución exacta con  5  cifras significativas 1.0000\n",
      "Número total de iteraciones  1\n"
     ]
    }
   ],
   "source": [
    "#Newton-Raphson acelerado\n",
    "m=3;\n",
    "x0 = 0; niter = 0\n",
    "for k in range(nmax):\n",
    "    niter = niter + 1;\n",
    "    x1 = x0 - m*f(x0)/df(x0)\n",
    "    if abs(x1-x0) < tol:\n",
    "        sale = 'tolerancia'\n",
    "        break\n",
    "    if abs(f(x1)) < prec:\n",
    "        sale = 'precision'\n",
    "        break\n",
    "    else:\n",
    "        x0 = x1  \n",
    "                \n",
    "print('sale el programa por ',sale)\n",
    "if sale == 'precision':\n",
    "    print('Posiblemente solución exacta: ',x1)\n",
    "elif k <= nmax:\n",
    "    print('Aproximación solicitada: ', x1)\n",
    "else:\n",
    "    print('Se llegó al número máximo de iteraciones')\n",
    "print('Solución exacta con ', cifras, ' cifras significativas', sol_exact.evalf(n=cifras))\n",
    "print('Número total de iteraciones ', niter)"
   ]
  },
  {
   "cell_type": "markdown",
   "metadata": {},
   "source": [
    "Con Newton-Raphson necesitamos 19 iteraciones para obtener una aproximación de la solución, mientras que con el método de NR acelerado tras una iteración ya encuentra la solución exacta."
   ]
  },
  {
   "cell_type": "code",
   "execution_count": 131,
   "metadata": {},
   "outputs": [
    {
     "name": "stdout",
     "output_type": "stream",
     "text": [
      "[0.3333333333333333, 0.5555555555555556, 0.7037037037037037, 0.8024691358024691, 0.8683127572016461, 0.9122085048010974, 0.9414723365340649, 0.9609815576893767, 0.9739877051262511, 0.9826584700841674, 0.9884389800561116, 0.9922926533707411, 0.9948617689138274, 0.9965745126092183, 0.9977163417394789, 0.9984775611596526, 0.9989850407731017, 0.9993233605154012, 0.9995489070102674]\n"
     ]
    },
    {
     "data": {
      "image/png": "[encoded data removed]",
      "text/latex": [
       "$\\displaystyle 19$"
      ],
      "text/plain": [
       "19"
      ]
     },
     "execution_count": 131,
     "metadata": {},
     "output_type": "execute_result"
    }
   ],
   "source": [
    "aprox = aproxNR; print(aprox)\n",
    "n = len(aprox)\n",
    "n"
   ]
  },
  {
   "cell_type": "code",
   "execution_count": 132,
   "metadata": {},
   "outputs": [
    {
     "data": {
      "image/png": "[encoded data removed]",
      "text/latex": [
       "$\\displaystyle \\left[ 0.9999999999999998, \\  1.0, \\  1.0000000000000004, \\  0.9999999999999994, \\  1.0000000000000002, \\  1.0000000000000004, \\  0.9999999999999998, \\  1.0, \\  1.0000000000000004, \\  1.0, \\  0.9999999999999994, \\  1.0000000000000002, \\  1.0000000000000004, \\  0.9999999999999998, \\  0.9999999999999997, \\  1.0000000000000007, \\  0.9999999999999998\\right]$"
      ],
      "text/plain": [
       "[0.9999999999999998, 1.0, 1.0000000000000004, 0.9999999999999994, 1.0000000000\n",
       "000002, 1.0000000000000004, 0.9999999999999998, 1.0, 1.0000000000000004, 1.0, \n",
       "0.9999999999999994, 1.0000000000000002, 1.0000000000000004, 0.9999999999999998\n",
       ", 0.9999999999999997, 1.0000000000000007, 0.9999999999999998]"
      ]
     },
     "execution_count": 132,
     "metadata": {},
     "output_type": "execute_result"
    }
   ],
   "source": [
    "k = 0; acelAitken = []; \n",
    "for k in range(n-2):\n",
    "    aproxacel = aprox[k]-(aprox[k+1]-aprox[k])**2/(aprox[k+2]-2*aprox[k+1]+aprox[k])\n",
    "    acelAitken.append(aproxacel); \n",
    "acelAitken"
   ]
  },
  {
   "cell_type": "markdown",
   "metadata": {},
   "source": [
    "Con la aceleración de Aitken obtenemos la solución exacta en la segunda iteración, aunque en la primera la solución es también casi exacta."
   ]
  },
  {
   "cell_type": "code",
   "execution_count": 133,
   "metadata": {},
   "outputs": [],
   "source": [
    "def g(x):\n",
    "    return x-f(x)"
   ]
  },
  {
   "cell_type": "code",
   "execution_count": 134,
   "metadata": {},
   "outputs": [
    {
     "data": {
      "image/png": "[encoded data removed]",
      "text/latex": [
       "$\\displaystyle \\left[ \\left[ 0.3333333333333333, \\  0.5555555555555556, \\  0.7037037037037037\\right], \\  \\left[ 0.9999999999999998, \\  0.9999999999999998, \\  0.9999999999999998\\right]\\right]$"
      ],
      "text/plain": [
       "[[0.3333333333333333, 0.5555555555555556, 0.7037037037037037], [0.999999999999\n",
       "9998, 0.9999999999999998, 0.9999999999999998]]"
      ]
     },
     "execution_count": 134,
     "metadata": {},
     "output_type": "execute_result"
    }
   ],
   "source": [
    "N=2;i=0; acelSteff = [[] for j in range(2)]; \n",
    "acelSteff[0]=[aprox[j] for j in range(3)]\n",
    "for i in range(N-1):\n",
    "        aproxSteff0 = acelSteff[i][0]-(acelSteff[i][1]-acelSteff[i][0])**2/(acelSteff[i][2]-2*acelSteff[i][1]+acelSteff[i][0])\n",
    "        aproxSteff1 = g(aproxSteff0); aproxSteff2 = g(aproxSteff1);\n",
    "        acelSteff[i+1].append(aproxSteff0); \n",
    "        acelSteff[i+1].append(aproxSteff1);\n",
    "        acelSteff[i+1].append(aproxSteff2);\n",
    "acelSteff"
   ]
  },
  {
   "cell_type": "markdown",
   "metadata": {},
   "source": [
    "Con la aceleración de Steffensen obtenemos la solución prácticamente exacta en la primera iteración, y en la segunda podemos considerar que obtenemos la solución exacta pues el algoritmo incurre en división por 0.\n",
    "\n",
    "Podemos así concluir que para estos casos es mejor usar el método de Newton-Raphson acelerado, pues con una sola iteración ya obtenemos la solución exacta, mientras que con la aceleración de Steffensen y de Aitken necesitamos al menos 2 iteraciones para obtenerla."
   ]
  },
  {
   "cell_type": "markdown",
   "metadata": {},
   "source": [
    "\n",
    " 8.- Programar el conocido algoritmo de Horner para la evaluación de un polinomio y emplearlo de forma reiterativa para el cálculo del\n",
    "desarrollo de Taylor de orden $ n$ de un polinomio cualquiera. Aprovecharlo también para programar una versión especial del método de Newton-Raphson para polinomios, evaluando tanto  $ p(x_k ) $ como $ p'(x_k)$ mediante el citado algoritmo y aplicarlo para aproximar alguna de las raíces reales del siguiente polinomio\n",
    "\n",
    "$$p(x)=d_0 + d_1 x + d_2 x^2 + d_3 x^3+ d_4 x^4 + d_5 x^5 + d_6 x^6 + d_7 x^7 $$\n",
    "(siendo $d_0, d_1, \\ldots, d_7$ los dígitos de su DNI, pasaporte o tarjeta de residente)."
   ]
  },
  {
   "cell_type": "code",
   "execution_count": 135,
   "metadata": {},
   "outputs": [],
   "source": [
    "import numpy as np\n",
    "%matplotlib inline\n",
    "import matplotlib.pyplot as plt\n",
    "import sympy as sp #calculo simbólico\n",
    "sp.init_printing()   \n",
    "from numpy import sign\n",
    "from decimal import *\n",
    "\n",
    "from sympy.solvers import solve, nsolve, solveset\n",
    "from scipy.optimize import fsolve\n",
    "from sympy import Symbol, exp\n",
    "import math"
   ]
  },
  {
   "cell_type": "code",
   "execution_count": 136,
   "metadata": {},
   "outputs": [],
   "source": [
    "x=Symbol('x')"
   ]
  },
  {
   "cell_type": "code",
   "execution_count": 137,
   "metadata": {},
   "outputs": [
    {
     "name": "stdout",
     "output_type": "stream",
     "text": [
      "-5\n"
     ]
    }
   ],
   "source": [
    "#Algoritmo de Horner\n",
    "# d es el vector de los coeficientes ordenados de mayor a menor grado y x es el valor donde queremos evaluar el polinomio\n",
    "def Horner(d,x): \n",
    "    valor= 0\n",
    "    for i in range(0,len(d)):\n",
    "        valor = valor * x + d[i]\n",
    "    return valor\n",
    "\n",
    "#Lo usamos para evaluar x^3-2x^2-5 en x=2 como ejemplo:\n",
    "d = [1,-2,0,-5]\n",
    "print(Horner(d,2))"
   ]
  },
  {
   "cell_type": "code",
   "execution_count": 138,
   "metadata": {},
   "outputs": [
    {
     "data": {
      "image/png": "[encoded data removed]",
      "text/latex": [
       "$\\displaystyle \\left[ 3, \\  -4, \\  0\\right]$"
      ],
      "text/plain": [
       "[3, -4, 0]"
      ]
     },
     "execution_count": 138,
     "metadata": {},
     "output_type": "execute_result"
    }
   ],
   "source": [
    "# los coeficientes de la derivada del polinomio cuyos coeficientes pasemos como argumento\n",
    "def Derivada(d):\n",
    "    df= []\n",
    "    for i in range(0,len(d)-1):\n",
    "        df.append(d[i]*(len(d)-1-i))\n",
    "    return df\n",
    "\n",
    "#Lo usamos para obtener la derivada de x^3-2x^2-5 como ejemplo:\n",
    "d = [1,-2,0,-5]\n",
    "Derivada(d)"
   ]
  },
  {
   "cell_type": "code",
   "execution_count": 139,
   "metadata": {},
   "outputs": [
    {
     "data": {
      "image/png": "[encoded data removed]",
      "text/latex": [
       "$\\displaystyle 4 x + \\left(x - 2\\right)^{3} + 4 \\left(x - 2\\right)^{2} - 13$"
      ],
      "text/plain": [
       "             3            2     \n",
       "4⋅x + (x - 2)  + 4⋅(x - 2)  - 13"
      ]
     },
     "execution_count": 139,
     "metadata": {},
     "output_type": "execute_result"
    }
   ],
   "source": [
    "#Cálculo del desarrollo de Taylor de orden n de un polinomio en 'c'\n",
    "def DesTaylor(d,n,c):\n",
    "    taylor = Horner(d,c)\n",
    "    for k in range(1,n+1):\n",
    "        d=Derivada(d)\n",
    "        taylor = taylor + (Horner(d,c)*(x-c)**k)/math.factorial(k)\n",
    "    return taylor\n",
    "\n",
    "#Lo usamos para obtener el desarrollo de Taylor de x^3-2x^2-5 en c=2 como ejemplo:\n",
    "d = [1,-2,0,-5]\n",
    "DesTaylor(d,3,2)"
   ]
  },
  {
   "cell_type": "code",
   "execution_count": 140,
   "metadata": {},
   "outputs": [
    {
     "data": {
      "image/png": "[encoded data removed]",
      "text/latex": [
       "$\\displaystyle \\left( 9 x^{7} + 7 x^{6} + 4 x^{5} + 2 x^{4} + 9 x^{3} + 5 x^{2} + 6 x + 7, \\  63 x^{6} + 42 x^{5} + 20 x^{4} + 8 x^{3} + 27 x^{2} + 10 x + 6, \\  378 x^{5} + 210 x^{4} + 80 x^{3} + 24 x^{2} + 54 x + 10\\right)$"
      ],
      "text/plain": [
       "⎛   7      6      5      4      3      2                6       5       4     \n",
       "⎝9⋅x  + 7⋅x  + 4⋅x  + 2⋅x  + 9⋅x  + 5⋅x  + 6⋅x + 7, 63⋅x  + 42⋅x  + 20⋅x  + 8⋅\n",
       "\n",
       " 3       2                  5        4       3       2            ⎞\n",
       "x  + 27⋅x  + 10⋅x + 6, 378⋅x  + 210⋅x  + 80⋅x  + 24⋅x  + 54⋅x + 10⎠"
      ]
     },
     "execution_count": 140,
     "metadata": {},
     "output_type": "execute_result"
    }
   ],
   "source": [
    "def p(x):\n",
    "    return 7+6*x+5*x**2+9*x**3+2*x**4+4*x**5+7*x**6+9*x**7\n",
    "\n",
    "def dp(x):\n",
    "    return sp.diff(p(x),x)\n",
    "\n",
    "p(x),dp(x),sp.diff(dp(x),x)"
   ]
  },
  {
   "cell_type": "code",
   "execution_count": 141,
   "metadata": {},
   "outputs": [
    {
     "data": {
      "image/png": "[encoded data removed]",
      "text/latex": [
       "$\\displaystyle 378 x^{5} + 210 x^{4} + 80 x^{3} + 24 x^{2} + 54 x + 10$"
      ],
      "text/plain": [
       "     5        4       3       2            \n",
       "378⋅x  + 210⋅x  + 80⋅x  + 24⋅x  + 54⋅x + 10"
      ]
     },
     "execution_count": 141,
     "metadata": {},
     "output_type": "execute_result"
    }
   ],
   "source": [
    "def ddp(x):\n",
    "    return 378*x**5+210*x**4+80*x**3+24*x**2+54*x+10\n",
    "ddp(x)"
   ]
  },
  {
   "cell_type": "code",
   "execution_count": 142,
   "metadata": {},
   "outputs": [
    {
     "data": {
      "image/png": "[encoded data removed]",
      "text/latex": [
       "$\\displaystyle -0.810942936489951$"
      ],
      "text/plain": [
       "-0.810942936489951"
      ]
     },
     "execution_count": 142,
     "metadata": {},
     "output_type": "execute_result"
    }
   ],
   "source": [
    "sol_exact = sp.solve(p(x),x)[0]\n",
    "sol_exact.evalf()"
   ]
  },
  {
   "cell_type": "code",
   "execution_count": 143,
   "metadata": {},
   "outputs": [],
   "source": [
    "a=-1; b=0"
   ]
  },
  {
   "cell_type": "code",
   "execution_count": 144,
   "metadata": {},
   "outputs": [
    {
     "data": {
      "text/plain": [
       "1"
      ]
     },
     "execution_count": 144,
     "metadata": {},
     "output_type": "execute_result"
    }
   ],
   "source": [
    "sign(p(a)*ddp(a))"
   ]
  },
  {
   "cell_type": "code",
   "execution_count": 145,
   "metadata": {},
   "outputs": [],
   "source": [
    "Coefp=[9,7,4,2,9,5,6,7]"
   ]
  },
  {
   "cell_type": "code",
   "execution_count": 146,
   "metadata": {},
   "outputs": [],
   "source": [
    "#Ajuste de los criterios de parada\n",
    "mp = 10\n",
    "prec = 10 **(-mp) #Error máximo que tendrá la solución\n",
    "nmax = 100   #Número de iteraciones máximas\n",
    "cifras = 6 #Numero de cifras con el que queremos trabajar\n",
    "tol = 10**(-cifras) #toleracia, longitud mínima del intervalo donde está la sol"
   ]
  },
  {
   "cell_type": "code",
   "execution_count": 147,
   "metadata": {},
   "outputs": [
    {
     "name": "stdout",
     "output_type": "stream",
     "text": [
      "sale el programa por  tolerancia\n",
      "Aproximación solicitada:  -0.8109429364899576450315014319\n",
      "Solución exacta con  6  cifras significativas -0.810943\n",
      "Número total de iteraciones  5\n"
     ]
    }
   ],
   "source": [
    "#Newton-Raphson para polinomios\n",
    "x0 = Decimal(a); niter = 0;\n",
    "for k in range(nmax):\n",
    "    niter = niter + 1;\n",
    "    x1 = x0 - Horner(Coefp,x0)/Horner(Derivada(Coefp),x0) # método de Newton-Raphson\n",
    "    if abs(x1-x0) < tol:\n",
    "        sale = 'tolerancia'\n",
    "        break\n",
    "    if abs(Horner(Coefp,x0)) < prec:\n",
    "        sale = 'precision'\n",
    "        break\n",
    "    else:\n",
    "        x0 = x1\n",
    "                \n",
    "print('sale el programa por ', sale)\n",
    "if sale == 'precision':\n",
    "    print('Posiblemente solución exacta: ',x1)\n",
    "elif k <= nmax:\n",
    "    print('Aproximación solicitada: ', x1)\n",
    "else:\n",
    "    print('Se llegó al número máximo de iteraciones')\n",
    "print('Solución exacta con ', cifras, ' cifras significativas', sol_exact.evalf(n=cifras))\n",
    "print('Número total de iteraciones ', niter)\n",
    "\n",
    "getcontext().prec = mporig # Se restaura la precisión por defecto"
   ]
  },
  {
   "cell_type": "markdown",
   "metadata": {},
   "source": [
    "## Regula-Falsi"
   ]
  },
  {
   "cell_type": "code",
   "execution_count": 148,
   "metadata": {},
   "outputs": [],
   "source": [
    "import numpy as np\n",
    "%matplotlib inline\n",
    "import matplotlib.pyplot as plt\n",
    "import sympy as sp #calculo simbólico\n",
    "sp.init_printing()   \n",
    "from numpy import sign\n",
    "from decimal import *\n",
    "\n",
    "from sympy.solvers import solve, nsolve, solveset\n",
    "from scipy.optimize import fsolve\n",
    "from sympy import Symbol, exp"
   ]
  },
  {
   "cell_type": "markdown",
   "metadata": {},
   "source": [
    "Aplicamos el método de Regula-Falsi para aproximar la solución del ejercicio 1."
   ]
  },
  {
   "cell_type": "code",
   "execution_count": 149,
   "metadata": {},
   "outputs": [],
   "source": [
    "def f(x):\n",
    "    ''' función ejer1'''\n",
    "    return x**3+4*x**2-10"
   ]
  },
  {
   "cell_type": "code",
   "execution_count": 150,
   "metadata": {},
   "outputs": [],
   "source": [
    "a = 1; b = 2;"
   ]
  },
  {
   "cell_type": "code",
   "execution_count": 151,
   "metadata": {
    "scrolled": true
   },
   "outputs": [
    {
     "data": {
      "image/png": "[encoded data removed]",
      "text/latex": [
       "$\\displaystyle 1.3652300134141$"
      ],
      "text/plain": [
       "1.36523001341410"
      ]
     },
     "execution_count": 151,
     "metadata": {},
     "output_type": "execute_result"
    }
   ],
   "source": [
    "sol_exact = sp.solve(f(x),x)[2] #la última solución es la real, las otras son complejas\n",
    "sol_exact.evalf()"
   ]
  },
  {
   "cell_type": "code",
   "execution_count": 152,
   "metadata": {},
   "outputs": [],
   "source": [
    "#Ajuste de los criterios de parada\n",
    "mp = 10\n",
    "prec = 10 **(-mp) #Error máximo que tendrá la solución\n",
    "nmax = 100   #Número de iteraciones máximas\n",
    "cifras = 4 #Numero de cifras con el que queremos trabajar\n",
    "tol = 10**(-cifras) #toleracia, longitud mínima del intervalo donde está la sol"
   ]
  },
  {
   "cell_type": "code",
   "execution_count": 153,
   "metadata": {},
   "outputs": [
    {
     "name": "stdout",
     "output_type": "stream",
     "text": [
      "Posiblemente solución exacta:  1.36523001341240490802420026739127933979034423828125\n",
      "Solución exacta con  4  cifras significativas 1.365\n",
      "Número total de iteraciones  19\n"
     ]
    }
   ],
   "source": [
    "#Regula_Falsi\n",
    "niter = 0; getcontext().prec = mp  #10 cifras \n",
    "for k in range(nmax):\n",
    "    niter = niter + 1;\n",
    "    c = b-((a-b)*f(b))/(f(a)-f(b))\n",
    "    if abs(f(c)) < prec:\n",
    "        sale = 'precision'\n",
    "        break\n",
    "    if sign(f(a)) != sign(f(c)):\n",
    "        b = c\n",
    "    else:\n",
    "        a = c\n",
    "    if b-a < tol: \n",
    "        sale = 'tolerancia'\n",
    "        break\n",
    "        \n",
    "if sale == 'precision':\n",
    "    print('Posiblemente solución exacta: ',Decimal(c)) \n",
    "elif k <= nmax:\n",
    "    print('Aproximación solicitada: ',Decimal(c))\n",
    "else:\n",
    "    print('Se llegó al número máximo de iteraciones')\n",
    "print('Solución exacta con ', cifras, ' cifras significativas', sol_exact.evalf(n=cifras))\n",
    "print('Número total de iteraciones ', niter)\n",
    "\n",
    "a = a0; b = b0 # Restauramos los valores originales de a y b\n",
    "getcontext().prec = mporig # así como la precisión por defecto"
   ]
  }
 ],
 "metadata": {
  "kernelspec": {
   "display_name": "Python 3",
   "language": "python",
   "name": "python3"
  },
  "language_info": {
   "codemirror_mode": {
    "name": "ipython",
    "version": 3
   },
   "file_extension": ".py",
   "mimetype": "text/x-python",
   "name": "python",
   "nbconvert_exporter": "python",
   "pygments_lexer": "ipython3",
   "version": "3.5.2"
  }
 },
 "nbformat": 4,
 "nbformat_minor": 2
}
